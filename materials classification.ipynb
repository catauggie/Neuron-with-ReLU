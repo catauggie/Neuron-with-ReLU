{
 "cells": [
  {
   "cell_type": "code",
   "execution_count": 15,
   "id": "fb3e1dc9",
   "metadata": {},
   "outputs": [],
   "source": [
    "%matplotlib inline\n",
    "import pandas as pd\n",
    "import seaborn as sns\n",
    "import matplotlib.pyplot as plt"
   ]
  },
  {
   "cell_type": "code",
   "execution_count": 16,
   "id": "9b1760b2",
   "metadata": {},
   "outputs": [],
   "source": [
    "data = pd.read_excel('Копия БД SLM (образец).xlsx')"
   ]
  },
  {
   "cell_type": "code",
   "execution_count": 17,
   "id": "c72f9b6d",
   "metadata": {},
   "outputs": [
    {
     "data": {
      "text/html": [
       "<div>\n",
       "<style scoped>\n",
       "    .dataframe tbody tr th:only-of-type {\n",
       "        vertical-align: middle;\n",
       "    }\n",
       "\n",
       "    .dataframe tbody tr th {\n",
       "        vertical-align: top;\n",
       "    }\n",
       "\n",
       "    .dataframe thead th {\n",
       "        text-align: right;\n",
       "    }\n",
       "</style>\n",
       "<table border=\"1\" class=\"dataframe\">\n",
       "  <thead>\n",
       "    <tr style=\"text-align: right;\">\n",
       "      <th></th>\n",
       "      <th>ID</th>\n",
       "      <th>Марка</th>\n",
       "      <th>Группа материала</th>\n",
       "      <th>Класс</th>\n",
       "      <th>Отрасль применения</th>\n",
       "      <th>Область применения</th>\n",
       "      <th>Форма частиц</th>\n",
       "      <th>Cредний размер частиц. мкм (объемное распределение)</th>\n",
       "      <th>Шероховатость поверхности. мкм (после построения)</th>\n",
       "      <th>Защитная среда</th>\n",
       "      <th>...</th>\n",
       "      <th>Предел прочности. МПа</th>\n",
       "      <th>Температура плавления. ⁰С</th>\n",
       "      <th>Максимальная температура применения составляет. ⁰С</th>\n",
       "      <th>Разница значение осей\\nэквивалентного эллипса гранул W. мкм</th>\n",
       "      <th>Площадь\\nповерхности гранулы S пов.\\nмкм²</th>\n",
       "      <th>Площадь\\nпроекции гранулы S экв.\\nмкм²</th>\n",
       "      <th>Минимальная рекомендуемая толщина слоя. мкм</th>\n",
       "      <th>Минимальная толщина стенки. мм</th>\n",
       "      <th>Методы изготовления порошка</th>\n",
       "      <th>Фирмы производители и поставщики</th>\n",
       "    </tr>\n",
       "  </thead>\n",
       "  <tbody>\n",
       "    <tr>\n",
       "      <th>0</th>\n",
       "      <td>1</td>\n",
       "      <td>AlSi10Mg (DE)</td>\n",
       "      <td>Металл</td>\n",
       "      <td>Алюминиевый сплав</td>\n",
       "      <td>Аэрокосмическая отрасль. \\nавтомобильная промы...</td>\n",
       "      <td>Изготовление тонкостенных деталей с невысокой ...</td>\n",
       "      <td>Сфероидная. характерно наличие мелких сателлит...</td>\n",
       "      <td>39.62</td>\n",
       "      <td>Ra 15 — 19\\n Rz 30 — 40</td>\n",
       "      <td>аргон</td>\n",
       "      <td>...</td>\n",
       "      <td>397.0</td>\n",
       "      <td>590.0</td>\n",
       "      <td>500.0</td>\n",
       "      <td>2.0</td>\n",
       "      <td>49.199</td>\n",
       "      <td>46.612</td>\n",
       "      <td>30.0</td>\n",
       "      <td>0.4</td>\n",
       "      <td>Electrode Induction Guide Inert Gas Atomizatio...</td>\n",
       "      <td>Concept Laser (DE). EOS (DE). \\nSLM Solution (...</td>\n",
       "    </tr>\n",
       "    <tr>\n",
       "      <th>1</th>\n",
       "      <td>2</td>\n",
       "      <td>316L (US)</td>\n",
       "      <td>Металл</td>\n",
       "      <td>Нержавеющая сталь</td>\n",
       "      <td>Авиастроение.\\n пищевая промышленность. \\nхими...</td>\n",
       "      <td>Изготовление металлических рам  для морской и ...</td>\n",
       "      <td>Сфероидная. характерно наличие мелких сателлит...</td>\n",
       "      <td>36.19</td>\n",
       "      <td>Ra 13 — 5 \\nRz 80 — 20</td>\n",
       "      <td>азот</td>\n",
       "      <td>...</td>\n",
       "      <td>580.0</td>\n",
       "      <td>1440.0</td>\n",
       "      <td>550.0</td>\n",
       "      <td>1.0</td>\n",
       "      <td>35.912</td>\n",
       "      <td>34.712</td>\n",
       "      <td>25.0</td>\n",
       "      <td>0.4</td>\n",
       "      <td>Vacuum Induction Melt Inert Gas Atomization (V...</td>\n",
       "      <td>3D Systems (US).  Realizer (DE).\\n Phenix Syst...</td>\n",
       "    </tr>\n",
       "    <tr>\n",
       "      <th>2</th>\n",
       "      <td>3</td>\n",
       "      <td>Ti6Al4V (JP)</td>\n",
       "      <td>Металл</td>\n",
       "      <td>Титановый сплав</td>\n",
       "      <td>Технология машиностроения. \\nмедицина. \\nавтом...</td>\n",
       "      <td>Изготовление биомеханических протезов и детале...</td>\n",
       "      <td>Сфероидная. характерно наличие мелких сателлит...</td>\n",
       "      <td>24.86</td>\n",
       "      <td>Ra 15 — 19\\n Rz 96 — 115</td>\n",
       "      <td>аргон</td>\n",
       "      <td>...</td>\n",
       "      <td>570.0</td>\n",
       "      <td>1600.0</td>\n",
       "      <td>400.0</td>\n",
       "      <td>1.0</td>\n",
       "      <td>48.182</td>\n",
       "      <td>42.231</td>\n",
       "      <td>20.0</td>\n",
       "      <td>0.4</td>\n",
       "      <td>Electrode Induction Guide Inert Gas Atomizatio...</td>\n",
       "      <td>Concept Laser (DE). SLM Solutions (DE).  \\nRay...</td>\n",
       "    </tr>\n",
       "    <tr>\n",
       "      <th>3</th>\n",
       "      <td>4</td>\n",
       "      <td>Inconel 718 (US)</td>\n",
       "      <td>Металл</td>\n",
       "      <td>Никельхромовый сплав</td>\n",
       "      <td>Ракетнокосмическая промышленность. авиастроение\\n</td>\n",
       "      <td>Изготовление турбин и \\nракетных двигателей</td>\n",
       "      <td>Сфероидная. характерно наличие мелких сателлит...</td>\n",
       "      <td>44.56</td>\n",
       "      <td>Ra 10 — 15\\n Rz 50 — 90</td>\n",
       "      <td>азот</td>\n",
       "      <td>...</td>\n",
       "      <td>1200.0</td>\n",
       "      <td>1260.0</td>\n",
       "      <td>704.0</td>\n",
       "      <td>1.0</td>\n",
       "      <td>48.673</td>\n",
       "      <td>43.198</td>\n",
       "      <td>20.0</td>\n",
       "      <td>0.3</td>\n",
       "      <td>Vacuum Induction Melt Inert Gas Atomization (V...</td>\n",
       "      <td>Special Metals Corporation (US).  \\nSLM Solut...</td>\n",
       "    </tr>\n",
       "    <tr>\n",
       "      <th>4</th>\n",
       "      <td>5</td>\n",
       "      <td>PA12 (DE)</td>\n",
       "      <td>Полимер</td>\n",
       "      <td>Полиамид</td>\n",
       "      <td>Электротехническая. радиотехническая. автомоб...</td>\n",
       "      <td>Трубки. фитинги. шланги. штуцеры. крышки</td>\n",
       "      <td>Сфероидная. характерно наличие мелких сателлит...</td>\n",
       "      <td>38.51</td>\n",
       "      <td>Ra 10 — 11\\n Rz 30 — 50</td>\n",
       "      <td>нет</td>\n",
       "      <td>...</td>\n",
       "      <td>100.0</td>\n",
       "      <td>178.0</td>\n",
       "      <td>120.0</td>\n",
       "      <td>1.0</td>\n",
       "      <td>38.911</td>\n",
       "      <td>35.129</td>\n",
       "      <td>30.0</td>\n",
       "      <td>0.8</td>\n",
       "      <td>Vacuum Induction Melt Inert Gas Atomization (V...</td>\n",
       "      <td>Hangzhou Guozhen Wanxin Coating \\nEquipments M...</td>\n",
       "    </tr>\n",
       "  </tbody>\n",
       "</table>\n",
       "<p>5 rows × 58 columns</p>\n",
       "</div>"
      ],
      "text/plain": [
       "   ID              Марка Группа материала                 Класс  \\\n",
       "0    1     AlSi10Mg (DE)           Металл     Алюминиевый сплав   \n",
       "1    2         316L (US)           Металл     Нержавеющая сталь   \n",
       "2    3      Ti6Al4V (JP)           Металл       Титановый сплав   \n",
       "3    4  Inconel 718 (US)           Металл  Никельхромовый сплав   \n",
       "4    5         PA12 (DE)          Полимер              Полиамид   \n",
       "\n",
       "                                  Отрасль применения  \\\n",
       "0  Аэрокосмическая отрасль. \\nавтомобильная промы...   \n",
       "1  Авиастроение.\\n пищевая промышленность. \\nхими...   \n",
       "2  Технология машиностроения. \\nмедицина. \\nавтом...   \n",
       "3  Ракетнокосмическая промышленность. авиастроение\\n   \n",
       "4   Электротехническая. радиотехническая. автомоб...   \n",
       "\n",
       "                                  Область применения  \\\n",
       "0  Изготовление тонкостенных деталей с невысокой ...   \n",
       "1  Изготовление металлических рам  для морской и ...   \n",
       "2  Изготовление биомеханических протезов и детале...   \n",
       "3        Изготовление турбин и \\nракетных двигателей   \n",
       "4           Трубки. фитинги. шланги. штуцеры. крышки   \n",
       "\n",
       "                                        Форма частиц  \\\n",
       "0  Сфероидная. характерно наличие мелких сателлит...   \n",
       "1  Сфероидная. характерно наличие мелких сателлит...   \n",
       "2  Сфероидная. характерно наличие мелких сателлит...   \n",
       "3  Сфероидная. характерно наличие мелких сателлит...   \n",
       "4  Сфероидная. характерно наличие мелких сателлит...   \n",
       "\n",
       "  Cредний размер частиц. мкм (объемное распределение)  \\\n",
       "0                                              39.62    \n",
       "1                                              36.19    \n",
       "2                                              24.86    \n",
       "3                                              44.56    \n",
       "4                                              38.51    \n",
       "\n",
       "  Шероховатость поверхности. мкм (после построения) Защитная среда  ...  \\\n",
       "0                           Ra 15 — 19\\n Rz 30 — 40          аргон  ...   \n",
       "1                            Ra 13 — 5 \\nRz 80 — 20           азот  ...   \n",
       "2                         Ra 15 — 19\\n Rz 96 — 115           аргон  ...   \n",
       "3                          Ra 10 — 15\\n Rz 50 — 90            азот  ...   \n",
       "4                          Ra 10 — 11\\n Rz 30 — 50             нет  ...   \n",
       "\n",
       "  Предел прочности. МПа Температура плавления. ⁰С  \\\n",
       "0                 397.0                     590.0   \n",
       "1                 580.0                    1440.0   \n",
       "2                 570.0                    1600.0   \n",
       "3                1200.0                    1260.0   \n",
       "4                 100.0                     178.0   \n",
       "\n",
       "  Максимальная температура применения составляет. ⁰С  \\\n",
       "0                                              500.0   \n",
       "1                                              550.0   \n",
       "2                                              400.0   \n",
       "3                                              704.0   \n",
       "4                                              120.0   \n",
       "\n",
       "  Разница значение осей\\nэквивалентного эллипса гранул W. мкм  \\\n",
       "0                                                2.0            \n",
       "1                                                1.0            \n",
       "2                                                1.0            \n",
       "3                                                1.0            \n",
       "4                                                1.0            \n",
       "\n",
       "  Площадь\\nповерхности гранулы S пов.\\nмкм²  \\\n",
       "0                                    49.199   \n",
       "1                                    35.912   \n",
       "2                                    48.182   \n",
       "3                                    48.673   \n",
       "4                                    38.911   \n",
       "\n",
       "   Площадь\\nпроекции гранулы S экв.\\nмкм²  \\\n",
       "0                                  46.612   \n",
       "1                                  34.712   \n",
       "2                                  42.231   \n",
       "3                                  43.198   \n",
       "4                                  35.129   \n",
       "\n",
       "   Минимальная рекомендуемая толщина слоя. мкм  \\\n",
       "0                                         30.0   \n",
       "1                                         25.0   \n",
       "2                                         20.0   \n",
       "3                                         20.0   \n",
       "4                                         30.0   \n",
       "\n",
       "   Минимальная толщина стенки. мм  \\\n",
       "0                             0.4   \n",
       "1                             0.4   \n",
       "2                             0.4   \n",
       "3                             0.3   \n",
       "4                             0.8   \n",
       "\n",
       "                         Методы изготовления порошка  \\\n",
       "0  Electrode Induction Guide Inert Gas Atomizatio...   \n",
       "1  Vacuum Induction Melt Inert Gas Atomization (V...   \n",
       "2  Electrode Induction Guide Inert Gas Atomizatio...   \n",
       "3  Vacuum Induction Melt Inert Gas Atomization (V...   \n",
       "4  Vacuum Induction Melt Inert Gas Atomization (V...   \n",
       "\n",
       "                    Фирмы производители и поставщики  \n",
       "0  Concept Laser (DE). EOS (DE). \\nSLM Solution (...  \n",
       "1  3D Systems (US).  Realizer (DE).\\n Phenix Syst...  \n",
       "2  Concept Laser (DE). SLM Solutions (DE).  \\nRay...  \n",
       "3   Special Metals Corporation (US).  \\nSLM Solut...  \n",
       "4  Hangzhou Guozhen Wanxin Coating \\nEquipments M...  \n",
       "\n",
       "[5 rows x 58 columns]"
      ]
     },
     "execution_count": 17,
     "metadata": {},
     "output_type": "execute_result"
    }
   ],
   "source": [
    "data.head()"
   ]
  },
  {
   "cell_type": "code",
   "execution_count": 18,
   "id": "b81a5b96",
   "metadata": {},
   "outputs": [],
   "source": [
    "elements = [f for f in data.columns if '%' in f]\n",
    "elem = data[elements]"
   ]
  },
  {
   "cell_type": "code",
   "execution_count": 19,
   "id": "8a559ce8",
   "metadata": {},
   "outputs": [
    {
     "data": {
      "text/plain": [
       "(262, 32)"
      ]
     },
     "execution_count": 19,
     "metadata": {},
     "output_type": "execute_result"
    }
   ],
   "source": [
    "elem.shape"
   ]
  },
  {
   "cell_type": "code",
   "execution_count": 44,
   "id": "93b21f1a",
   "metadata": {},
   "outputs": [
    {
     "name": "stderr",
     "output_type": "stream",
     "text": [
      "No artists with labels found to put in legend.  Note that artists whose label start with an underscore are ignored when legend() is called with no argument.\n"
     ]
    },
    {
     "data": {
      "image/png": "[encoded data removed]",
      "text/plain": [
       "<Figure size 1600x1200 with 32 Axes>"
      ]
     },
     "metadata": {},
     "output_type": "display_data"
    }
   ],
   "source": [
    "plt.figure(figsize=(16, 12))\n",
    "plt.title('Частота появления элемента для разных материалов')\n",
    "for i, col in enumerate(elem.columns):\n",
    "    plt.subplot(4, 8, i+1)\n",
    "    plt.pie(elem[col].value_counts(), autopct = \"%0.2f%%\")#, labels = elem[col].value_counts().keys())    \n",
    "    plt.title(col)\n",
    "plt.legend()\n",
    "plt.show()"
   ]
  },
  {
   "cell_type": "code",
   "execution_count": 6,
   "id": "f1c14bd1",
   "metadata": {},
   "outputs": [
    {
     "data": {
      "text/plain": [
       "<AxesSubplot:>"
      ]
     },
     "execution_count": 6,
     "metadata": {},
     "output_type": "execute_result"
    },
    {
     "data": {
      "image/png": "[encoded data removed]",
      "text/plain": [
       "<Figure size 640x480 with 2 Axes>"
      ]
     },
     "metadata": {},
     "output_type": "display_data"
    }
   ],
   "source": [
    "sns.heatmap(elem.corr(), \n",
    "            vmin=-1, vmax=1, center= 0, cmap= 'coolwarm', square=True)"
   ]
  },
  {
   "cell_type": "markdown",
   "id": "29b9a4e6",
   "metadata": {},
   "source": [
    "# KNN"
   ]
  },
  {
   "cell_type": "code",
   "execution_count": 20,
   "id": "93c0d944",
   "metadata": {},
   "outputs": [],
   "source": [
    "from sklearn import preprocessing \n",
    "from sklearn.datasets import make_blobs\n",
    "from sklearn.preprocessing import StandardScaler"
   ]
  },
  {
   "cell_type": "code",
   "execution_count": 21,
   "id": "4437276f",
   "metadata": {},
   "outputs": [],
   "source": [
    "# целевая переменная\n",
    "y = data['Класс']\n",
    "X = elem"
   ]
  },
  {
   "cell_type": "code",
   "execution_count": 22,
   "id": "549741d3",
   "metadata": {},
   "outputs": [],
   "source": [
    "X_new = X.fillna(0)"
   ]
  },
  {
   "cell_type": "code",
   "execution_count": 23,
   "id": "72538296",
   "metadata": {},
   "outputs": [
    {
     "name": "stdout",
     "output_type": "stream",
     "text": [
      "<class 'pandas.core.frame.DataFrame'>\n",
      "RangeIndex: 262 entries, 0 to 261\n",
      "Data columns (total 32 columns):\n",
      " #   Column  Non-Null Count  Dtype  \n",
      "---  ------  --------------  -----  \n",
      " 0   Al, %   262 non-null    float64\n",
      " 1   Si, %   262 non-null    float64\n",
      " 2   Mg, %   262 non-null    float64\n",
      " 3   Mn, %   262 non-null    float64\n",
      " 4   Fe, %   262 non-null    float64\n",
      " 5   Cu, %   262 non-null    float64\n",
      " 6   Zn, %   262 non-null    float64\n",
      " 7   Ti, %   262 non-null    float64\n",
      " 8   TiC, %  262 non-null    float64\n",
      " 9   Cr, %   262 non-null    float64\n",
      " 10  Ni, %   262 non-null    float64\n",
      " 11  Mo, %   262 non-null    float64\n",
      " 12  C, %    262 non-null    float64\n",
      " 13  P, %    262 non-null    float64\n",
      " 14  V, %    262 non-null    float64\n",
      " 15  O, %    262 non-null    float64\n",
      " 16  N, %    262 non-null    float64\n",
      " 17  Nb, %   262 non-null    float64\n",
      " 18  B, %    262 non-null    float64\n",
      " 19  S, %    262 non-null    float64\n",
      " 20  Co, %   262 non-null    float64\n",
      " 21  H, %    262 non-null    float64\n",
      " 22  Pb, %   262 non-null    float64\n",
      " 23  Sn, %   262 non-null    float64\n",
      " 24  Sb, %   262 non-null    float64\n",
      " 25  Cd, %   262 non-null    float64\n",
      " 26  Au, %   262 non-null    float64\n",
      " 27  Pd, %   262 non-null    float64\n",
      " 28  Ir, %   262 non-null    float64\n",
      " 29  Se, %   262 non-null    float64\n",
      " 30  W, %    262 non-null    float64\n",
      " 31  Ag, %   262 non-null    float64\n",
      "dtypes: float64(32)\n",
      "memory usage: 65.6 KB\n"
     ]
    }
   ],
   "source": [
    "X_new.info()"
   ]
  },
  {
   "cell_type": "code",
   "execution_count": 24,
   "id": "df071848",
   "metadata": {},
   "outputs": [],
   "source": [
    "scaler = StandardScaler()\n",
    "\n",
    "X_new_scaled = scaler.fit_transform(X_new)"
   ]
  },
  {
   "cell_type": "code",
   "execution_count": 28,
   "id": "55d56cea",
   "metadata": {},
   "outputs": [],
   "source": [
    "encoded_X=pd.get_dummies(X_new)"
   ]
  },
  {
   "cell_type": "code",
   "execution_count": 87,
   "id": "dc5cd4d2",
   "metadata": {},
   "outputs": [],
   "source": [
    "my_label = preprocessing.LabelEncoder()  \n",
    "encoded_y= my_label.fit_transform(y)  "
   ]
  },
  {
   "cell_type": "code",
   "execution_count": 31,
   "id": "beed883a",
   "metadata": {},
   "outputs": [],
   "source": [
    "from sklearn.neighbors import KNeighborsClassifier\n",
    "from sklearn.metrics import accuracy_score\n",
    "from sklearn.model_selection import StratifiedKFold, train_test_split\n",
    "\n",
    "knn = KNeighborsClassifier(n_neighbors=len(set(encoded_y)))"
   ]
  },
  {
   "cell_type": "code",
   "execution_count": 32,
   "id": "be4ef147",
   "metadata": {},
   "outputs": [],
   "source": [
    "X_train, X_holdout, y_train, y_holdout = train_test_split(\n",
    "    X_new_scaled, y, test_size=0.3, random_state=17\n",
    ")"
   ]
  },
  {
   "cell_type": "code",
   "execution_count": 33,
   "id": "8ef40072",
   "metadata": {},
   "outputs": [
    {
     "data": {
      "text/plain": [
       "KNeighborsClassifier(n_neighbors=18)"
      ]
     },
     "execution_count": 33,
     "metadata": {},
     "output_type": "execute_result"
    }
   ],
   "source": [
    "knn.fit(X_train, y_train)"
   ]
  },
  {
   "cell_type": "code",
   "execution_count": 34,
   "id": "333a24f1",
   "metadata": {},
   "outputs": [
    {
     "name": "stderr",
     "output_type": "stream",
     "text": [
      "C:\\Users\\ivan\\anaconda3\\lib\\site-packages\\sklearn\\neighbors\\_classification.py:228: FutureWarning: Unlike other reduction functions (e.g. `skew`, `kurtosis`), the default behavior of `mode` typically preserves the axis it acts along. In SciPy 1.11.0, this behavior will change: the default value of `keepdims` will become False, the `axis` over which the statistic is taken will be eliminated, and the value None will no longer be accepted. Set `keepdims` to True or False to avoid this warning.\n",
      "  mode, _ = stats.mode(_y[neigh_ind, k], axis=1)\n"
     ]
    },
    {
     "data": {
      "text/plain": [
       "0.6708860759493671"
      ]
     },
     "execution_count": 34,
     "metadata": {},
     "output_type": "execute_result"
    }
   ],
   "source": [
    "knn_pred = knn.predict(X_holdout)\n",
    "accuracy_score(y_holdout, knn_pred)"
   ]
  },
  {
   "cell_type": "markdown",
   "id": "efd68cb3",
   "metadata": {},
   "source": [
    "# PCA"
   ]
  },
  {
   "cell_type": "code",
   "execution_count": 35,
   "id": "7046b563",
   "metadata": {},
   "outputs": [],
   "source": [
    "import numpy as np\n",
    "from sklearn.decomposition import PCA"
   ]
  },
  {
   "cell_type": "code",
   "execution_count": 51,
   "id": "28790ef8",
   "metadata": {},
   "outputs": [
    {
     "name": "stdout",
     "output_type": "stream",
     "text": [
      "Projecting 32-dimensional data to 2D\n"
     ]
    },
    {
     "data": {
      "image/png": "[encoded data removed]",
      "text/plain": [
       "<Figure size 800x600 with 2 Axes>"
      ]
     },
     "metadata": {},
     "output_type": "display_data"
    }
   ],
   "source": [
    "pca = PCA(n_components=6)\n",
    "X_reduced = pca.fit_transform(X_new)\n",
    "\n",
    "print('Projecting %d-dimensional data to 2D' % X.shape[1])\n",
    "\n",
    "plt.figure(figsize=(8, 6))\n",
    "plt.scatter(X_reduced[:, 0], X_reduced[:, 1], c=encoded_y, \n",
    "            edgecolor='none', alpha=0.7, s=40,\n",
    "            cmap=plt.cm.get_cmap('nipy_spectral', 10))\n",
    "plt.colorbar()\n",
    "plt.show()"
   ]
  },
  {
   "cell_type": "markdown",
   "id": "6e95c636",
   "metadata": {},
   "source": [
    "# RF"
   ]
  },
  {
   "cell_type": "code",
   "execution_count": 37,
   "id": "3884725a",
   "metadata": {},
   "outputs": [],
   "source": [
    "from sklearn.ensemble import RandomForestRegressor\n",
    "from sklearn.metrics import mean_squared_error\n",
    "from sklearn.metrics import roc_auc_score"
   ]
  },
  {
   "cell_type": "code",
   "execution_count": 38,
   "id": "8c156a5c",
   "metadata": {},
   "outputs": [],
   "source": [
    "forest = RandomForestRegressor(random_state=17, n_estimators = 10)"
   ]
  },
  {
   "cell_type": "code",
   "execution_count": 39,
   "id": "6eb37650",
   "metadata": {},
   "outputs": [],
   "source": [
    "X_train, X_holdout, y_train, y_holdout = train_test_split(X_new, encoded_y, test_size=0.3, random_state=17)"
   ]
  },
  {
   "cell_type": "code",
   "execution_count": 40,
   "id": "0dba06e5",
   "metadata": {},
   "outputs": [
    {
     "data": {
      "text/plain": [
       "RandomForestRegressor(n_estimators=10, random_state=17)"
      ]
     },
     "execution_count": 40,
     "metadata": {},
     "output_type": "execute_result"
    }
   ],
   "source": [
    "forest.fit(X_train, y_train)"
   ]
  },
  {
   "cell_type": "code",
   "execution_count": 41,
   "id": "13c291f7",
   "metadata": {},
   "outputs": [
    {
     "name": "stdout",
     "output_type": "stream",
     "text": [
      "MSE=1.712371\n"
     ]
    }
   ],
   "source": [
    "print('MSE=%f' % np.sqrt(mean_squared_error(y_train, \n",
    "                                 forest.predict(X_train))))"
   ]
  },
  {
   "cell_type": "code",
   "execution_count": 42,
   "id": "aaa47f59",
   "metadata": {},
   "outputs": [
    {
     "data": {
      "text/html": [
       "<div>\n",
       "<style scoped>\n",
       "    .dataframe tbody tr th:only-of-type {\n",
       "        vertical-align: middle;\n",
       "    }\n",
       "\n",
       "    .dataframe tbody tr th {\n",
       "        vertical-align: top;\n",
       "    }\n",
       "\n",
       "    .dataframe thead th {\n",
       "        text-align: right;\n",
       "    }\n",
       "</style>\n",
       "<table border=\"1\" class=\"dataframe\">\n",
       "  <thead>\n",
       "    <tr style=\"text-align: right;\">\n",
       "      <th></th>\n",
       "      <th>coef</th>\n",
       "    </tr>\n",
       "  </thead>\n",
       "  <tbody>\n",
       "    <tr>\n",
       "      <th>Al, %</th>\n",
       "      <td>0.210023</td>\n",
       "    </tr>\n",
       "    <tr>\n",
       "      <th>Fe, %</th>\n",
       "      <td>0.207548</td>\n",
       "    </tr>\n",
       "    <tr>\n",
       "      <th>Co, %</th>\n",
       "      <td>0.160696</td>\n",
       "    </tr>\n",
       "    <tr>\n",
       "      <th>V, %</th>\n",
       "      <td>0.104524</td>\n",
       "    </tr>\n",
       "    <tr>\n",
       "      <th>Ni, %</th>\n",
       "      <td>0.079130</td>\n",
       "    </tr>\n",
       "    <tr>\n",
       "      <th>O, %</th>\n",
       "      <td>0.069378</td>\n",
       "    </tr>\n",
       "    <tr>\n",
       "      <th>C, %</th>\n",
       "      <td>0.051364</td>\n",
       "    </tr>\n",
       "    <tr>\n",
       "      <th>TiC, %</th>\n",
       "      <td>0.028535</td>\n",
       "    </tr>\n",
       "    <tr>\n",
       "      <th>Mn, %</th>\n",
       "      <td>0.018637</td>\n",
       "    </tr>\n",
       "    <tr>\n",
       "      <th>P, %</th>\n",
       "      <td>0.011729</td>\n",
       "    </tr>\n",
       "    <tr>\n",
       "      <th>N, %</th>\n",
       "      <td>0.009778</td>\n",
       "    </tr>\n",
       "    <tr>\n",
       "      <th>Ti, %</th>\n",
       "      <td>0.009233</td>\n",
       "    </tr>\n",
       "    <tr>\n",
       "      <th>Ag, %</th>\n",
       "      <td>0.008686</td>\n",
       "    </tr>\n",
       "    <tr>\n",
       "      <th>Sn, %</th>\n",
       "      <td>0.007215</td>\n",
       "    </tr>\n",
       "    <tr>\n",
       "      <th>Si, %</th>\n",
       "      <td>0.006641</td>\n",
       "    </tr>\n",
       "    <tr>\n",
       "      <th>Pb, %</th>\n",
       "      <td>0.006388</td>\n",
       "    </tr>\n",
       "    <tr>\n",
       "      <th>Sb, %</th>\n",
       "      <td>0.003930</td>\n",
       "    </tr>\n",
       "    <tr>\n",
       "      <th>Cr, %</th>\n",
       "      <td>0.001397</td>\n",
       "    </tr>\n",
       "    <tr>\n",
       "      <th>Mg, %</th>\n",
       "      <td>0.001033</td>\n",
       "    </tr>\n",
       "    <tr>\n",
       "      <th>S, %</th>\n",
       "      <td>0.000914</td>\n",
       "    </tr>\n",
       "    <tr>\n",
       "      <th>B, %</th>\n",
       "      <td>0.000845</td>\n",
       "    </tr>\n",
       "    <tr>\n",
       "      <th>Nb, %</th>\n",
       "      <td>0.000669</td>\n",
       "    </tr>\n",
       "    <tr>\n",
       "      <th>Cu, %</th>\n",
       "      <td>0.000640</td>\n",
       "    </tr>\n",
       "    <tr>\n",
       "      <th>H, %</th>\n",
       "      <td>0.000478</td>\n",
       "    </tr>\n",
       "    <tr>\n",
       "      <th>Au, %</th>\n",
       "      <td>0.000244</td>\n",
       "    </tr>\n",
       "    <tr>\n",
       "      <th>Mo, %</th>\n",
       "      <td>0.000217</td>\n",
       "    </tr>\n",
       "    <tr>\n",
       "      <th>Zn, %</th>\n",
       "      <td>0.000056</td>\n",
       "    </tr>\n",
       "    <tr>\n",
       "      <th>Pd, %</th>\n",
       "      <td>0.000039</td>\n",
       "    </tr>\n",
       "    <tr>\n",
       "      <th>Cd, %</th>\n",
       "      <td>0.000031</td>\n",
       "    </tr>\n",
       "    <tr>\n",
       "      <th>W, %</th>\n",
       "      <td>0.000005</td>\n",
       "    </tr>\n",
       "    <tr>\n",
       "      <th>Ir, %</th>\n",
       "      <td>0.000000</td>\n",
       "    </tr>\n",
       "    <tr>\n",
       "      <th>Se, %</th>\n",
       "      <td>0.000000</td>\n",
       "    </tr>\n",
       "  </tbody>\n",
       "</table>\n",
       "</div>"
      ],
      "text/plain": [
       "            coef\n",
       "Al, %   0.210023\n",
       "Fe, %   0.207548\n",
       "Co, %   0.160696\n",
       "V, %    0.104524\n",
       "Ni, %   0.079130\n",
       "O, %    0.069378\n",
       "C, %    0.051364\n",
       "TiC, %  0.028535\n",
       "Mn, %   0.018637\n",
       "P, %    0.011729\n",
       "N, %    0.009778\n",
       "Ti, %   0.009233\n",
       "Ag, %   0.008686\n",
       "Sn, %   0.007215\n",
       "Si, %   0.006641\n",
       "Pb, %   0.006388\n",
       "Sb, %   0.003930\n",
       "Cr, %   0.001397\n",
       "Mg, %   0.001033\n",
       "S, %    0.000914\n",
       "B, %    0.000845\n",
       "Nb, %   0.000669\n",
       "Cu, %   0.000640\n",
       "H, %    0.000478\n",
       "Au, %   0.000244\n",
       "Mo, %   0.000217\n",
       "Zn, %   0.000056\n",
       "Pd, %   0.000039\n",
       "Cd, %   0.000031\n",
       "W, %    0.000005\n",
       "Ir, %   0.000000\n",
       "Se, %   0.000000"
      ]
     },
     "execution_count": 42,
     "metadata": {},
     "output_type": "execute_result"
    }
   ],
   "source": [
    "coef=forest.feature_importances_ #для леса - важность признака\n",
    "\n",
    "pd.DataFrame(forest.feature_importances_, X.columns,\n",
    "             columns=[ 'coef']).sort_values(by='coef', ascending=False)"
   ]
  },
  {
   "cell_type": "markdown",
   "id": "c049bb67",
   "metadata": {},
   "source": [
    "## t-SNE"
   ]
  },
  {
   "cell_type": "code",
   "execution_count": 43,
   "id": "1991c1f7",
   "metadata": {},
   "outputs": [],
   "source": [
    "import numpy as np\n",
    "from sklearn.manifold import TSNE\n",
    "\n",
    "embed = TSNE(n_components=2, random_state=42,\n",
    "                  init='random', perplexity=7, n_jobs = -1)"
   ]
  },
  {
   "cell_type": "code",
   "execution_count": 45,
   "id": "46fad2d8",
   "metadata": {},
   "outputs": [
    {
     "name": "stderr",
     "output_type": "stream",
     "text": [
      "C:\\Users\\ivan\\anaconda3\\lib\\site-packages\\sklearn\\manifold\\_t_sne.py:790: FutureWarning: The default learning rate in TSNE will change from 200.0 to 'auto' in 1.2.\n",
      "  warnings.warn(\n"
     ]
    }
   ],
   "source": [
    "X_embedded = embed.fit_transform(X_new_scaled)"
   ]
  },
  {
   "cell_type": "code",
   "execution_count": 46,
   "id": "5fc4e222",
   "metadata": {},
   "outputs": [
    {
     "name": "stdout",
     "output_type": "stream",
     "text": [
      "New Shape of X:  (262, 2)\n",
      "Kullback-Leibler divergence after optimization:  0.5676474571228027\n",
      "No. of iterations:  999\n"
     ]
    }
   ],
   "source": [
    "# Вывод результатов\n",
    "print('New Shape of X: ', X_embedded.shape)\n",
    "print('Kullback-Leibler divergence after optimization: ', embed.kl_divergence_)\n",
    "print('No. of iterations: ', embed.n_iter_)"
   ]
  },
  {
   "cell_type": "code",
   "execution_count": 53,
   "id": "395e3bed",
   "metadata": {},
   "outputs": [
    {
     "data": {
      "application/vnd.plotly.v1+json": {
       "config": {
        "plotlyServerURL": "https://plot.ly"
       },
       "data": [
        {
         "hovertemplate": "color=Алюминиевый сплав<br>Dimension 1=%{x}<br>Dimension 2=%{y}<extra></extra>",
         "legendgroup": "Алюминиевый сплав",
         "marker": {
          "color": "#636efa",
          "opacity": 1,
          "size": 3,
          "symbol": "circle"
         },
         "mode": "markers",
         "name": "Алюминиевый сплав",
         "orientation": "v",
         "showlegend": true,
         "type": "scatter",
         "x": [
          19.59736442565918
         ],
         "xaxis": "x",
         "y": [
          -10.281681060791016
         ],
         "yaxis": "y"
        },
        {
         "hovertemplate": "color=Нержавеющая сталь<br>Dimension 1=%{x}<br>Dimension 2=%{y}<extra></extra>",
         "legendgroup": "Нержавеющая сталь",
         "marker": {
          "color": "#EF553B",
          "opacity": 1,
          "size": 3,
          "symbol": "circle"
         },
         "mode": "markers",
         "name": "Нержавеющая сталь",
         "orientation": "v",
         "showlegend": true,
         "type": "scatter",
         "x": [
          25.245986938476562
         ],
         "xaxis": "x",
         "y": [
          -4.497701168060303
         ],
         "yaxis": "y"
        },
        {
         "hovertemplate": "color=Титановый сплав<br>Dimension 1=%{x}<br>Dimension 2=%{y}<extra></extra>",
         "legendgroup": "Титановый сплав",
         "marker": {
          "color": "#00cc96",
          "opacity": 1,
          "size": 3,
          "symbol": "circle"
         },
         "mode": "markers",
         "name": "Титановый сплав",
         "orientation": "v",
         "showlegend": true,
         "type": "scatter",
         "x": [
          3.911320924758911
         ],
         "xaxis": "x",
         "y": [
          -5.132874965667725
         ],
         "yaxis": "y"
        },
        {
         "hovertemplate": "color=Никельхромовый сплав<br>Dimension 1=%{x}<br>Dimension 2=%{y}<extra></extra>",
         "legendgroup": "Никельхромовый сплав",
         "marker": {
          "color": "#ab63fa",
          "opacity": 1,
          "size": 3,
          "symbol": "circle"
         },
         "mode": "markers",
         "name": "Никельхромовый сплав",
         "orientation": "v",
         "showlegend": true,
         "type": "scatter",
         "x": [
          -11.004643440246582
         ],
         "xaxis": "x",
         "y": [
          38.41759490966797
         ],
         "yaxis": "y"
        },
        {
         "hovertemplate": "color=Полиамид<br>Dimension 1=%{x}<br>Dimension 2=%{y}<extra></extra>",
         "legendgroup": "Полиамид",
         "marker": {
          "color": "#FFA15A",
          "opacity": 1,
          "size": 3,
          "symbol": "circle"
         },
         "mode": "markers",
         "name": "Полиамид",
         "orientation": "v",
         "showlegend": true,
         "type": "scatter",
         "x": [
          6.394983768463135
         ],
         "xaxis": "x",
         "y": [
          40.61675262451172
         ],
         "yaxis": "y"
        },
        {
         "hovertemplate": "color=Алюминиевый  порошок<br>Dimension 1=%{x}<br>Dimension 2=%{y}<extra></extra>",
         "legendgroup": "Алюминиевый  порошок",
         "marker": {
          "color": "#19d3f3",
          "opacity": 1,
          "size": 3,
          "symbol": "circle"
         },
         "mode": "markers",
         "name": "Алюминиевый  порошок",
         "orientation": "v",
         "showlegend": true,
         "type": "scatter",
         "x": [
          3.9113235473632812,
          -11.092598915100098,
          4.657483100891113,
          4.694777965545654,
          4.708323001861572,
          23.560606002807617,
          11.028092384338379,
          11.766064643859863,
          11.76921558380127,
          11.768616676330566,
          10.885442733764648,
          10.565683364868164,
          9.054057121276855,
          8.211359977722168
         ],
         "xaxis": "x",
         "y": [
          -5.132875442504883,
          38.29279327392578,
          -6.0624470710754395,
          -6.098849773406982,
          -6.112624168395996,
          -11.979904174804688,
          -26.295204162597656,
          -31.04148292541504,
          -31.043582916259766,
          -31.047578811645508,
          -21.77587127685547,
          -21.678258895874023,
          -21.837766647338867,
          -23.434175491333008
         ],
         "yaxis": "y"
        },
        {
         "hovertemplate": "color=Цинковый порошок<br>Dimension 1=%{x}<br>Dimension 2=%{y}<extra></extra>",
         "legendgroup": "Цинковый порошок",
         "marker": {
          "color": "#FF6692",
          "opacity": 1,
          "size": 3,
          "symbol": "circle"
         },
         "mode": "markers",
         "name": "Цинковый порошок",
         "orientation": "v",
         "showlegend": true,
         "type": "scatter",
         "x": [
          6.611379623413086,
          3.719717025756836,
          -11.214308738708496,
          6.866326808929443,
          3.719717502593994,
          -11.31802749633789,
          6.910006046295166
         ],
         "xaxis": "x",
         "y": [
          40.797943115234375,
          -5.336704254150391,
          38.10468673706055,
          40.98167037963867,
          -5.336706638336182,
          37.94606399536133,
          40.97060775756836
         ],
         "yaxis": "y"
        },
        {
         "hovertemplate": "color=Медный порошок<br>Dimension 1=%{x}<br>Dimension 2=%{y}<extra></extra>",
         "legendgroup": "Медный порошок",
         "marker": {
          "color": "#B6E880",
          "opacity": 1,
          "size": 3,
          "symbol": "circle"
         },
         "mode": "markers",
         "name": "Медный порошок",
         "orientation": "v",
         "showlegend": true,
         "type": "scatter",
         "x": [
          8.154229164123535,
          11.610299110412598,
          9.988118171691895,
          9.995183944702148,
          10.014558792114258,
          5.4425177574157715,
          8.169230461120605,
          5.440341949462891,
          4.275430202484131,
          4.060136318206787
         ],
         "xaxis": "x",
         "y": [
          -23.537559509277344,
          -26.222309112548828,
          -26.307674407958984,
          -26.309885025024414,
          -26.311748504638672,
          -26.468324661254883,
          -23.552444458007812,
          -26.45465660095215,
          -26.915451049804688,
          -27.000947952270508
         ],
         "yaxis": "y"
        },
        {
         "hovertemplate": "color=Никелевый порошок<br>Dimension 1=%{x}<br>Dimension 2=%{y}<extra></extra>",
         "legendgroup": "Никелевый порошок",
         "marker": {
          "color": "#FF97FF",
          "opacity": 1,
          "size": 3,
          "symbol": "circle"
         },
         "mode": "markers",
         "name": "Никелевый порошок",
         "orientation": "v",
         "showlegend": true,
         "type": "scatter",
         "x": [
          0.7625369429588318,
          0.5227148532867432,
          0.19136790931224823,
          -0.12208244949579239,
          -0.3071857988834381,
          48.793373107910156,
          48.78852462768555,
          48.78833770751953,
          52.62675476074219,
          53.689754486083984,
          53.651676177978516,
          52.10195541381836,
          51.856441497802734,
          51.57281494140625,
          53.19744873046875,
          53.056278228759766,
          50.54084014892578,
          50.29145050048828,
          50.099525451660156,
          51.88397979736328,
          51.698265075683594,
          49.674564361572266,
          49.615360260009766,
          49.59950256347656,
          51.03922653198242
         ],
         "xaxis": "x",
         "y": [
          -28.367389678955078,
          -28.486268997192383,
          -28.649192810058594,
          -28.804059982299805,
          -28.892438888549805,
          -4.802870750427246,
          -4.8017706871032715,
          -4.793562412261963,
          -11.493817329406738,
          -10.106335639953613,
          -9.966060638427734,
          -11.384580612182617,
          -11.285364151000977,
          -11.117457389831543,
          -8.93130874633789,
          -8.732813835144043,
          -10.261161804199219,
          -9.979514122009277,
          -9.686676979064941,
          -7.66126823425293,
          -7.553422927856445,
          -8.707661628723145,
          -8.443764686584473,
          -8.276952743530273,
          -7.330204963684082
         ],
         "yaxis": "y"
        },
        {
         "hovertemplate": "color=Палладиевый порошок<br>Dimension 1=%{x}<br>Dimension 2=%{y}<extra></extra>",
         "legendgroup": "Палладиевый порошок",
         "marker": {
          "color": "#FECB52",
          "opacity": 1,
          "size": 3,
          "symbol": "circle"
         },
         "mode": "markers",
         "name": "Палладиевый порошок",
         "orientation": "v",
         "showlegend": true,
         "type": "scatter",
         "x": [
          -19.57269287109375,
          -19.5719051361084
         ],
         "xaxis": "x",
         "y": [
          8.893119812011719,
          8.891680717468262
         ],
         "yaxis": "y"
        },
        {
         "hovertemplate": "color=Сплав из хрома<br>Dimension 1=%{x}<br>Dimension 2=%{y}<extra></extra>",
         "legendgroup": "Сплав из хрома",
         "marker": {
          "color": "#636efa",
          "opacity": 1,
          "size": 3,
          "symbol": "circle"
         },
         "mode": "markers",
         "name": "Сплав из хрома",
         "orientation": "v",
         "showlegend": true,
         "type": "scatter",
         "x": [
          24.994199752807617,
          24.952516555786133,
          24.987014770507812,
          24.832782745361328
         ],
         "xaxis": "x",
         "y": [
          -3.7347023487091064,
          -3.593663215637207,
          -3.710897207260132,
          -3.285388708114624
         ],
         "yaxis": "y"
        },
        {
         "hovertemplate": "color=Жидкий металл<br>Dimension 1=%{x}<br>Dimension 2=%{y}<extra></extra>",
         "legendgroup": "Жидкий металл",
         "marker": {
          "color": "#EF553B",
          "opacity": 1,
          "size": 3,
          "symbol": "circle"
         },
         "mode": "markers",
         "name": "Жидкий металл",
         "orientation": "v",
         "showlegend": true,
         "type": "scatter",
         "x": [
          -21.1217041015625,
          -20.053104400634766,
          -13.717487335205078,
          -22.333328247070312,
          -14.804880142211914,
          -24.242727279663086,
          -23.67245101928711,
          -21.00301170349121,
          -22.595487594604492,
          -14.787776947021484,
          -23.321910858154297,
          -24.079071044921875,
          -22.93353843688965,
          -20.910289764404297
         ],
         "xaxis": "x",
         "y": [
          5.61896276473999,
          3.5530896186828613,
          -0.9355475902557373,
          -5.122499942779541,
          -8.558877944946289,
          -4.08597469329834,
          -3.38002610206604,
          -2.282733917236328,
          -4.24260139465332,
          2.041005849838257,
          -4.126765727996826,
          -2.4994430541992188,
          -3.4502084255218506,
          -3.236314058303833
         ],
         "yaxis": "y"
        },
        {
         "hovertemplate": "color=Железный порошок<br>Dimension 1=%{x}<br>Dimension 2=%{y}<extra></extra>",
         "legendgroup": "Железный порошок",
         "marker": {
          "color": "#00cc96",
          "opacity": 1,
          "size": 3,
          "symbol": "circle"
         },
         "mode": "markers",
         "name": "Железный порошок",
         "orientation": "v",
         "showlegend": true,
         "type": "scatter",
         "x": [
          -7.597766399383545,
          -5.776191234588623,
          -7.34873628616333,
          -5.439858436584473,
          -5.626338481903076,
          -5.444045066833496,
          -3.970581531524658,
          -7.473005771636963,
          -3.9691286087036133,
          -3.215390682220459,
          -6.949365615844727,
          -3.214643716812134,
          -2.7723426818847656,
          -7.236536502838135,
          -2.7588555812835693,
          -10.29768180847168,
          -6.925863742828369,
          -10.297850608825684,
          -10.285650253295898,
          -23.27488899230957
         ],
         "xaxis": "x",
         "y": [
          45.31801986694336,
          43.483558654785156,
          45.549888610839844,
          43.143978118896484,
          43.32106399536133,
          43.14229202270508,
          41.55913543701172,
          44.8880615234375,
          41.55923080444336,
          40.73993682861328,
          45.347412109375,
          40.739662170410156,
          40.2522087097168,
          44.826698303222656,
          40.26232147216797,
          45.97584533691406,
          45.08114242553711,
          45.976200103759766,
          45.974082946777344,
          12.559733390808105
         ],
         "yaxis": "y"
        },
        {
         "hovertemplate": "color=порошковый материал с твердыми смазками<br>Dimension 1=%{x}<br>Dimension 2=%{y}<extra></extra>",
         "legendgroup": "порошковый материал с твердыми смазками",
         "marker": {
          "color": "#ab63fa",
          "opacity": 1,
          "size": 3,
          "symbol": "circle"
         },
         "mode": "markers",
         "name": "порошковый материал с твердыми смазками",
         "orientation": "v",
         "showlegend": true,
         "type": "scatter",
         "x": [
          -23.289432525634766,
          -23.506633758544922,
          -22.702590942382812,
          -22.380281448364258,
          7.292552471160889
         ],
         "xaxis": "x",
         "y": [
          12.548428535461426,
          -1.8935147523880005,
          -1.6649460792541504,
          -3.2111358642578125,
          -20.225542068481445
         ],
         "yaxis": "y"
        },
        {
         "hovertemplate": "color=Порошковые цветные металлы<br>Dimension 1=%{x}<br>Dimension 2=%{y}<extra></extra>",
         "legendgroup": "Порошковые цветные металлы",
         "marker": {
          "color": "#FFA15A",
          "opacity": 1,
          "size": 3,
          "symbol": "circle"
         },
         "mode": "markers",
         "name": "Порошковые цветные металлы",
         "orientation": "v",
         "showlegend": true,
         "type": "scatter",
         "x": [
          22.397275924682617,
          22.546123504638672,
          22.541555404663086,
          22.541990280151367,
          20.0931339263916,
          20.00974464416504,
          19.918142318725586,
          20.16496467590332,
          19.965986251831055,
          19.60744285583496,
          19.274877548217773,
          9.273697853088379,
          9.6097993850708,
          9.60743522644043,
          9.761862754821777,
          9.593461990356445,
          9.55411148071289,
          19.187986373901367,
          16.819272994995117,
          17.19289207458496,
          16.702634811401367,
          16.13591957092285,
          16.32191276550293,
          15.262969970703125,
          13.70587158203125,
          9.525961875915527,
          18.613056182861328,
          -16.98094367980957,
          -25.191503524780273,
          -26.701997756958008,
          -10.792473793029785,
          6.611444473266602,
          -13.581502914428711,
          29.631134033203125,
          -17.141679763793945,
          -17.021387100219727,
          24.445404052734375,
          17.368009567260742,
          -16.588790893554688,
          -29.65373420715332,
          -25.36213493347168,
          -30.313344955444336,
          -26.188634872436523,
          -26.63909149169922,
          -18.927587509155273,
          -24.437471389770508,
          -19.554494857788086,
          -28.417814254760742,
          -22.510711669921875,
          -23.070514678955078,
          -27.712480545043945,
          -29.84440040588379,
          -16.55378532409668,
          -29.01753807067871,
          -19.304094314575195,
          -21.735563278198242,
          -20.074127197265625,
          -28.391632080078125,
          -16.19776153564453,
          -32.09346389770508,
          -27.53058624267578,
          -24.38629150390625,
          -22.392303466796875,
          -17.805644989013672,
          -21.601869583129883,
          -24.448991775512695,
          -18.320850372314453,
          -23.828092575073242,
          -21.65135383605957,
          -21.874462127685547,
          -22.57115364074707,
          -21.982574462890625,
          -21.06276512145996,
          -23.263975143432617,
          -21.781896591186523,
          -23.064695358276367,
          -21.183616638183594,
          -15.969279289245605,
          -22.886070251464844,
          -17.430068969726562,
          -25.070022583007812,
          -22.47043228149414,
          -20.667163848876953,
          -25.380861282348633,
          -19.020709991455078,
          -17.908912658691406,
          -20.536569595336914,
          -19.49588394165039,
          -24.501649856567383,
          -30.152437210083008,
          -19.297380447387695,
          -23.929840087890625,
          -21.216358184814453,
          -28.446937561035156,
          -25.776704788208008,
          -31.043079376220703,
          -20.46481704711914,
          -29.28242301940918,
          -18.445655822753906,
          -27.27593421936035,
          -23.32942008972168,
          -31.749698638916016,
          -19.78508949279785,
          -24.431747436523438,
          -32.627174377441406,
          -27.371173858642578,
          -26.914596557617188,
          -21.009254455566406,
          -21.92531394958496,
          -25.954069137573242,
          -16.041770935058594,
          -25.327590942382812,
          -18.18485450744629,
          -27.08514976501465,
          -23.828750610351562,
          -26.5341739654541,
          -23.70030975341797,
          -25.919174194335938,
          -13.673728942871094
         ],
         "xaxis": "x",
         "y": [
          -12.567107200622559,
          -12.419703483581543,
          -12.401305198669434,
          -12.400927543640137,
          -14.208525657653809,
          -14.334999084472656,
          -14.47890853881836,
          -13.895079612731934,
          -10.924912452697754,
          -10.296843528747559,
          -9.9608793258667,
          -21.149581909179688,
          -21.4881534576416,
          -21.49008560180664,
          -21.03896141052246,
          -19.044635772705078,
          -18.263935089111328,
          -15.723017692565918,
          -18.879436492919922,
          -20.051918029785156,
          -18.954097747802734,
          -19.13466453552246,
          -19.082555770874023,
          -19.380794525146484,
          -19.857751846313477,
          -21.013263702392578,
          -9.504966735839844,
          1.155800700187683,
          -10.829933166503906,
          -5.685502529144287,
          6.665994644165039,
          -19.879072189331055,
          -6.090211868286133,
          0.18517132103443146,
          4.661623954772949,
          4.885578155517578,
          -2.26916241645813,
          -18.0435848236084,
          -6.590529918670654,
          -0.8909107446670532,
          -1.7606656551361084,
          -5.586549282073975,
          1.2279925346374512,
          3.119427442550659,
          -6.821666240692139,
          0.8617225885391235,
          -1.594341516494751,
          1.4078246355056763,
          -11.512722969055176,
          -0.16122844815254211,
          -0.4045123755931854,
          -10.02320671081543,
          -10.825364112854004,
          -7.482229709625244,
          -8.899873733520508,
          -0.03191090747714043,
          -5.576397895812988,
          -5.181304931640625,
          -0.7946057319641113,
          -1.4205595254898071,
          -12.05183219909668,
          -0.6514405012130737,
          3.3161916732788086,
          -3.789841413497925,
          -4.756339073181152,
          -3.2738795280456543,
          2.2670724391937256,
          -4.772900104522705,
          -3.3525607585906982,
          -1.7676769495010376,
          -2.4535739421844482,
          -4.023090362548828,
          -4.075671195983887,
          -2.6828455924987793,
          -2.5786468982696533,
          -5.027981281280518,
          1.682490587234497,
          -4.767020225524902,
          1.451436996459961,
          -8.378814697265625,
          -5.654850006103516,
          -6.781785488128662,
          -13.233555793762207,
          -8.792744636535645,
          -11.215555191040039,
          -2.0315659046173096,
          -0.6057761311531067,
          -4.377192974090576,
          2.7641308307647705,
          -3.3753063678741455,
          -3.0074989795684814,
          5.086625576019287,
          -6.2764410972595215,
          -2.618349552154541,
          -4.462194919586182,
          1.3090052604675293,
          -7.525177001953125,
          3.8062171936035156,
          -0.33581557869911194,
          -3.89808988571167,
          -9.644662857055664,
          -7.697680950164795,
          0.7947662472724915,
          -13.258757591247559,
          -4.340911865234375,
          -9.41574478149414,
          -1.9350228309631348,
          -9.941485404968262,
          -8.304097175598145,
          -3.0815632343292236,
          -2.7846288681030273,
          -7.081683158874512,
          -5.384939670562744,
          -7.324792385101318,
          -6.44906759262085,
          5.505336761474609,
          -7.942245960235596,
          -0.4024478495121002,
          -3.5316827297210693
         ],
         "yaxis": "y"
        },
        {
         "hovertemplate": "color=кермет на основе карбида титана<br>Dimension 1=%{x}<br>Dimension 2=%{y}<extra></extra>",
         "legendgroup": "кермет на основе карбида титана",
         "marker": {
          "color": "#19d3f3",
          "opacity": 1,
          "size": 3,
          "symbol": "circle"
         },
         "mode": "markers",
         "name": "кермет на основе карбида титана",
         "orientation": "v",
         "showlegend": true,
         "type": "scatter",
         "x": [
          14.84434986114502,
          13.540717124938965,
          13.306461334228516,
          13.785500526428223,
          13.266131401062012,
          14.44025707244873,
          13.757004737854004,
          14.75412368774414,
          15.540765762329102,
          14.485288619995117,
          15.718774795532227,
          14.088360786437988,
          15.930850982666016
         ],
         "xaxis": "x",
         "y": [
          12.807899475097656,
          15.193199157714844,
          15.657461166381836,
          14.677274703979492,
          15.73507022857666,
          12.052273750305176,
          10.845151901245117,
          12.305176734924316,
          11.972015380859375,
          11.75412368774414,
          11.474502563476562,
          11.10713005065918,
          11.066513061523438
         ],
         "yaxis": "y"
        },
        {
         "hovertemplate": "color=порошковый магнит альнико<br>Dimension 1=%{x}<br>Dimension 2=%{y}<extra></extra>",
         "legendgroup": "порошковый магнит альнико",
         "marker": {
          "color": "#FF6692",
          "opacity": 1,
          "size": 3,
          "symbol": "circle"
         },
         "mode": "markers",
         "name": "порошковый магнит альнико",
         "orientation": "v",
         "showlegend": true,
         "type": "scatter",
         "x": [
          -11.498761177062988,
          -11.479413986206055,
          -11.59583854675293,
          -10.903410911560059,
          -10.90568733215332,
          -10.813105583190918,
          -10.189586639404297,
          -10.24579906463623,
          -9.777301788330078,
          -9.773883819580078,
          -9.81618595123291
         ],
         "xaxis": "x",
         "y": [
          7.029733180999756,
          7.031520366668701,
          7.6468634605407715,
          14.563661575317383,
          14.561023712158203,
          14.771923065185547,
          16.13916015625,
          16.020362854003906,
          16.968196868896484,
          16.97718048095703,
          16.89377212524414
         ],
         "yaxis": "y"
        },
        {
         "hovertemplate": "color=магнитодиэлектрик на основе карбонильного железа<br>Dimension 1=%{x}<br>Dimension 2=%{y}<extra></extra>",
         "legendgroup": "магнитодиэлектрик на основе карбонильного железа",
         "marker": {
          "color": "#B6E880",
          "opacity": 1,
          "size": 3,
          "symbol": "circle"
         },
         "mode": "markers",
         "name": "магнитодиэлектрик на основе карбонильного железа",
         "orientation": "v",
         "showlegend": true,
         "type": "scatter",
         "x": [
          16.238584518432617,
          15.717268943786621,
          15.322670936584473,
          19.187698364257812,
          18.834333419799805,
          16.546297073364258,
          16.574548721313477,
          18.834333419799805,
          18.990510940551758,
          16.238584518432617,
          16.546295166015625,
          18.990510940551758,
          20.05027961730957
         ],
         "xaxis": "x",
         "y": [
          44.73564147949219,
          45.43796920776367,
          45.7194709777832,
          43.06131362915039,
          42.84696578979492,
          45.18395233154297,
          44.854156494140625,
          42.84696578979492,
          43.226104736328125,
          44.73564147949219,
          45.18395233154297,
          43.226104736328125,
          42.31001281738281
         ],
         "yaxis": "y"
        }
       ],
       "layout": {
        "legend": {
         "title": {
          "text": "color"
         },
         "tracegroupgap": 0
        },
        "margin": {
         "t": 60
        },
        "plot_bgcolor": "white",
        "template": {
         "data": {
          "bar": [
           {
            "error_x": {
             "color": "#2a3f5f"
            },
            "error_y": {
             "color": "#2a3f5f"
            },
            "marker": {
             "line": {
              "color": "#E5ECF6",
              "width": 0.5
             },
             "pattern": {
              "fillmode": "overlay",
              "size": 10,
              "solidity": 0.2
             }
            },
            "type": "bar"
           }
          ],
          "barpolar": [
           {
            "marker": {
             "line": {
              "color": "#E5ECF6",
              "width": 0.5
             },
             "pattern": {
              "fillmode": "overlay",
              "size": 10,
              "solidity": 0.2
             }
            },
            "type": "barpolar"
           }
          ],
          "carpet": [
           {
            "aaxis": {
             "endlinecolor": "#2a3f5f",
             "gridcolor": "white",
             "linecolor": "white",
             "minorgridcolor": "white",
             "startlinecolor": "#2a3f5f"
            },
            "baxis": {
             "endlinecolor": "#2a3f5f",
             "gridcolor": "white",
             "linecolor": "white",
             "minorgridcolor": "white",
             "startlinecolor": "#2a3f5f"
            },
            "type": "carpet"
           }
          ],
          "choropleth": [
           {
            "colorbar": {
             "outlinewidth": 0,
             "ticks": ""
            },
            "type": "choropleth"
           }
          ],
          "contour": [
           {
            "colorbar": {
             "outlinewidth": 0,
             "ticks": ""
            },
            "colorscale": [
             [
              0,
              "#0d0887"
             ],
             [
              0.1111111111111111,
              "#46039f"
             ],
             [
              0.2222222222222222,
              "#7201a8"
             ],
             [
              0.3333333333333333,
              "#9c179e"
             ],
             [
              0.4444444444444444,
              "#bd3786"
             ],
             [
              0.5555555555555556,
              "#d8576b"
             ],
             [
              0.6666666666666666,
              "#ed7953"
             ],
             [
              0.7777777777777778,
              "#fb9f3a"
             ],
             [
              0.8888888888888888,
              "#fdca26"
             ],
             [
              1,
              "#f0f921"
             ]
            ],
            "type": "contour"
           }
          ],
          "contourcarpet": [
           {
            "colorbar": {
             "outlinewidth": 0,
             "ticks": ""
            },
            "type": "contourcarpet"
           }
          ],
          "heatmap": [
           {
            "colorbar": {
             "outlinewidth": 0,
             "ticks": ""
            },
            "colorscale": [
             [
              0,
              "#0d0887"
             ],
             [
              0.1111111111111111,
              "#46039f"
             ],
             [
              0.2222222222222222,
              "#7201a8"
             ],
             [
              0.3333333333333333,
              "#9c179e"
             ],
             [
              0.4444444444444444,
              "#bd3786"
             ],
             [
              0.5555555555555556,
              "#d8576b"
             ],
             [
              0.6666666666666666,
              "#ed7953"
             ],
             [
              0.7777777777777778,
              "#fb9f3a"
             ],
             [
              0.8888888888888888,
              "#fdca26"
             ],
             [
              1,
              "#f0f921"
             ]
            ],
            "type": "heatmap"
           }
          ],
          "heatmapgl": [
           {
            "colorbar": {
             "outlinewidth": 0,
             "ticks": ""
            },
            "colorscale": [
             [
              0,
              "#0d0887"
             ],
             [
              0.1111111111111111,
              "#46039f"
             ],
             [
              0.2222222222222222,
              "#7201a8"
             ],
             [
              0.3333333333333333,
              "#9c179e"
             ],
             [
              0.4444444444444444,
              "#bd3786"
             ],
             [
              0.5555555555555556,
              "#d8576b"
             ],
             [
              0.6666666666666666,
              "#ed7953"
             ],
             [
              0.7777777777777778,
              "#fb9f3a"
             ],
             [
              0.8888888888888888,
              "#fdca26"
             ],
             [
              1,
              "#f0f921"
             ]
            ],
            "type": "heatmapgl"
           }
          ],
          "histogram": [
           {
            "marker": {
             "pattern": {
              "fillmode": "overlay",
              "size": 10,
              "solidity": 0.2
             }
            },
            "type": "histogram"
           }
          ],
          "histogram2d": [
           {
            "colorbar": {
             "outlinewidth": 0,
             "ticks": ""
            },
            "colorscale": [
             [
              0,
              "#0d0887"
             ],
             [
              0.1111111111111111,
              "#46039f"
             ],
             [
              0.2222222222222222,
              "#7201a8"
             ],
             [
              0.3333333333333333,
              "#9c179e"
             ],
             [
              0.4444444444444444,
              "#bd3786"
             ],
             [
              0.5555555555555556,
              "#d8576b"
             ],
             [
              0.6666666666666666,
              "#ed7953"
             ],
             [
              0.7777777777777778,
              "#fb9f3a"
             ],
             [
              0.8888888888888888,
              "#fdca26"
             ],
             [
              1,
              "#f0f921"
             ]
            ],
            "type": "histogram2d"
           }
          ],
          "histogram2dcontour": [
           {
            "colorbar": {
             "outlinewidth": 0,
             "ticks": ""
            },
            "colorscale": [
             [
              0,
              "#0d0887"
             ],
             [
              0.1111111111111111,
              "#46039f"
             ],
             [
              0.2222222222222222,
              "#7201a8"
             ],
             [
              0.3333333333333333,
              "#9c179e"
             ],
             [
              0.4444444444444444,
              "#bd3786"
             ],
             [
              0.5555555555555556,
              "#d8576b"
             ],
             [
              0.6666666666666666,
              "#ed7953"
             ],
             [
              0.7777777777777778,
              "#fb9f3a"
             ],
             [
              0.8888888888888888,
              "#fdca26"
             ],
             [
              1,
              "#f0f921"
             ]
            ],
            "type": "histogram2dcontour"
           }
          ],
          "mesh3d": [
           {
            "colorbar": {
             "outlinewidth": 0,
             "ticks": ""
            },
            "type": "mesh3d"
           }
          ],
          "parcoords": [
           {
            "line": {
             "colorbar": {
              "outlinewidth": 0,
              "ticks": ""
             }
            },
            "type": "parcoords"
           }
          ],
          "pie": [
           {
            "automargin": true,
            "type": "pie"
           }
          ],
          "scatter": [
           {
            "fillpattern": {
             "fillmode": "overlay",
             "size": 10,
             "solidity": 0.2
            },
            "type": "scatter"
           }
          ],
          "scatter3d": [
           {
            "line": {
             "colorbar": {
              "outlinewidth": 0,
              "ticks": ""
             }
            },
            "marker": {
             "colorbar": {
              "outlinewidth": 0,
              "ticks": ""
             }
            },
            "type": "scatter3d"
           }
          ],
          "scattercarpet": [
           {
            "marker": {
             "colorbar": {
              "outlinewidth": 0,
              "ticks": ""
             }
            },
            "type": "scattercarpet"
           }
          ],
          "scattergeo": [
           {
            "marker": {
             "colorbar": {
              "outlinewidth": 0,
              "ticks": ""
             }
            },
            "type": "scattergeo"
           }
          ],
          "scattergl": [
           {
            "marker": {
             "colorbar": {
              "outlinewidth": 0,
              "ticks": ""
             }
            },
            "type": "scattergl"
           }
          ],
          "scattermapbox": [
           {
            "marker": {
             "colorbar": {
              "outlinewidth": 0,
              "ticks": ""
             }
            },
            "type": "scattermapbox"
           }
          ],
          "scatterpolar": [
           {
            "marker": {
             "colorbar": {
              "outlinewidth": 0,
              "ticks": ""
             }
            },
            "type": "scatterpolar"
           }
          ],
          "scatterpolargl": [
           {
            "marker": {
             "colorbar": {
              "outlinewidth": 0,
              "ticks": ""
             }
            },
            "type": "scatterpolargl"
           }
          ],
          "scatterternary": [
           {
            "marker": {
             "colorbar": {
              "outlinewidth": 0,
              "ticks": ""
             }
            },
            "type": "scatterternary"
           }
          ],
          "surface": [
           {
            "colorbar": {
             "outlinewidth": 0,
             "ticks": ""
            },
            "colorscale": [
             [
              0,
              "#0d0887"
             ],
             [
              0.1111111111111111,
              "#46039f"
             ],
             [
              0.2222222222222222,
              "#7201a8"
             ],
             [
              0.3333333333333333,
              "#9c179e"
             ],
             [
              0.4444444444444444,
              "#bd3786"
             ],
             [
              0.5555555555555556,
              "#d8576b"
             ],
             [
              0.6666666666666666,
              "#ed7953"
             ],
             [
              0.7777777777777778,
              "#fb9f3a"
             ],
             [
              0.8888888888888888,
              "#fdca26"
             ],
             [
              1,
              "#f0f921"
             ]
            ],
            "type": "surface"
           }
          ],
          "table": [
           {
            "cells": {
             "fill": {
              "color": "#EBF0F8"
             },
             "line": {
              "color": "white"
             }
            },
            "header": {
             "fill": {
              "color": "#C8D4E3"
             },
             "line": {
              "color": "white"
             }
            },
            "type": "table"
           }
          ]
         },
         "layout": {
          "annotationdefaults": {
           "arrowcolor": "#2a3f5f",
           "arrowhead": 0,
           "arrowwidth": 1
          },
          "autotypenumbers": "strict",
          "coloraxis": {
           "colorbar": {
            "outlinewidth": 0,
            "ticks": ""
           }
          },
          "colorscale": {
           "diverging": [
            [
             0,
             "#8e0152"
            ],
            [
             0.1,
             "#c51b7d"
            ],
            [
             0.2,
             "#de77ae"
            ],
            [
             0.3,
             "#f1b6da"
            ],
            [
             0.4,
             "#fde0ef"
            ],
            [
             0.5,
             "#f7f7f7"
            ],
            [
             0.6,
             "#e6f5d0"
            ],
            [
             0.7,
             "#b8e186"
            ],
            [
             0.8,
             "#7fbc41"
            ],
            [
             0.9,
             "#4d9221"
            ],
            [
             1,
             "#276419"
            ]
           ],
           "sequential": [
            [
             0,
             "#0d0887"
            ],
            [
             0.1111111111111111,
             "#46039f"
            ],
            [
             0.2222222222222222,
             "#7201a8"
            ],
            [
             0.3333333333333333,
             "#9c179e"
            ],
            [
             0.4444444444444444,
             "#bd3786"
            ],
            [
             0.5555555555555556,
             "#d8576b"
            ],
            [
             0.6666666666666666,
             "#ed7953"
            ],
            [
             0.7777777777777778,
             "#fb9f3a"
            ],
            [
             0.8888888888888888,
             "#fdca26"
            ],
            [
             1,
             "#f0f921"
            ]
           ],
           "sequentialminus": [
            [
             0,
             "#0d0887"
            ],
            [
             0.1111111111111111,
             "#46039f"
            ],
            [
             0.2222222222222222,
             "#7201a8"
            ],
            [
             0.3333333333333333,
             "#9c179e"
            ],
            [
             0.4444444444444444,
             "#bd3786"
            ],
            [
             0.5555555555555556,
             "#d8576b"
            ],
            [
             0.6666666666666666,
             "#ed7953"
            ],
            [
             0.7777777777777778,
             "#fb9f3a"
            ],
            [
             0.8888888888888888,
             "#fdca26"
            ],
            [
             1,
             "#f0f921"
            ]
           ]
          },
          "colorway": [
           "#636efa",
           "#EF553B",
           "#00cc96",
           "#ab63fa",
           "#FFA15A",
           "#19d3f3",
           "#FF6692",
           "#B6E880",
           "#FF97FF",
           "#FECB52"
          ],
          "font": {
           "color": "#2a3f5f"
          },
          "geo": {
           "bgcolor": "white",
           "lakecolor": "white",
           "landcolor": "#E5ECF6",
           "showlakes": true,
           "showland": true,
           "subunitcolor": "white"
          },
          "hoverlabel": {
           "align": "left"
          },
          "hovermode": "closest",
          "mapbox": {
           "style": "light"
          },
          "paper_bgcolor": "white",
          "plot_bgcolor": "#E5ECF6",
          "polar": {
           "angularaxis": {
            "gridcolor": "white",
            "linecolor": "white",
            "ticks": ""
           },
           "bgcolor": "#E5ECF6",
           "radialaxis": {
            "gridcolor": "white",
            "linecolor": "white",
            "ticks": ""
           }
          },
          "scene": {
           "xaxis": {
            "backgroundcolor": "#E5ECF6",
            "gridcolor": "white",
            "gridwidth": 2,
            "linecolor": "white",
            "showbackground": true,
            "ticks": "",
            "zerolinecolor": "white"
           },
           "yaxis": {
            "backgroundcolor": "#E5ECF6",
            "gridcolor": "white",
            "gridwidth": 2,
            "linecolor": "white",
            "showbackground": true,
            "ticks": "",
            "zerolinecolor": "white"
           },
           "zaxis": {
            "backgroundcolor": "#E5ECF6",
            "gridcolor": "white",
            "gridwidth": 2,
            "linecolor": "white",
            "showbackground": true,
            "ticks": "",
            "zerolinecolor": "white"
           }
          },
          "shapedefaults": {
           "line": {
            "color": "#2a3f5f"
           }
          },
          "ternary": {
           "aaxis": {
            "gridcolor": "white",
            "linecolor": "white",
            "ticks": ""
           },
           "baxis": {
            "gridcolor": "white",
            "linecolor": "white",
            "ticks": ""
           },
           "bgcolor": "#E5ECF6",
           "caxis": {
            "gridcolor": "white",
            "linecolor": "white",
            "ticks": ""
           }
          },
          "title": {
           "x": 0.05
          },
          "xaxis": {
           "automargin": true,
           "gridcolor": "white",
           "linecolor": "white",
           "ticks": "",
           "title": {
            "standoff": 15
           },
           "zerolinecolor": "white",
           "zerolinewidth": 2
          },
          "yaxis": {
           "automargin": true,
           "gridcolor": "white",
           "linecolor": "white",
           "ticks": "",
           "title": {
            "standoff": 15
           },
           "zerolinecolor": "white",
           "zerolinewidth": 2
          }
         }
        },
        "title": {
         "text": "Кластеризация классов материала методом t-SNE"
        },
        "xaxis": {
         "anchor": "y",
         "domain": [
          0,
          1
         ],
         "gridcolor": "lightgrey",
         "gridwidth": 1,
         "linecolor": "black",
         "linewidth": 1,
         "showgrid": true,
         "showline": true,
         "title": {
          "text": "Dimension 1"
         },
         "zeroline": true,
         "zerolinecolor": "lightgrey",
         "zerolinewidth": 1
        },
        "yaxis": {
         "anchor": "x",
         "domain": [
          0,
          1
         ],
         "gridcolor": "lightgrey",
         "gridwidth": 1,
         "linecolor": "black",
         "linewidth": 1,
         "showgrid": true,
         "showline": true,
         "title": {
          "text": "Dimension 2"
         },
         "zeroline": true,
         "zerolinecolor": "lightgrey",
         "zerolinewidth": 1
        }
       }
      },
      "text/html": [
       "<div>                            <div id=\"283846e1-e740-4f8d-99b2-b63240854d55\" class=\"plotly-graph-div\" style=\"height:525px; width:100%;\"></div>            <script type=\"text/javascript\">                require([\"plotly\"], function(Plotly) {                    window.PLOTLYENV=window.PLOTLYENV || {};                                    if (document.getElementById(\"283846e1-e740-4f8d-99b2-b63240854d55\")) {                    Plotly.newPlot(                        \"283846e1-e740-4f8d-99b2-b63240854d55\",                        [{\"hovertemplate\":\"color=\\u0410\\u043b\\u044e\\u043c\\u0438\\u043d\\u0438\\u0435\\u0432\\u044b\\u0439 \\u0441\\u043f\\u043b\\u0430\\u0432<br>Dimension 1=%{x}<br>Dimension 2=%{y}<extra></extra>\",\"legendgroup\":\"\\u0410\\u043b\\u044e\\u043c\\u0438\\u043d\\u0438\\u0435\\u0432\\u044b\\u0439 \\u0441\\u043f\\u043b\\u0430\\u0432\",\"marker\":{\"color\":\"#636efa\",\"opacity\":1,\"symbol\":\"circle\",\"size\":3},\"mode\":\"markers\",\"name\":\"\\u0410\\u043b\\u044e\\u043c\\u0438\\u043d\\u0438\\u0435\\u0432\\u044b\\u0439 \\u0441\\u043f\\u043b\\u0430\\u0432\",\"orientation\":\"v\",\"showlegend\":true,\"x\":[19.59736442565918],\"xaxis\":\"x\",\"y\":[-10.281681060791016],\"yaxis\":\"y\",\"type\":\"scatter\"},{\"hovertemplate\":\"color=\\u041d\\u0435\\u0440\\u0436\\u0430\\u0432\\u0435\\u044e\\u0449\\u0430\\u044f \\u0441\\u0442\\u0430\\u043b\\u044c<br>Dimension 1=%{x}<br>Dimension 2=%{y}<extra></extra>\",\"legendgroup\":\"\\u041d\\u0435\\u0440\\u0436\\u0430\\u0432\\u0435\\u044e\\u0449\\u0430\\u044f \\u0441\\u0442\\u0430\\u043b\\u044c\",\"marker\":{\"color\":\"#EF553B\",\"opacity\":1,\"symbol\":\"circle\",\"size\":3},\"mode\":\"markers\",\"name\":\"\\u041d\\u0435\\u0440\\u0436\\u0430\\u0432\\u0435\\u044e\\u0449\\u0430\\u044f \\u0441\\u0442\\u0430\\u043b\\u044c\",\"orientation\":\"v\",\"showlegend\":true,\"x\":[25.245986938476562],\"xaxis\":\"x\",\"y\":[-4.497701168060303],\"yaxis\":\"y\",\"type\":\"scatter\"},{\"hovertemplate\":\"color=\\u0422\\u0438\\u0442\\u0430\\u043d\\u043e\\u0432\\u044b\\u0439 \\u0441\\u043f\\u043b\\u0430\\u0432<br>Dimension 1=%{x}<br>Dimension 2=%{y}<extra></extra>\",\"legendgroup\":\"\\u0422\\u0438\\u0442\\u0430\\u043d\\u043e\\u0432\\u044b\\u0439 \\u0441\\u043f\\u043b\\u0430\\u0432\",\"marker\":{\"color\":\"#00cc96\",\"opacity\":1,\"symbol\":\"circle\",\"size\":3},\"mode\":\"markers\",\"name\":\"\\u0422\\u0438\\u0442\\u0430\\u043d\\u043e\\u0432\\u044b\\u0439 \\u0441\\u043f\\u043b\\u0430\\u0432\",\"orientation\":\"v\",\"showlegend\":true,\"x\":[3.911320924758911],\"xaxis\":\"x\",\"y\":[-5.132874965667725],\"yaxis\":\"y\",\"type\":\"scatter\"},{\"hovertemplate\":\"color=\\u041d\\u0438\\u043a\\u0435\\u043b\\u044c\\u0445\\u0440\\u043e\\u043c\\u043e\\u0432\\u044b\\u0439 \\u0441\\u043f\\u043b\\u0430\\u0432<br>Dimension 1=%{x}<br>Dimension 2=%{y}<extra></extra>\",\"legendgroup\":\"\\u041d\\u0438\\u043a\\u0435\\u043b\\u044c\\u0445\\u0440\\u043e\\u043c\\u043e\\u0432\\u044b\\u0439 \\u0441\\u043f\\u043b\\u0430\\u0432\",\"marker\":{\"color\":\"#ab63fa\",\"opacity\":1,\"symbol\":\"circle\",\"size\":3},\"mode\":\"markers\",\"name\":\"\\u041d\\u0438\\u043a\\u0435\\u043b\\u044c\\u0445\\u0440\\u043e\\u043c\\u043e\\u0432\\u044b\\u0439 \\u0441\\u043f\\u043b\\u0430\\u0432\",\"orientation\":\"v\",\"showlegend\":true,\"x\":[-11.004643440246582],\"xaxis\":\"x\",\"y\":[38.41759490966797],\"yaxis\":\"y\",\"type\":\"scatter\"},{\"hovertemplate\":\"color=\\u041f\\u043e\\u043b\\u0438\\u0430\\u043c\\u0438\\u0434<br>Dimension 1=%{x}<br>Dimension 2=%{y}<extra></extra>\",\"legendgroup\":\"\\u041f\\u043e\\u043b\\u0438\\u0430\\u043c\\u0438\\u0434\",\"marker\":{\"color\":\"#FFA15A\",\"opacity\":1,\"symbol\":\"circle\",\"size\":3},\"mode\":\"markers\",\"name\":\"\\u041f\\u043e\\u043b\\u0438\\u0430\\u043c\\u0438\\u0434\",\"orientation\":\"v\",\"showlegend\":true,\"x\":[6.394983768463135],\"xaxis\":\"x\",\"y\":[40.61675262451172],\"yaxis\":\"y\",\"type\":\"scatter\"},{\"hovertemplate\":\"color=\\u0410\\u043b\\u044e\\u043c\\u0438\\u043d\\u0438\\u0435\\u0432\\u044b\\u0439  \\u043f\\u043e\\u0440\\u043e\\u0448\\u043e\\u043a<br>Dimension 1=%{x}<br>Dimension 2=%{y}<extra></extra>\",\"legendgroup\":\"\\u0410\\u043b\\u044e\\u043c\\u0438\\u043d\\u0438\\u0435\\u0432\\u044b\\u0439  \\u043f\\u043e\\u0440\\u043e\\u0448\\u043e\\u043a\",\"marker\":{\"color\":\"#19d3f3\",\"opacity\":1,\"symbol\":\"circle\",\"size\":3},\"mode\":\"markers\",\"name\":\"\\u0410\\u043b\\u044e\\u043c\\u0438\\u043d\\u0438\\u0435\\u0432\\u044b\\u0439  \\u043f\\u043e\\u0440\\u043e\\u0448\\u043e\\u043a\",\"orientation\":\"v\",\"showlegend\":true,\"x\":[3.9113235473632812,-11.092598915100098,4.657483100891113,4.694777965545654,4.708323001861572,23.560606002807617,11.028092384338379,11.766064643859863,11.76921558380127,11.768616676330566,10.885442733764648,10.565683364868164,9.054057121276855,8.211359977722168],\"xaxis\":\"x\",\"y\":[-5.132875442504883,38.29279327392578,-6.0624470710754395,-6.098849773406982,-6.112624168395996,-11.979904174804688,-26.295204162597656,-31.04148292541504,-31.043582916259766,-31.047578811645508,-21.77587127685547,-21.678258895874023,-21.837766647338867,-23.434175491333008],\"yaxis\":\"y\",\"type\":\"scatter\"},{\"hovertemplate\":\"color=\\u0426\\u0438\\u043d\\u043a\\u043e\\u0432\\u044b\\u0439 \\u043f\\u043e\\u0440\\u043e\\u0448\\u043e\\u043a<br>Dimension 1=%{x}<br>Dimension 2=%{y}<extra></extra>\",\"legendgroup\":\"\\u0426\\u0438\\u043d\\u043a\\u043e\\u0432\\u044b\\u0439 \\u043f\\u043e\\u0440\\u043e\\u0448\\u043e\\u043a\",\"marker\":{\"color\":\"#FF6692\",\"opacity\":1,\"symbol\":\"circle\",\"size\":3},\"mode\":\"markers\",\"name\":\"\\u0426\\u0438\\u043d\\u043a\\u043e\\u0432\\u044b\\u0439 \\u043f\\u043e\\u0440\\u043e\\u0448\\u043e\\u043a\",\"orientation\":\"v\",\"showlegend\":true,\"x\":[6.611379623413086,3.719717025756836,-11.214308738708496,6.866326808929443,3.719717502593994,-11.31802749633789,6.910006046295166],\"xaxis\":\"x\",\"y\":[40.797943115234375,-5.336704254150391,38.10468673706055,40.98167037963867,-5.336706638336182,37.94606399536133,40.97060775756836],\"yaxis\":\"y\",\"type\":\"scatter\"},{\"hovertemplate\":\"color=\\u041c\\u0435\\u0434\\u043d\\u044b\\u0439 \\u043f\\u043e\\u0440\\u043e\\u0448\\u043e\\u043a<br>Dimension 1=%{x}<br>Dimension 2=%{y}<extra></extra>\",\"legendgroup\":\"\\u041c\\u0435\\u0434\\u043d\\u044b\\u0439 \\u043f\\u043e\\u0440\\u043e\\u0448\\u043e\\u043a\",\"marker\":{\"color\":\"#B6E880\",\"opacity\":1,\"symbol\":\"circle\",\"size\":3},\"mode\":\"markers\",\"name\":\"\\u041c\\u0435\\u0434\\u043d\\u044b\\u0439 \\u043f\\u043e\\u0440\\u043e\\u0448\\u043e\\u043a\",\"orientation\":\"v\",\"showlegend\":true,\"x\":[8.154229164123535,11.610299110412598,9.988118171691895,9.995183944702148,10.014558792114258,5.4425177574157715,8.169230461120605,5.440341949462891,4.275430202484131,4.060136318206787],\"xaxis\":\"x\",\"y\":[-23.537559509277344,-26.222309112548828,-26.307674407958984,-26.309885025024414,-26.311748504638672,-26.468324661254883,-23.552444458007812,-26.45465660095215,-26.915451049804688,-27.000947952270508],\"yaxis\":\"y\",\"type\":\"scatter\"},{\"hovertemplate\":\"color=\\u041d\\u0438\\u043a\\u0435\\u043b\\u0435\\u0432\\u044b\\u0439 \\u043f\\u043e\\u0440\\u043e\\u0448\\u043e\\u043a<br>Dimension 1=%{x}<br>Dimension 2=%{y}<extra></extra>\",\"legendgroup\":\"\\u041d\\u0438\\u043a\\u0435\\u043b\\u0435\\u0432\\u044b\\u0439 \\u043f\\u043e\\u0440\\u043e\\u0448\\u043e\\u043a\",\"marker\":{\"color\":\"#FF97FF\",\"opacity\":1,\"symbol\":\"circle\",\"size\":3},\"mode\":\"markers\",\"name\":\"\\u041d\\u0438\\u043a\\u0435\\u043b\\u0435\\u0432\\u044b\\u0439 \\u043f\\u043e\\u0440\\u043e\\u0448\\u043e\\u043a\",\"orientation\":\"v\",\"showlegend\":true,\"x\":[0.7625369429588318,0.5227148532867432,0.19136790931224823,-0.12208244949579239,-0.3071857988834381,48.793373107910156,48.78852462768555,48.78833770751953,52.62675476074219,53.689754486083984,53.651676177978516,52.10195541381836,51.856441497802734,51.57281494140625,53.19744873046875,53.056278228759766,50.54084014892578,50.29145050048828,50.099525451660156,51.88397979736328,51.698265075683594,49.674564361572266,49.615360260009766,49.59950256347656,51.03922653198242],\"xaxis\":\"x\",\"y\":[-28.367389678955078,-28.486268997192383,-28.649192810058594,-28.804059982299805,-28.892438888549805,-4.802870750427246,-4.8017706871032715,-4.793562412261963,-11.493817329406738,-10.106335639953613,-9.966060638427734,-11.384580612182617,-11.285364151000977,-11.117457389831543,-8.93130874633789,-8.732813835144043,-10.261161804199219,-9.979514122009277,-9.686676979064941,-7.66126823425293,-7.553422927856445,-8.707661628723145,-8.443764686584473,-8.276952743530273,-7.330204963684082],\"yaxis\":\"y\",\"type\":\"scatter\"},{\"hovertemplate\":\"color=\\u041f\\u0430\\u043b\\u043b\\u0430\\u0434\\u0438\\u0435\\u0432\\u044b\\u0439 \\u043f\\u043e\\u0440\\u043e\\u0448\\u043e\\u043a<br>Dimension 1=%{x}<br>Dimension 2=%{y}<extra></extra>\",\"legendgroup\":\"\\u041f\\u0430\\u043b\\u043b\\u0430\\u0434\\u0438\\u0435\\u0432\\u044b\\u0439 \\u043f\\u043e\\u0440\\u043e\\u0448\\u043e\\u043a\",\"marker\":{\"color\":\"#FECB52\",\"opacity\":1,\"symbol\":\"circle\",\"size\":3},\"mode\":\"markers\",\"name\":\"\\u041f\\u0430\\u043b\\u043b\\u0430\\u0434\\u0438\\u0435\\u0432\\u044b\\u0439 \\u043f\\u043e\\u0440\\u043e\\u0448\\u043e\\u043a\",\"orientation\":\"v\",\"showlegend\":true,\"x\":[-19.57269287109375,-19.5719051361084],\"xaxis\":\"x\",\"y\":[8.893119812011719,8.891680717468262],\"yaxis\":\"y\",\"type\":\"scatter\"},{\"hovertemplate\":\"color=\\u0421\\u043f\\u043b\\u0430\\u0432 \\u0438\\u0437 \\u0445\\u0440\\u043e\\u043c\\u0430<br>Dimension 1=%{x}<br>Dimension 2=%{y}<extra></extra>\",\"legendgroup\":\"\\u0421\\u043f\\u043b\\u0430\\u0432 \\u0438\\u0437 \\u0445\\u0440\\u043e\\u043c\\u0430\",\"marker\":{\"color\":\"#636efa\",\"opacity\":1,\"symbol\":\"circle\",\"size\":3},\"mode\":\"markers\",\"name\":\"\\u0421\\u043f\\u043b\\u0430\\u0432 \\u0438\\u0437 \\u0445\\u0440\\u043e\\u043c\\u0430\",\"orientation\":\"v\",\"showlegend\":true,\"x\":[24.994199752807617,24.952516555786133,24.987014770507812,24.832782745361328],\"xaxis\":\"x\",\"y\":[-3.7347023487091064,-3.593663215637207,-3.710897207260132,-3.285388708114624],\"yaxis\":\"y\",\"type\":\"scatter\"},{\"hovertemplate\":\"color=\\u0416\\u0438\\u0434\\u043a\\u0438\\u0439 \\u043c\\u0435\\u0442\\u0430\\u043b\\u043b<br>Dimension 1=%{x}<br>Dimension 2=%{y}<extra></extra>\",\"legendgroup\":\"\\u0416\\u0438\\u0434\\u043a\\u0438\\u0439 \\u043c\\u0435\\u0442\\u0430\\u043b\\u043b\",\"marker\":{\"color\":\"#EF553B\",\"opacity\":1,\"symbol\":\"circle\",\"size\":3},\"mode\":\"markers\",\"name\":\"\\u0416\\u0438\\u0434\\u043a\\u0438\\u0439 \\u043c\\u0435\\u0442\\u0430\\u043b\\u043b\",\"orientation\":\"v\",\"showlegend\":true,\"x\":[-21.1217041015625,-20.053104400634766,-13.717487335205078,-22.333328247070312,-14.804880142211914,-24.242727279663086,-23.67245101928711,-21.00301170349121,-22.595487594604492,-14.787776947021484,-23.321910858154297,-24.079071044921875,-22.93353843688965,-20.910289764404297],\"xaxis\":\"x\",\"y\":[5.61896276473999,3.5530896186828613,-0.9355475902557373,-5.122499942779541,-8.558877944946289,-4.08597469329834,-3.38002610206604,-2.282733917236328,-4.24260139465332,2.041005849838257,-4.126765727996826,-2.4994430541992188,-3.4502084255218506,-3.236314058303833],\"yaxis\":\"y\",\"type\":\"scatter\"},{\"hovertemplate\":\"color=\\u0416\\u0435\\u043b\\u0435\\u0437\\u043d\\u044b\\u0439 \\u043f\\u043e\\u0440\\u043e\\u0448\\u043e\\u043a<br>Dimension 1=%{x}<br>Dimension 2=%{y}<extra></extra>\",\"legendgroup\":\"\\u0416\\u0435\\u043b\\u0435\\u0437\\u043d\\u044b\\u0439 \\u043f\\u043e\\u0440\\u043e\\u0448\\u043e\\u043a\",\"marker\":{\"color\":\"#00cc96\",\"opacity\":1,\"symbol\":\"circle\",\"size\":3},\"mode\":\"markers\",\"name\":\"\\u0416\\u0435\\u043b\\u0435\\u0437\\u043d\\u044b\\u0439 \\u043f\\u043e\\u0440\\u043e\\u0448\\u043e\\u043a\",\"orientation\":\"v\",\"showlegend\":true,\"x\":[-7.597766399383545,-5.776191234588623,-7.34873628616333,-5.439858436584473,-5.626338481903076,-5.444045066833496,-3.970581531524658,-7.473005771636963,-3.9691286087036133,-3.215390682220459,-6.949365615844727,-3.214643716812134,-2.7723426818847656,-7.236536502838135,-2.7588555812835693,-10.29768180847168,-6.925863742828369,-10.297850608825684,-10.285650253295898,-23.27488899230957],\"xaxis\":\"x\",\"y\":[45.31801986694336,43.483558654785156,45.549888610839844,43.143978118896484,43.32106399536133,43.14229202270508,41.55913543701172,44.8880615234375,41.55923080444336,40.73993682861328,45.347412109375,40.739662170410156,40.2522087097168,44.826698303222656,40.26232147216797,45.97584533691406,45.08114242553711,45.976200103759766,45.974082946777344,12.559733390808105],\"yaxis\":\"y\",\"type\":\"scatter\"},{\"hovertemplate\":\"color=\\u043f\\u043e\\u0440\\u043e\\u0448\\u043a\\u043e\\u0432\\u044b\\u0439 \\u043c\\u0430\\u0442\\u0435\\u0440\\u0438\\u0430\\u043b \\u0441 \\u0442\\u0432\\u0435\\u0440\\u0434\\u044b\\u043c\\u0438 \\u0441\\u043c\\u0430\\u0437\\u043a\\u0430\\u043c\\u0438<br>Dimension 1=%{x}<br>Dimension 2=%{y}<extra></extra>\",\"legendgroup\":\"\\u043f\\u043e\\u0440\\u043e\\u0448\\u043a\\u043e\\u0432\\u044b\\u0439 \\u043c\\u0430\\u0442\\u0435\\u0440\\u0438\\u0430\\u043b \\u0441 \\u0442\\u0432\\u0435\\u0440\\u0434\\u044b\\u043c\\u0438 \\u0441\\u043c\\u0430\\u0437\\u043a\\u0430\\u043c\\u0438\",\"marker\":{\"color\":\"#ab63fa\",\"opacity\":1,\"symbol\":\"circle\",\"size\":3},\"mode\":\"markers\",\"name\":\"\\u043f\\u043e\\u0440\\u043e\\u0448\\u043a\\u043e\\u0432\\u044b\\u0439 \\u043c\\u0430\\u0442\\u0435\\u0440\\u0438\\u0430\\u043b \\u0441 \\u0442\\u0432\\u0435\\u0440\\u0434\\u044b\\u043c\\u0438 \\u0441\\u043c\\u0430\\u0437\\u043a\\u0430\\u043c\\u0438\",\"orientation\":\"v\",\"showlegend\":true,\"x\":[-23.289432525634766,-23.506633758544922,-22.702590942382812,-22.380281448364258,7.292552471160889],\"xaxis\":\"x\",\"y\":[12.548428535461426,-1.8935147523880005,-1.6649460792541504,-3.2111358642578125,-20.225542068481445],\"yaxis\":\"y\",\"type\":\"scatter\"},{\"hovertemplate\":\"color=\\u041f\\u043e\\u0440\\u043e\\u0448\\u043a\\u043e\\u0432\\u044b\\u0435 \\u0446\\u0432\\u0435\\u0442\\u043d\\u044b\\u0435 \\u043c\\u0435\\u0442\\u0430\\u043b\\u043b\\u044b<br>Dimension 1=%{x}<br>Dimension 2=%{y}<extra></extra>\",\"legendgroup\":\"\\u041f\\u043e\\u0440\\u043e\\u0448\\u043a\\u043e\\u0432\\u044b\\u0435 \\u0446\\u0432\\u0435\\u0442\\u043d\\u044b\\u0435 \\u043c\\u0435\\u0442\\u0430\\u043b\\u043b\\u044b\",\"marker\":{\"color\":\"#FFA15A\",\"opacity\":1,\"symbol\":\"circle\",\"size\":3},\"mode\":\"markers\",\"name\":\"\\u041f\\u043e\\u0440\\u043e\\u0448\\u043a\\u043e\\u0432\\u044b\\u0435 \\u0446\\u0432\\u0435\\u0442\\u043d\\u044b\\u0435 \\u043c\\u0435\\u0442\\u0430\\u043b\\u043b\\u044b\",\"orientation\":\"v\",\"showlegend\":true,\"x\":[22.397275924682617,22.546123504638672,22.541555404663086,22.541990280151367,20.0931339263916,20.00974464416504,19.918142318725586,20.16496467590332,19.965986251831055,19.60744285583496,19.274877548217773,9.273697853088379,9.6097993850708,9.60743522644043,9.761862754821777,9.593461990356445,9.55411148071289,19.187986373901367,16.819272994995117,17.19289207458496,16.702634811401367,16.13591957092285,16.32191276550293,15.262969970703125,13.70587158203125,9.525961875915527,18.613056182861328,-16.98094367980957,-25.191503524780273,-26.701997756958008,-10.792473793029785,6.611444473266602,-13.581502914428711,29.631134033203125,-17.141679763793945,-17.021387100219727,24.445404052734375,17.368009567260742,-16.588790893554688,-29.65373420715332,-25.36213493347168,-30.313344955444336,-26.188634872436523,-26.63909149169922,-18.927587509155273,-24.437471389770508,-19.554494857788086,-28.417814254760742,-22.510711669921875,-23.070514678955078,-27.712480545043945,-29.84440040588379,-16.55378532409668,-29.01753807067871,-19.304094314575195,-21.735563278198242,-20.074127197265625,-28.391632080078125,-16.19776153564453,-32.09346389770508,-27.53058624267578,-24.38629150390625,-22.392303466796875,-17.805644989013672,-21.601869583129883,-24.448991775512695,-18.320850372314453,-23.828092575073242,-21.65135383605957,-21.874462127685547,-22.57115364074707,-21.982574462890625,-21.06276512145996,-23.263975143432617,-21.781896591186523,-23.064695358276367,-21.183616638183594,-15.969279289245605,-22.886070251464844,-17.430068969726562,-25.070022583007812,-22.47043228149414,-20.667163848876953,-25.380861282348633,-19.020709991455078,-17.908912658691406,-20.536569595336914,-19.49588394165039,-24.501649856567383,-30.152437210083008,-19.297380447387695,-23.929840087890625,-21.216358184814453,-28.446937561035156,-25.776704788208008,-31.043079376220703,-20.46481704711914,-29.28242301940918,-18.445655822753906,-27.27593421936035,-23.32942008972168,-31.749698638916016,-19.78508949279785,-24.431747436523438,-32.627174377441406,-27.371173858642578,-26.914596557617188,-21.009254455566406,-21.92531394958496,-25.954069137573242,-16.041770935058594,-25.327590942382812,-18.18485450744629,-27.08514976501465,-23.828750610351562,-26.5341739654541,-23.70030975341797,-25.919174194335938,-13.673728942871094],\"xaxis\":\"x\",\"y\":[-12.567107200622559,-12.419703483581543,-12.401305198669434,-12.400927543640137,-14.208525657653809,-14.334999084472656,-14.47890853881836,-13.895079612731934,-10.924912452697754,-10.296843528747559,-9.9608793258667,-21.149581909179688,-21.4881534576416,-21.49008560180664,-21.03896141052246,-19.044635772705078,-18.263935089111328,-15.723017692565918,-18.879436492919922,-20.051918029785156,-18.954097747802734,-19.13466453552246,-19.082555770874023,-19.380794525146484,-19.857751846313477,-21.013263702392578,-9.504966735839844,1.155800700187683,-10.829933166503906,-5.685502529144287,6.665994644165039,-19.879072189331055,-6.090211868286133,0.18517132103443146,4.661623954772949,4.885578155517578,-2.26916241645813,-18.0435848236084,-6.590529918670654,-0.8909107446670532,-1.7606656551361084,-5.586549282073975,1.2279925346374512,3.119427442550659,-6.821666240692139,0.8617225885391235,-1.594341516494751,1.4078246355056763,-11.512722969055176,-0.16122844815254211,-0.4045123755931854,-10.02320671081543,-10.825364112854004,-7.482229709625244,-8.899873733520508,-0.03191090747714043,-5.576397895812988,-5.181304931640625,-0.7946057319641113,-1.4205595254898071,-12.05183219909668,-0.6514405012130737,3.3161916732788086,-3.789841413497925,-4.756339073181152,-3.2738795280456543,2.2670724391937256,-4.772900104522705,-3.3525607585906982,-1.7676769495010376,-2.4535739421844482,-4.023090362548828,-4.075671195983887,-2.6828455924987793,-2.5786468982696533,-5.027981281280518,1.682490587234497,-4.767020225524902,1.451436996459961,-8.378814697265625,-5.654850006103516,-6.781785488128662,-13.233555793762207,-8.792744636535645,-11.215555191040039,-2.0315659046173096,-0.6057761311531067,-4.377192974090576,2.7641308307647705,-3.3753063678741455,-3.0074989795684814,5.086625576019287,-6.2764410972595215,-2.618349552154541,-4.462194919586182,1.3090052604675293,-7.525177001953125,3.8062171936035156,-0.33581557869911194,-3.89808988571167,-9.644662857055664,-7.697680950164795,0.7947662472724915,-13.258757591247559,-4.340911865234375,-9.41574478149414,-1.9350228309631348,-9.941485404968262,-8.304097175598145,-3.0815632343292236,-2.7846288681030273,-7.081683158874512,-5.384939670562744,-7.324792385101318,-6.44906759262085,5.505336761474609,-7.942245960235596,-0.4024478495121002,-3.5316827297210693],\"yaxis\":\"y\",\"type\":\"scatter\"},{\"hovertemplate\":\"color=\\u043a\\u0435\\u0440\\u043c\\u0435\\u0442 \\u043d\\u0430 \\u043e\\u0441\\u043d\\u043e\\u0432\\u0435 \\u043a\\u0430\\u0440\\u0431\\u0438\\u0434\\u0430 \\u0442\\u0438\\u0442\\u0430\\u043d\\u0430<br>Dimension 1=%{x}<br>Dimension 2=%{y}<extra></extra>\",\"legendgroup\":\"\\u043a\\u0435\\u0440\\u043c\\u0435\\u0442 \\u043d\\u0430 \\u043e\\u0441\\u043d\\u043e\\u0432\\u0435 \\u043a\\u0430\\u0440\\u0431\\u0438\\u0434\\u0430 \\u0442\\u0438\\u0442\\u0430\\u043d\\u0430\",\"marker\":{\"color\":\"#19d3f3\",\"opacity\":1,\"symbol\":\"circle\",\"size\":3},\"mode\":\"markers\",\"name\":\"\\u043a\\u0435\\u0440\\u043c\\u0435\\u0442 \\u043d\\u0430 \\u043e\\u0441\\u043d\\u043e\\u0432\\u0435 \\u043a\\u0430\\u0440\\u0431\\u0438\\u0434\\u0430 \\u0442\\u0438\\u0442\\u0430\\u043d\\u0430\",\"orientation\":\"v\",\"showlegend\":true,\"x\":[14.84434986114502,13.540717124938965,13.306461334228516,13.785500526428223,13.266131401062012,14.44025707244873,13.757004737854004,14.75412368774414,15.540765762329102,14.485288619995117,15.718774795532227,14.088360786437988,15.930850982666016],\"xaxis\":\"x\",\"y\":[12.807899475097656,15.193199157714844,15.657461166381836,14.677274703979492,15.73507022857666,12.052273750305176,10.845151901245117,12.305176734924316,11.972015380859375,11.75412368774414,11.474502563476562,11.10713005065918,11.066513061523438],\"yaxis\":\"y\",\"type\":\"scatter\"},{\"hovertemplate\":\"color=\\u043f\\u043e\\u0440\\u043e\\u0448\\u043a\\u043e\\u0432\\u044b\\u0439 \\u043c\\u0430\\u0433\\u043d\\u0438\\u0442 \\u0430\\u043b\\u044c\\u043d\\u0438\\u043a\\u043e<br>Dimension 1=%{x}<br>Dimension 2=%{y}<extra></extra>\",\"legendgroup\":\"\\u043f\\u043e\\u0440\\u043e\\u0448\\u043a\\u043e\\u0432\\u044b\\u0439 \\u043c\\u0430\\u0433\\u043d\\u0438\\u0442 \\u0430\\u043b\\u044c\\u043d\\u0438\\u043a\\u043e\",\"marker\":{\"color\":\"#FF6692\",\"opacity\":1,\"symbol\":\"circle\",\"size\":3},\"mode\":\"markers\",\"name\":\"\\u043f\\u043e\\u0440\\u043e\\u0448\\u043a\\u043e\\u0432\\u044b\\u0439 \\u043c\\u0430\\u0433\\u043d\\u0438\\u0442 \\u0430\\u043b\\u044c\\u043d\\u0438\\u043a\\u043e\",\"orientation\":\"v\",\"showlegend\":true,\"x\":[-11.498761177062988,-11.479413986206055,-11.59583854675293,-10.903410911560059,-10.90568733215332,-10.813105583190918,-10.189586639404297,-10.24579906463623,-9.777301788330078,-9.773883819580078,-9.81618595123291],\"xaxis\":\"x\",\"y\":[7.029733180999756,7.031520366668701,7.6468634605407715,14.563661575317383,14.561023712158203,14.771923065185547,16.13916015625,16.020362854003906,16.968196868896484,16.97718048095703,16.89377212524414],\"yaxis\":\"y\",\"type\":\"scatter\"},{\"hovertemplate\":\"color=\\u043c\\u0430\\u0433\\u043d\\u0438\\u0442\\u043e\\u0434\\u0438\\u044d\\u043b\\u0435\\u043a\\u0442\\u0440\\u0438\\u043a \\u043d\\u0430 \\u043e\\u0441\\u043d\\u043e\\u0432\\u0435 \\u043a\\u0430\\u0440\\u0431\\u043e\\u043d\\u0438\\u043b\\u044c\\u043d\\u043e\\u0433\\u043e \\u0436\\u0435\\u043b\\u0435\\u0437\\u0430<br>Dimension 1=%{x}<br>Dimension 2=%{y}<extra></extra>\",\"legendgroup\":\"\\u043c\\u0430\\u0433\\u043d\\u0438\\u0442\\u043e\\u0434\\u0438\\u044d\\u043b\\u0435\\u043a\\u0442\\u0440\\u0438\\u043a \\u043d\\u0430 \\u043e\\u0441\\u043d\\u043e\\u0432\\u0435 \\u043a\\u0430\\u0440\\u0431\\u043e\\u043d\\u0438\\u043b\\u044c\\u043d\\u043e\\u0433\\u043e \\u0436\\u0435\\u043b\\u0435\\u0437\\u0430\",\"marker\":{\"color\":\"#B6E880\",\"opacity\":1,\"symbol\":\"circle\",\"size\":3},\"mode\":\"markers\",\"name\":\"\\u043c\\u0430\\u0433\\u043d\\u0438\\u0442\\u043e\\u0434\\u0438\\u044d\\u043b\\u0435\\u043a\\u0442\\u0440\\u0438\\u043a \\u043d\\u0430 \\u043e\\u0441\\u043d\\u043e\\u0432\\u0435 \\u043a\\u0430\\u0440\\u0431\\u043e\\u043d\\u0438\\u043b\\u044c\\u043d\\u043e\\u0433\\u043e \\u0436\\u0435\\u043b\\u0435\\u0437\\u0430\",\"orientation\":\"v\",\"showlegend\":true,\"x\":[16.238584518432617,15.717268943786621,15.322670936584473,19.187698364257812,18.834333419799805,16.546297073364258,16.574548721313477,18.834333419799805,18.990510940551758,16.238584518432617,16.546295166015625,18.990510940551758,20.05027961730957],\"xaxis\":\"x\",\"y\":[44.73564147949219,45.43796920776367,45.7194709777832,43.06131362915039,42.84696578979492,45.18395233154297,44.854156494140625,42.84696578979492,43.226104736328125,44.73564147949219,45.18395233154297,43.226104736328125,42.31001281738281],\"yaxis\":\"y\",\"type\":\"scatter\"}],                        {\"template\":{\"data\":{\"histogram2dcontour\":[{\"type\":\"histogram2dcontour\",\"colorbar\":{\"outlinewidth\":0,\"ticks\":\"\"},\"colorscale\":[[0.0,\"#0d0887\"],[0.1111111111111111,\"#46039f\"],[0.2222222222222222,\"#7201a8\"],[0.3333333333333333,\"#9c179e\"],[0.4444444444444444,\"#bd3786\"],[0.5555555555555556,\"#d8576b\"],[0.6666666666666666,\"#ed7953\"],[0.7777777777777778,\"#fb9f3a\"],[0.8888888888888888,\"#fdca26\"],[1.0,\"#f0f921\"]]}],\"choropleth\":[{\"type\":\"choropleth\",\"colorbar\":{\"outlinewidth\":0,\"ticks\":\"\"}}],\"histogram2d\":[{\"type\":\"histogram2d\",\"colorbar\":{\"outlinewidth\":0,\"ticks\":\"\"},\"colorscale\":[[0.0,\"#0d0887\"],[0.1111111111111111,\"#46039f\"],[0.2222222222222222,\"#7201a8\"],[0.3333333333333333,\"#9c179e\"],[0.4444444444444444,\"#bd3786\"],[0.5555555555555556,\"#d8576b\"],[0.6666666666666666,\"#ed7953\"],[0.7777777777777778,\"#fb9f3a\"],[0.8888888888888888,\"#fdca26\"],[1.0,\"#f0f921\"]]}],\"heatmap\":[{\"type\":\"heatmap\",\"colorbar\":{\"outlinewidth\":0,\"ticks\":\"\"},\"colorscale\":[[0.0,\"#0d0887\"],[0.1111111111111111,\"#46039f\"],[0.2222222222222222,\"#7201a8\"],[0.3333333333333333,\"#9c179e\"],[0.4444444444444444,\"#bd3786\"],[0.5555555555555556,\"#d8576b\"],[0.6666666666666666,\"#ed7953\"],[0.7777777777777778,\"#fb9f3a\"],[0.8888888888888888,\"#fdca26\"],[1.0,\"#f0f921\"]]}],\"heatmapgl\":[{\"type\":\"heatmapgl\",\"colorbar\":{\"outlinewidth\":0,\"ticks\":\"\"},\"colorscale\":[[0.0,\"#0d0887\"],[0.1111111111111111,\"#46039f\"],[0.2222222222222222,\"#7201a8\"],[0.3333333333333333,\"#9c179e\"],[0.4444444444444444,\"#bd3786\"],[0.5555555555555556,\"#d8576b\"],[0.6666666666666666,\"#ed7953\"],[0.7777777777777778,\"#fb9f3a\"],[0.8888888888888888,\"#fdca26\"],[1.0,\"#f0f921\"]]}],\"contourcarpet\":[{\"type\":\"contourcarpet\",\"colorbar\":{\"outlinewidth\":0,\"ticks\":\"\"}}],\"contour\":[{\"type\":\"contour\",\"colorbar\":{\"outlinewidth\":0,\"ticks\":\"\"},\"colorscale\":[[0.0,\"#0d0887\"],[0.1111111111111111,\"#46039f\"],[0.2222222222222222,\"#7201a8\"],[0.3333333333333333,\"#9c179e\"],[0.4444444444444444,\"#bd3786\"],[0.5555555555555556,\"#d8576b\"],[0.6666666666666666,\"#ed7953\"],[0.7777777777777778,\"#fb9f3a\"],[0.8888888888888888,\"#fdca26\"],[1.0,\"#f0f921\"]]}],\"surface\":[{\"type\":\"surface\",\"colorbar\":{\"outlinewidth\":0,\"ticks\":\"\"},\"colorscale\":[[0.0,\"#0d0887\"],[0.1111111111111111,\"#46039f\"],[0.2222222222222222,\"#7201a8\"],[0.3333333333333333,\"#9c179e\"],[0.4444444444444444,\"#bd3786\"],[0.5555555555555556,\"#d8576b\"],[0.6666666666666666,\"#ed7953\"],[0.7777777777777778,\"#fb9f3a\"],[0.8888888888888888,\"#fdca26\"],[1.0,\"#f0f921\"]]}],\"mesh3d\":[{\"type\":\"mesh3d\",\"colorbar\":{\"outlinewidth\":0,\"ticks\":\"\"}}],\"scatter\":[{\"fillpattern\":{\"fillmode\":\"overlay\",\"size\":10,\"solidity\":0.2},\"type\":\"scatter\"}],\"parcoords\":[{\"type\":\"parcoords\",\"line\":{\"colorbar\":{\"outlinewidth\":0,\"ticks\":\"\"}}}],\"scatterpolargl\":[{\"type\":\"scatterpolargl\",\"marker\":{\"colorbar\":{\"outlinewidth\":0,\"ticks\":\"\"}}}],\"bar\":[{\"error_x\":{\"color\":\"#2a3f5f\"},\"error_y\":{\"color\":\"#2a3f5f\"},\"marker\":{\"line\":{\"color\":\"#E5ECF6\",\"width\":0.5},\"pattern\":{\"fillmode\":\"overlay\",\"size\":10,\"solidity\":0.2}},\"type\":\"bar\"}],\"scattergeo\":[{\"type\":\"scattergeo\",\"marker\":{\"colorbar\":{\"outlinewidth\":0,\"ticks\":\"\"}}}],\"scatterpolar\":[{\"type\":\"scatterpolar\",\"marker\":{\"colorbar\":{\"outlinewidth\":0,\"ticks\":\"\"}}}],\"histogram\":[{\"marker\":{\"pattern\":{\"fillmode\":\"overlay\",\"size\":10,\"solidity\":0.2}},\"type\":\"histogram\"}],\"scattergl\":[{\"type\":\"scattergl\",\"marker\":{\"colorbar\":{\"outlinewidth\":0,\"ticks\":\"\"}}}],\"scatter3d\":[{\"type\":\"scatter3d\",\"line\":{\"colorbar\":{\"outlinewidth\":0,\"ticks\":\"\"}},\"marker\":{\"colorbar\":{\"outlinewidth\":0,\"ticks\":\"\"}}}],\"scattermapbox\":[{\"type\":\"scattermapbox\",\"marker\":{\"colorbar\":{\"outlinewidth\":0,\"ticks\":\"\"}}}],\"scatterternary\":[{\"type\":\"scatterternary\",\"marker\":{\"colorbar\":{\"outlinewidth\":0,\"ticks\":\"\"}}}],\"scattercarpet\":[{\"type\":\"scattercarpet\",\"marker\":{\"colorbar\":{\"outlinewidth\":0,\"ticks\":\"\"}}}],\"carpet\":[{\"aaxis\":{\"endlinecolor\":\"#2a3f5f\",\"gridcolor\":\"white\",\"linecolor\":\"white\",\"minorgridcolor\":\"white\",\"startlinecolor\":\"#2a3f5f\"},\"baxis\":{\"endlinecolor\":\"#2a3f5f\",\"gridcolor\":\"white\",\"linecolor\":\"white\",\"minorgridcolor\":\"white\",\"startlinecolor\":\"#2a3f5f\"},\"type\":\"carpet\"}],\"table\":[{\"cells\":{\"fill\":{\"color\":\"#EBF0F8\"},\"line\":{\"color\":\"white\"}},\"header\":{\"fill\":{\"color\":\"#C8D4E3\"},\"line\":{\"color\":\"white\"}},\"type\":\"table\"}],\"barpolar\":[{\"marker\":{\"line\":{\"color\":\"#E5ECF6\",\"width\":0.5},\"pattern\":{\"fillmode\":\"overlay\",\"size\":10,\"solidity\":0.2}},\"type\":\"barpolar\"}],\"pie\":[{\"automargin\":true,\"type\":\"pie\"}]},\"layout\":{\"autotypenumbers\":\"strict\",\"colorway\":[\"#636efa\",\"#EF553B\",\"#00cc96\",\"#ab63fa\",\"#FFA15A\",\"#19d3f3\",\"#FF6692\",\"#B6E880\",\"#FF97FF\",\"#FECB52\"],\"font\":{\"color\":\"#2a3f5f\"},\"hovermode\":\"closest\",\"hoverlabel\":{\"align\":\"left\"},\"paper_bgcolor\":\"white\",\"plot_bgcolor\":\"#E5ECF6\",\"polar\":{\"bgcolor\":\"#E5ECF6\",\"angularaxis\":{\"gridcolor\":\"white\",\"linecolor\":\"white\",\"ticks\":\"\"},\"radialaxis\":{\"gridcolor\":\"white\",\"linecolor\":\"white\",\"ticks\":\"\"}},\"ternary\":{\"bgcolor\":\"#E5ECF6\",\"aaxis\":{\"gridcolor\":\"white\",\"linecolor\":\"white\",\"ticks\":\"\"},\"baxis\":{\"gridcolor\":\"white\",\"linecolor\":\"white\",\"ticks\":\"\"},\"caxis\":{\"gridcolor\":\"white\",\"linecolor\":\"white\",\"ticks\":\"\"}},\"coloraxis\":{\"colorbar\":{\"outlinewidth\":0,\"ticks\":\"\"}},\"colorscale\":{\"sequential\":[[0.0,\"#0d0887\"],[0.1111111111111111,\"#46039f\"],[0.2222222222222222,\"#7201a8\"],[0.3333333333333333,\"#9c179e\"],[0.4444444444444444,\"#bd3786\"],[0.5555555555555556,\"#d8576b\"],[0.6666666666666666,\"#ed7953\"],[0.7777777777777778,\"#fb9f3a\"],[0.8888888888888888,\"#fdca26\"],[1.0,\"#f0f921\"]],\"sequentialminus\":[[0.0,\"#0d0887\"],[0.1111111111111111,\"#46039f\"],[0.2222222222222222,\"#7201a8\"],[0.3333333333333333,\"#9c179e\"],[0.4444444444444444,\"#bd3786\"],[0.5555555555555556,\"#d8576b\"],[0.6666666666666666,\"#ed7953\"],[0.7777777777777778,\"#fb9f3a\"],[0.8888888888888888,\"#fdca26\"],[1.0,\"#f0f921\"]],\"diverging\":[[0,\"#8e0152\"],[0.1,\"#c51b7d\"],[0.2,\"#de77ae\"],[0.3,\"#f1b6da\"],[0.4,\"#fde0ef\"],[0.5,\"#f7f7f7\"],[0.6,\"#e6f5d0\"],[0.7,\"#b8e186\"],[0.8,\"#7fbc41\"],[0.9,\"#4d9221\"],[1,\"#276419\"]]},\"xaxis\":{\"gridcolor\":\"white\",\"linecolor\":\"white\",\"ticks\":\"\",\"title\":{\"standoff\":15},\"zerolinecolor\":\"white\",\"automargin\":true,\"zerolinewidth\":2},\"yaxis\":{\"gridcolor\":\"white\",\"linecolor\":\"white\",\"ticks\":\"\",\"title\":{\"standoff\":15},\"zerolinecolor\":\"white\",\"automargin\":true,\"zerolinewidth\":2},\"scene\":{\"xaxis\":{\"backgroundcolor\":\"#E5ECF6\",\"gridcolor\":\"white\",\"linecolor\":\"white\",\"showbackground\":true,\"ticks\":\"\",\"zerolinecolor\":\"white\",\"gridwidth\":2},\"yaxis\":{\"backgroundcolor\":\"#E5ECF6\",\"gridcolor\":\"white\",\"linecolor\":\"white\",\"showbackground\":true,\"ticks\":\"\",\"zerolinecolor\":\"white\",\"gridwidth\":2},\"zaxis\":{\"backgroundcolor\":\"#E5ECF6\",\"gridcolor\":\"white\",\"linecolor\":\"white\",\"showbackground\":true,\"ticks\":\"\",\"zerolinecolor\":\"white\",\"gridwidth\":2}},\"shapedefaults\":{\"line\":{\"color\":\"#2a3f5f\"}},\"annotationdefaults\":{\"arrowcolor\":\"#2a3f5f\",\"arrowhead\":0,\"arrowwidth\":1},\"geo\":{\"bgcolor\":\"white\",\"landcolor\":\"#E5ECF6\",\"subunitcolor\":\"white\",\"showland\":true,\"showlakes\":true,\"lakecolor\":\"white\"},\"title\":{\"x\":0.05},\"mapbox\":{\"style\":\"light\"}}},\"xaxis\":{\"anchor\":\"y\",\"domain\":[0.0,1.0],\"title\":{\"text\":\"Dimension 1\"},\"showgrid\":true,\"gridwidth\":1,\"gridcolor\":\"lightgrey\",\"zeroline\":true,\"zerolinewidth\":1,\"zerolinecolor\":\"lightgrey\",\"showline\":true,\"linewidth\":1,\"linecolor\":\"black\"},\"yaxis\":{\"anchor\":\"x\",\"domain\":[0.0,1.0],\"title\":{\"text\":\"Dimension 2\"},\"showgrid\":true,\"gridwidth\":1,\"gridcolor\":\"lightgrey\",\"zeroline\":true,\"zerolinewidth\":1,\"zerolinecolor\":\"lightgrey\",\"showline\":true,\"linewidth\":1,\"linecolor\":\"black\"},\"legend\":{\"title\":{\"text\":\"color\"},\"tracegroupgap\":0},\"margin\":{\"t\":60},\"plot_bgcolor\":\"white\",\"title\":{\"text\":\"\\u041a\\u043b\\u0430\\u0441\\u0442\\u0435\\u0440\\u0438\\u0437\\u0430\\u0446\\u0438\\u044f \\u043a\\u043b\\u0430\\u0441\\u0441\\u043e\\u0432 \\u043c\\u0430\\u0442\\u0435\\u0440\\u0438\\u0430\\u043b\\u0430 \\u043c\\u0435\\u0442\\u043e\\u0434\\u043e\\u043c t-SNE\"}},                        {\"responsive\": true}                    ).then(function(){\n",
       "                            \n",
       "var gd = document.getElementById('283846e1-e740-4f8d-99b2-b63240854d55');\n",
       "var x = new MutationObserver(function (mutations, observer) {{\n",
       "        var display = window.getComputedStyle(gd).display;\n",
       "        if (!display || display === 'none') {{\n",
       "            console.log([gd, 'removed!']);\n",
       "            Plotly.purge(gd);\n",
       "            observer.disconnect();\n",
       "        }}\n",
       "}});\n",
       "\n",
       "// Listen for the removal of the full notebook cells\n",
       "var notebookContainer = gd.closest('#notebook-container');\n",
       "if (notebookContainer) {{\n",
       "    x.observe(notebookContainer, {childList: true});\n",
       "}}\n",
       "\n",
       "// Listen for the clearing of the current output cell\n",
       "var outputEl = gd.closest('.output');\n",
       "if (outputEl) {{\n",
       "    x.observe(outputEl, {childList: true});\n",
       "}}\n",
       "\n",
       "                        })                };                });            </script>        </div>"
      ]
     },
     "metadata": {},
     "output_type": "display_data"
    }
   ],
   "source": [
    "import plotly.express as px # для визуализации данных\n",
    "import matplotlib.pyplot as plt \n",
    "\n",
    "# Создание диаграммы разброса\n",
    "fig = px.scatter(None, x=X_embedded[:,0], y=X_embedded[:,1], \n",
    "                 labels={\n",
    "                     \"x\": \"Dimension 1\",\n",
    "                     \"y\": \"Dimension 2\",\n",
    "                 },\n",
    "                 opacity=1, color=y.astype(str))\n",
    "\n",
    "# Изменение цвета фона графика\n",
    "fig.update_layout(dict(plot_bgcolor = 'white'))\n",
    "\n",
    "# Обновление линий осей\n",
    "fig.update_xaxes(showgrid=True, gridwidth=1, gridcolor='lightgrey', \n",
    "                 zeroline=True, zerolinewidth=1, zerolinecolor='lightgrey', \n",
    "                 showline=True, linewidth=1, linecolor='black')\n",
    "\n",
    "fig.update_yaxes(showgrid=True, gridwidth=1, gridcolor='lightgrey', \n",
    "                 zeroline=True, zerolinewidth=1, zerolinecolor='lightgrey', \n",
    "                 showline=True, linewidth=1, linecolor='black')\n",
    "\n",
    "# Установка названия рисунка\n",
    "fig.update_layout(title_text=\"Кластеризация классов материала методом t-SNE\")\n",
    "\n",
    "# Обновление размера маркера\n",
    "fig.update_traces(marker=dict(size=3))\n",
    "\n",
    "fig.show()"
   ]
  },
  {
   "cell_type": "markdown",
   "id": "2743b975",
   "metadata": {},
   "source": [
    "## Линейная регрессия"
   ]
  },
  {
   "cell_type": "code",
   "execution_count": 72,
   "id": "5548d731",
   "metadata": {},
   "outputs": [],
   "source": [
    "from sklearn.linear_model import LinearRegression\n",
    "from sklearn.metrics import accuracy_score"
   ]
  },
  {
   "cell_type": "code",
   "execution_count": 74,
   "id": "9c53ba63",
   "metadata": {},
   "outputs": [],
   "source": [
    "linreg = LinearRegression() "
   ]
  },
  {
   "cell_type": "code",
   "execution_count": 113,
   "id": "46ce0dc9",
   "metadata": {},
   "outputs": [],
   "source": [
    "X_new_lr = X_new.assign(klass = my_label.fit_transform(data['Класс']))\n",
    "X_new_lr['klass'] = X_new_lr['klass'].astype(float)"
   ]
  },
  {
   "cell_type": "code",
   "execution_count": 114,
   "id": "9436dc5b",
   "metadata": {},
   "outputs": [],
   "source": [
    "y_new_lr = data['Предел прочности. МПа']"
   ]
  },
  {
   "cell_type": "code",
   "execution_count": 115,
   "id": "e5594191",
   "metadata": {},
   "outputs": [
    {
     "data": {
      "text/html": [
       "<div>\n",
       "<style scoped>\n",
       "    .dataframe tbody tr th:only-of-type {\n",
       "        vertical-align: middle;\n",
       "    }\n",
       "\n",
       "    .dataframe tbody tr th {\n",
       "        vertical-align: top;\n",
       "    }\n",
       "\n",
       "    .dataframe thead th {\n",
       "        text-align: right;\n",
       "    }\n",
       "</style>\n",
       "<table border=\"1\" class=\"dataframe\">\n",
       "  <thead>\n",
       "    <tr style=\"text-align: right;\">\n",
       "      <th></th>\n",
       "      <th>Al, %</th>\n",
       "      <th>Si, %</th>\n",
       "      <th>Mg, %</th>\n",
       "      <th>Mn, %</th>\n",
       "      <th>Fe, %</th>\n",
       "      <th>Cu, %</th>\n",
       "      <th>Zn, %</th>\n",
       "      <th>Ti, %</th>\n",
       "      <th>TiC, %</th>\n",
       "      <th>Cr, %</th>\n",
       "      <th>...</th>\n",
       "      <th>Sn, %</th>\n",
       "      <th>Sb, %</th>\n",
       "      <th>Cd, %</th>\n",
       "      <th>Au, %</th>\n",
       "      <th>Pd, %</th>\n",
       "      <th>Ir, %</th>\n",
       "      <th>Se, %</th>\n",
       "      <th>W, %</th>\n",
       "      <th>Ag, %</th>\n",
       "      <th>klass</th>\n",
       "    </tr>\n",
       "  </thead>\n",
       "  <tbody>\n",
       "    <tr>\n",
       "      <th>0</th>\n",
       "      <td>89.0</td>\n",
       "      <td>10.00</td>\n",
       "      <td>0.3</td>\n",
       "      <td>0.45</td>\n",
       "      <td>0.55</td>\n",
       "      <td>0.05</td>\n",
       "      <td>0.1</td>\n",
       "      <td>0.15</td>\n",
       "      <td>0.0</td>\n",
       "      <td>0.0</td>\n",
       "      <td>...</td>\n",
       "      <td>0.0</td>\n",
       "      <td>0.0</td>\n",
       "      <td>0.0</td>\n",
       "      <td>0.0</td>\n",
       "      <td>0.0</td>\n",
       "      <td>0.0</td>\n",
       "      <td>0.0</td>\n",
       "      <td>0.0</td>\n",
       "      <td>0.0</td>\n",
       "      <td>1.0</td>\n",
       "    </tr>\n",
       "    <tr>\n",
       "      <th>1</th>\n",
       "      <td>74.0</td>\n",
       "      <td>0.00</td>\n",
       "      <td>0.0</td>\n",
       "      <td>2.00</td>\n",
       "      <td>0.00</td>\n",
       "      <td>0.50</td>\n",
       "      <td>0.0</td>\n",
       "      <td>0.00</td>\n",
       "      <td>0.0</td>\n",
       "      <td>17.0</td>\n",
       "      <td>...</td>\n",
       "      <td>0.0</td>\n",
       "      <td>0.0</td>\n",
       "      <td>0.0</td>\n",
       "      <td>0.0</td>\n",
       "      <td>0.0</td>\n",
       "      <td>0.0</td>\n",
       "      <td>0.0</td>\n",
       "      <td>0.0</td>\n",
       "      <td>0.0</td>\n",
       "      <td>5.0</td>\n",
       "    </tr>\n",
       "    <tr>\n",
       "      <th>2</th>\n",
       "      <td>6.0</td>\n",
       "      <td>0.00</td>\n",
       "      <td>0.0</td>\n",
       "      <td>0.00</td>\n",
       "      <td>0.25</td>\n",
       "      <td>0.00</td>\n",
       "      <td>0.0</td>\n",
       "      <td>88.00</td>\n",
       "      <td>0.0</td>\n",
       "      <td>0.0</td>\n",
       "      <td>...</td>\n",
       "      <td>0.0</td>\n",
       "      <td>0.0</td>\n",
       "      <td>0.0</td>\n",
       "      <td>0.0</td>\n",
       "      <td>0.0</td>\n",
       "      <td>0.0</td>\n",
       "      <td>0.0</td>\n",
       "      <td>0.0</td>\n",
       "      <td>0.0</td>\n",
       "      <td>12.0</td>\n",
       "    </tr>\n",
       "    <tr>\n",
       "      <th>3</th>\n",
       "      <td>0.6</td>\n",
       "      <td>0.35</td>\n",
       "      <td>0.0</td>\n",
       "      <td>0.35</td>\n",
       "      <td>80.00</td>\n",
       "      <td>0.30</td>\n",
       "      <td>0.0</td>\n",
       "      <td>1.00</td>\n",
       "      <td>0.0</td>\n",
       "      <td>19.0</td>\n",
       "      <td>...</td>\n",
       "      <td>0.0</td>\n",
       "      <td>0.0</td>\n",
       "      <td>0.0</td>\n",
       "      <td>0.0</td>\n",
       "      <td>0.0</td>\n",
       "      <td>0.0</td>\n",
       "      <td>0.0</td>\n",
       "      <td>0.0</td>\n",
       "      <td>0.0</td>\n",
       "      <td>7.0</td>\n",
       "    </tr>\n",
       "    <tr>\n",
       "      <th>4</th>\n",
       "      <td>0.0</td>\n",
       "      <td>0.00</td>\n",
       "      <td>0.0</td>\n",
       "      <td>0.00</td>\n",
       "      <td>0.00</td>\n",
       "      <td>0.00</td>\n",
       "      <td>0.0</td>\n",
       "      <td>0.00</td>\n",
       "      <td>0.0</td>\n",
       "      <td>0.0</td>\n",
       "      <td>...</td>\n",
       "      <td>0.0</td>\n",
       "      <td>0.0</td>\n",
       "      <td>0.0</td>\n",
       "      <td>0.0</td>\n",
       "      <td>0.0</td>\n",
       "      <td>0.0</td>\n",
       "      <td>0.0</td>\n",
       "      <td>0.0</td>\n",
       "      <td>0.0</td>\n",
       "      <td>9.0</td>\n",
       "    </tr>\n",
       "    <tr>\n",
       "      <th>...</th>\n",
       "      <td>...</td>\n",
       "      <td>...</td>\n",
       "      <td>...</td>\n",
       "      <td>...</td>\n",
       "      <td>...</td>\n",
       "      <td>...</td>\n",
       "      <td>...</td>\n",
       "      <td>...</td>\n",
       "      <td>...</td>\n",
       "      <td>...</td>\n",
       "      <td>...</td>\n",
       "      <td>...</td>\n",
       "      <td>...</td>\n",
       "      <td>...</td>\n",
       "      <td>...</td>\n",
       "      <td>...</td>\n",
       "      <td>...</td>\n",
       "      <td>...</td>\n",
       "      <td>...</td>\n",
       "      <td>...</td>\n",
       "      <td>...</td>\n",
       "    </tr>\n",
       "    <tr>\n",
       "      <th>257</th>\n",
       "      <td>0.0</td>\n",
       "      <td>0.00</td>\n",
       "      <td>0.0</td>\n",
       "      <td>0.00</td>\n",
       "      <td>95.00</td>\n",
       "      <td>0.00</td>\n",
       "      <td>0.0</td>\n",
       "      <td>0.00</td>\n",
       "      <td>0.0</td>\n",
       "      <td>0.0</td>\n",
       "      <td>...</td>\n",
       "      <td>0.0</td>\n",
       "      <td>0.0</td>\n",
       "      <td>0.0</td>\n",
       "      <td>0.0</td>\n",
       "      <td>0.0</td>\n",
       "      <td>0.0</td>\n",
       "      <td>0.0</td>\n",
       "      <td>0.0</td>\n",
       "      <td>0.0</td>\n",
       "      <td>15.0</td>\n",
       "    </tr>\n",
       "    <tr>\n",
       "      <th>258</th>\n",
       "      <td>0.0</td>\n",
       "      <td>0.00</td>\n",
       "      <td>0.0</td>\n",
       "      <td>0.00</td>\n",
       "      <td>95.00</td>\n",
       "      <td>0.00</td>\n",
       "      <td>0.0</td>\n",
       "      <td>0.00</td>\n",
       "      <td>0.0</td>\n",
       "      <td>0.0</td>\n",
       "      <td>...</td>\n",
       "      <td>0.0</td>\n",
       "      <td>0.0</td>\n",
       "      <td>0.0</td>\n",
       "      <td>0.0</td>\n",
       "      <td>0.0</td>\n",
       "      <td>0.0</td>\n",
       "      <td>0.0</td>\n",
       "      <td>0.0</td>\n",
       "      <td>0.0</td>\n",
       "      <td>15.0</td>\n",
       "    </tr>\n",
       "    <tr>\n",
       "      <th>259</th>\n",
       "      <td>0.0</td>\n",
       "      <td>0.00</td>\n",
       "      <td>0.0</td>\n",
       "      <td>0.00</td>\n",
       "      <td>95.00</td>\n",
       "      <td>0.00</td>\n",
       "      <td>0.0</td>\n",
       "      <td>0.00</td>\n",
       "      <td>0.0</td>\n",
       "      <td>0.0</td>\n",
       "      <td>...</td>\n",
       "      <td>0.0</td>\n",
       "      <td>0.0</td>\n",
       "      <td>0.0</td>\n",
       "      <td>0.0</td>\n",
       "      <td>0.0</td>\n",
       "      <td>0.0</td>\n",
       "      <td>0.0</td>\n",
       "      <td>0.0</td>\n",
       "      <td>0.0</td>\n",
       "      <td>15.0</td>\n",
       "    </tr>\n",
       "    <tr>\n",
       "      <th>260</th>\n",
       "      <td>0.0</td>\n",
       "      <td>0.00</td>\n",
       "      <td>0.0</td>\n",
       "      <td>0.00</td>\n",
       "      <td>95.00</td>\n",
       "      <td>0.00</td>\n",
       "      <td>0.0</td>\n",
       "      <td>0.00</td>\n",
       "      <td>0.0</td>\n",
       "      <td>0.0</td>\n",
       "      <td>...</td>\n",
       "      <td>0.0</td>\n",
       "      <td>0.0</td>\n",
       "      <td>0.0</td>\n",
       "      <td>0.0</td>\n",
       "      <td>0.0</td>\n",
       "      <td>0.0</td>\n",
       "      <td>0.0</td>\n",
       "      <td>0.0</td>\n",
       "      <td>0.0</td>\n",
       "      <td>15.0</td>\n",
       "    </tr>\n",
       "    <tr>\n",
       "      <th>261</th>\n",
       "      <td>0.0</td>\n",
       "      <td>0.00</td>\n",
       "      <td>0.0</td>\n",
       "      <td>0.00</td>\n",
       "      <td>95.00</td>\n",
       "      <td>0.00</td>\n",
       "      <td>0.0</td>\n",
       "      <td>0.00</td>\n",
       "      <td>0.0</td>\n",
       "      <td>0.0</td>\n",
       "      <td>...</td>\n",
       "      <td>0.0</td>\n",
       "      <td>0.0</td>\n",
       "      <td>0.0</td>\n",
       "      <td>0.0</td>\n",
       "      <td>0.0</td>\n",
       "      <td>0.0</td>\n",
       "      <td>0.0</td>\n",
       "      <td>0.0</td>\n",
       "      <td>0.0</td>\n",
       "      <td>15.0</td>\n",
       "    </tr>\n",
       "  </tbody>\n",
       "</table>\n",
       "<p>262 rows × 33 columns</p>\n",
       "</div>"
      ],
      "text/plain": [
       "     Al, %  Si, %  Mg, %  Mn, %  Fe, %  Cu, %  Zn, %  Ti, %  TiC, %  Cr, %  \\\n",
       "0     89.0  10.00    0.3   0.45   0.55   0.05    0.1   0.15     0.0    0.0   \n",
       "1     74.0   0.00    0.0   2.00   0.00   0.50    0.0   0.00     0.0   17.0   \n",
       "2      6.0   0.00    0.0   0.00   0.25   0.00    0.0  88.00     0.0    0.0   \n",
       "3      0.6   0.35    0.0   0.35  80.00   0.30    0.0   1.00     0.0   19.0   \n",
       "4      0.0   0.00    0.0   0.00   0.00   0.00    0.0   0.00     0.0    0.0   \n",
       "..     ...    ...    ...    ...    ...    ...    ...    ...     ...    ...   \n",
       "257    0.0   0.00    0.0   0.00  95.00   0.00    0.0   0.00     0.0    0.0   \n",
       "258    0.0   0.00    0.0   0.00  95.00   0.00    0.0   0.00     0.0    0.0   \n",
       "259    0.0   0.00    0.0   0.00  95.00   0.00    0.0   0.00     0.0    0.0   \n",
       "260    0.0   0.00    0.0   0.00  95.00   0.00    0.0   0.00     0.0    0.0   \n",
       "261    0.0   0.00    0.0   0.00  95.00   0.00    0.0   0.00     0.0    0.0   \n",
       "\n",
       "     ...  Sn, %  Sb, %  Cd, %  Au, %  Pd, %  Ir, %  Se, %  W, %  Ag, %  klass  \n",
       "0    ...    0.0    0.0    0.0    0.0    0.0    0.0    0.0   0.0    0.0    1.0  \n",
       "1    ...    0.0    0.0    0.0    0.0    0.0    0.0    0.0   0.0    0.0    5.0  \n",
       "2    ...    0.0    0.0    0.0    0.0    0.0    0.0    0.0   0.0    0.0   12.0  \n",
       "3    ...    0.0    0.0    0.0    0.0    0.0    0.0    0.0   0.0    0.0    7.0  \n",
       "4    ...    0.0    0.0    0.0    0.0    0.0    0.0    0.0   0.0    0.0    9.0  \n",
       "..   ...    ...    ...    ...    ...    ...    ...    ...   ...    ...    ...  \n",
       "257  ...    0.0    0.0    0.0    0.0    0.0    0.0    0.0   0.0    0.0   15.0  \n",
       "258  ...    0.0    0.0    0.0    0.0    0.0    0.0    0.0   0.0    0.0   15.0  \n",
       "259  ...    0.0    0.0    0.0    0.0    0.0    0.0    0.0   0.0    0.0   15.0  \n",
       "260  ...    0.0    0.0    0.0    0.0    0.0    0.0    0.0   0.0    0.0   15.0  \n",
       "261  ...    0.0    0.0    0.0    0.0    0.0    0.0    0.0   0.0    0.0   15.0  \n",
       "\n",
       "[262 rows x 33 columns]"
      ]
     },
     "execution_count": 115,
     "metadata": {},
     "output_type": "execute_result"
    }
   ],
   "source": [
    "X_new_lr.fillna(0)"
   ]
  },
  {
   "cell_type": "code",
   "execution_count": 120,
   "id": "ab36de6c",
   "metadata": {},
   "outputs": [],
   "source": [
    "Xx = scaler.fit_transform(X_new_lr)"
   ]
  },
  {
   "cell_type": "code",
   "execution_count": 121,
   "id": "b5b3f0ec",
   "metadata": {},
   "outputs": [],
   "source": [
    "X_new_lr_train, X_new_lr_holdout, y_new_lr_train, y_new_lr_holdout = train_test_split(\n",
    "    Xx, y_new_lr, test_size=0.3, random_state=17\n",
    ")"
   ]
  },
  {
   "cell_type": "code",
   "execution_count": 122,
   "id": "46d91edb",
   "metadata": {},
   "outputs": [
    {
     "ename": "ValueError",
     "evalue": "Input contains NaN, infinity or a value too large for dtype('float64').",
     "output_type": "error",
     "traceback": [
      "\u001b[1;31m---------------------------------------------------------------------------\u001b[0m",
      "\u001b[1;31mValueError\u001b[0m                                Traceback (most recent call last)",
      "Input \u001b[1;32mIn [122]\u001b[0m, in \u001b[0;36m<cell line: 1>\u001b[1;34m()\u001b[0m\n\u001b[1;32m----> 1\u001b[0m \u001b[43mlinreg\u001b[49m\u001b[38;5;241;43m.\u001b[39;49m\u001b[43mfit\u001b[49m\u001b[43m(\u001b[49m\u001b[43mX_new_lr_train\u001b[49m\u001b[43m,\u001b[49m\u001b[43m \u001b[49m\u001b[43my_new_lr_train\u001b[49m\u001b[43m)\u001b[49m\n",
      "File \u001b[1;32m~\\anaconda3\\lib\\site-packages\\sklearn\\linear_model\\_base.py:662\u001b[0m, in \u001b[0;36mLinearRegression.fit\u001b[1;34m(self, X, y, sample_weight)\u001b[0m\n\u001b[0;32m    658\u001b[0m n_jobs_ \u001b[38;5;241m=\u001b[39m \u001b[38;5;28mself\u001b[39m\u001b[38;5;241m.\u001b[39mn_jobs\n\u001b[0;32m    660\u001b[0m accept_sparse \u001b[38;5;241m=\u001b[39m \u001b[38;5;28;01mFalse\u001b[39;00m \u001b[38;5;28;01mif\u001b[39;00m \u001b[38;5;28mself\u001b[39m\u001b[38;5;241m.\u001b[39mpositive \u001b[38;5;28;01melse\u001b[39;00m [\u001b[38;5;124m\"\u001b[39m\u001b[38;5;124mcsr\u001b[39m\u001b[38;5;124m\"\u001b[39m, \u001b[38;5;124m\"\u001b[39m\u001b[38;5;124mcsc\u001b[39m\u001b[38;5;124m\"\u001b[39m, \u001b[38;5;124m\"\u001b[39m\u001b[38;5;124mcoo\u001b[39m\u001b[38;5;124m\"\u001b[39m]\n\u001b[1;32m--> 662\u001b[0m X, y \u001b[38;5;241m=\u001b[39m \u001b[38;5;28;43mself\u001b[39;49m\u001b[38;5;241;43m.\u001b[39;49m\u001b[43m_validate_data\u001b[49m\u001b[43m(\u001b[49m\n\u001b[0;32m    663\u001b[0m \u001b[43m    \u001b[49m\u001b[43mX\u001b[49m\u001b[43m,\u001b[49m\u001b[43m \u001b[49m\u001b[43my\u001b[49m\u001b[43m,\u001b[49m\u001b[43m \u001b[49m\u001b[43maccept_sparse\u001b[49m\u001b[38;5;241;43m=\u001b[39;49m\u001b[43maccept_sparse\u001b[49m\u001b[43m,\u001b[49m\u001b[43m \u001b[49m\u001b[43my_numeric\u001b[49m\u001b[38;5;241;43m=\u001b[39;49m\u001b[38;5;28;43;01mTrue\u001b[39;49;00m\u001b[43m,\u001b[49m\u001b[43m \u001b[49m\u001b[43mmulti_output\u001b[49m\u001b[38;5;241;43m=\u001b[39;49m\u001b[38;5;28;43;01mTrue\u001b[39;49;00m\n\u001b[0;32m    664\u001b[0m \u001b[43m\u001b[49m\u001b[43m)\u001b[49m\n\u001b[0;32m    666\u001b[0m \u001b[38;5;28;01mif\u001b[39;00m sample_weight \u001b[38;5;129;01mis\u001b[39;00m \u001b[38;5;129;01mnot\u001b[39;00m \u001b[38;5;28;01mNone\u001b[39;00m:\n\u001b[0;32m    667\u001b[0m     sample_weight \u001b[38;5;241m=\u001b[39m _check_sample_weight(sample_weight, X, dtype\u001b[38;5;241m=\u001b[39mX\u001b[38;5;241m.\u001b[39mdtype)\n",
      "File \u001b[1;32m~\\anaconda3\\lib\\site-packages\\sklearn\\base.py:581\u001b[0m, in \u001b[0;36mBaseEstimator._validate_data\u001b[1;34m(self, X, y, reset, validate_separately, **check_params)\u001b[0m\n\u001b[0;32m    579\u001b[0m         y \u001b[38;5;241m=\u001b[39m check_array(y, \u001b[38;5;241m*\u001b[39m\u001b[38;5;241m*\u001b[39mcheck_y_params)\n\u001b[0;32m    580\u001b[0m     \u001b[38;5;28;01melse\u001b[39;00m:\n\u001b[1;32m--> 581\u001b[0m         X, y \u001b[38;5;241m=\u001b[39m check_X_y(X, y, \u001b[38;5;241m*\u001b[39m\u001b[38;5;241m*\u001b[39mcheck_params)\n\u001b[0;32m    582\u001b[0m     out \u001b[38;5;241m=\u001b[39m X, y\n\u001b[0;32m    584\u001b[0m \u001b[38;5;28;01mif\u001b[39;00m \u001b[38;5;129;01mnot\u001b[39;00m no_val_X \u001b[38;5;129;01mand\u001b[39;00m check_params\u001b[38;5;241m.\u001b[39mget(\u001b[38;5;124m\"\u001b[39m\u001b[38;5;124mensure_2d\u001b[39m\u001b[38;5;124m\"\u001b[39m, \u001b[38;5;28;01mTrue\u001b[39;00m):\n",
      "File \u001b[1;32m~\\anaconda3\\lib\\site-packages\\sklearn\\utils\\validation.py:979\u001b[0m, in \u001b[0;36mcheck_X_y\u001b[1;34m(X, y, accept_sparse, accept_large_sparse, dtype, order, copy, force_all_finite, ensure_2d, allow_nd, multi_output, ensure_min_samples, ensure_min_features, y_numeric, estimator)\u001b[0m\n\u001b[0;32m    962\u001b[0m     \u001b[38;5;28;01mraise\u001b[39;00m \u001b[38;5;167;01mValueError\u001b[39;00m(\u001b[38;5;124m\"\u001b[39m\u001b[38;5;124my cannot be None\u001b[39m\u001b[38;5;124m\"\u001b[39m)\n\u001b[0;32m    964\u001b[0m X \u001b[38;5;241m=\u001b[39m check_array(\n\u001b[0;32m    965\u001b[0m     X,\n\u001b[0;32m    966\u001b[0m     accept_sparse\u001b[38;5;241m=\u001b[39maccept_sparse,\n\u001b[1;32m   (...)\u001b[0m\n\u001b[0;32m    976\u001b[0m     estimator\u001b[38;5;241m=\u001b[39mestimator,\n\u001b[0;32m    977\u001b[0m )\n\u001b[1;32m--> 979\u001b[0m y \u001b[38;5;241m=\u001b[39m \u001b[43m_check_y\u001b[49m\u001b[43m(\u001b[49m\u001b[43my\u001b[49m\u001b[43m,\u001b[49m\u001b[43m \u001b[49m\u001b[43mmulti_output\u001b[49m\u001b[38;5;241;43m=\u001b[39;49m\u001b[43mmulti_output\u001b[49m\u001b[43m,\u001b[49m\u001b[43m \u001b[49m\u001b[43my_numeric\u001b[49m\u001b[38;5;241;43m=\u001b[39;49m\u001b[43my_numeric\u001b[49m\u001b[43m)\u001b[49m\n\u001b[0;32m    981\u001b[0m check_consistent_length(X, y)\n\u001b[0;32m    983\u001b[0m \u001b[38;5;28;01mreturn\u001b[39;00m X, y\n",
      "File \u001b[1;32m~\\anaconda3\\lib\\site-packages\\sklearn\\utils\\validation.py:989\u001b[0m, in \u001b[0;36m_check_y\u001b[1;34m(y, multi_output, y_numeric)\u001b[0m\n\u001b[0;32m    987\u001b[0m \u001b[38;5;124;03m\"\"\"Isolated part of check_X_y dedicated to y validation\"\"\"\u001b[39;00m\n\u001b[0;32m    988\u001b[0m \u001b[38;5;28;01mif\u001b[39;00m multi_output:\n\u001b[1;32m--> 989\u001b[0m     y \u001b[38;5;241m=\u001b[39m \u001b[43mcheck_array\u001b[49m\u001b[43m(\u001b[49m\n\u001b[0;32m    990\u001b[0m \u001b[43m        \u001b[49m\u001b[43my\u001b[49m\u001b[43m,\u001b[49m\u001b[43m \u001b[49m\u001b[43maccept_sparse\u001b[49m\u001b[38;5;241;43m=\u001b[39;49m\u001b[38;5;124;43m\"\u001b[39;49m\u001b[38;5;124;43mcsr\u001b[39;49m\u001b[38;5;124;43m\"\u001b[39;49m\u001b[43m,\u001b[49m\u001b[43m \u001b[49m\u001b[43mforce_all_finite\u001b[49m\u001b[38;5;241;43m=\u001b[39;49m\u001b[38;5;28;43;01mTrue\u001b[39;49;00m\u001b[43m,\u001b[49m\u001b[43m \u001b[49m\u001b[43mensure_2d\u001b[49m\u001b[38;5;241;43m=\u001b[39;49m\u001b[38;5;28;43;01mFalse\u001b[39;49;00m\u001b[43m,\u001b[49m\u001b[43m \u001b[49m\u001b[43mdtype\u001b[49m\u001b[38;5;241;43m=\u001b[39;49m\u001b[38;5;28;43;01mNone\u001b[39;49;00m\n\u001b[0;32m    991\u001b[0m \u001b[43m    \u001b[49m\u001b[43m)\u001b[49m\n\u001b[0;32m    992\u001b[0m \u001b[38;5;28;01melse\u001b[39;00m:\n\u001b[0;32m    993\u001b[0m     y \u001b[38;5;241m=\u001b[39m column_or_1d(y, warn\u001b[38;5;241m=\u001b[39m\u001b[38;5;28;01mTrue\u001b[39;00m)\n",
      "File \u001b[1;32m~\\anaconda3\\lib\\site-packages\\sklearn\\utils\\validation.py:800\u001b[0m, in \u001b[0;36mcheck_array\u001b[1;34m(array, accept_sparse, accept_large_sparse, dtype, order, copy, force_all_finite, ensure_2d, allow_nd, ensure_min_samples, ensure_min_features, estimator)\u001b[0m\n\u001b[0;32m    794\u001b[0m         \u001b[38;5;28;01mraise\u001b[39;00m \u001b[38;5;167;01mValueError\u001b[39;00m(\n\u001b[0;32m    795\u001b[0m             \u001b[38;5;124m\"\u001b[39m\u001b[38;5;124mFound array with dim \u001b[39m\u001b[38;5;132;01m%d\u001b[39;00m\u001b[38;5;124m. \u001b[39m\u001b[38;5;132;01m%s\u001b[39;00m\u001b[38;5;124m expected <= 2.\u001b[39m\u001b[38;5;124m\"\u001b[39m\n\u001b[0;32m    796\u001b[0m             \u001b[38;5;241m%\u001b[39m (array\u001b[38;5;241m.\u001b[39mndim, estimator_name)\n\u001b[0;32m    797\u001b[0m         )\n\u001b[0;32m    799\u001b[0m     \u001b[38;5;28;01mif\u001b[39;00m force_all_finite:\n\u001b[1;32m--> 800\u001b[0m         \u001b[43m_assert_all_finite\u001b[49m\u001b[43m(\u001b[49m\u001b[43marray\u001b[49m\u001b[43m,\u001b[49m\u001b[43m \u001b[49m\u001b[43mallow_nan\u001b[49m\u001b[38;5;241;43m=\u001b[39;49m\u001b[43mforce_all_finite\u001b[49m\u001b[43m \u001b[49m\u001b[38;5;241;43m==\u001b[39;49m\u001b[43m \u001b[49m\u001b[38;5;124;43m\"\u001b[39;49m\u001b[38;5;124;43mallow-nan\u001b[39;49m\u001b[38;5;124;43m\"\u001b[39;49m\u001b[43m)\u001b[49m\n\u001b[0;32m    802\u001b[0m \u001b[38;5;28;01mif\u001b[39;00m ensure_min_samples \u001b[38;5;241m>\u001b[39m \u001b[38;5;241m0\u001b[39m:\n\u001b[0;32m    803\u001b[0m     n_samples \u001b[38;5;241m=\u001b[39m _num_samples(array)\n",
      "File \u001b[1;32m~\\anaconda3\\lib\\site-packages\\sklearn\\utils\\validation.py:114\u001b[0m, in \u001b[0;36m_assert_all_finite\u001b[1;34m(X, allow_nan, msg_dtype)\u001b[0m\n\u001b[0;32m    107\u001b[0m     \u001b[38;5;28;01mif\u001b[39;00m (\n\u001b[0;32m    108\u001b[0m         allow_nan\n\u001b[0;32m    109\u001b[0m         \u001b[38;5;129;01mand\u001b[39;00m np\u001b[38;5;241m.\u001b[39misinf(X)\u001b[38;5;241m.\u001b[39many()\n\u001b[0;32m    110\u001b[0m         \u001b[38;5;129;01mor\u001b[39;00m \u001b[38;5;129;01mnot\u001b[39;00m allow_nan\n\u001b[0;32m    111\u001b[0m         \u001b[38;5;129;01mand\u001b[39;00m \u001b[38;5;129;01mnot\u001b[39;00m np\u001b[38;5;241m.\u001b[39misfinite(X)\u001b[38;5;241m.\u001b[39mall()\n\u001b[0;32m    112\u001b[0m     ):\n\u001b[0;32m    113\u001b[0m         type_err \u001b[38;5;241m=\u001b[39m \u001b[38;5;124m\"\u001b[39m\u001b[38;5;124minfinity\u001b[39m\u001b[38;5;124m\"\u001b[39m \u001b[38;5;28;01mif\u001b[39;00m allow_nan \u001b[38;5;28;01melse\u001b[39;00m \u001b[38;5;124m\"\u001b[39m\u001b[38;5;124mNaN, infinity\u001b[39m\u001b[38;5;124m\"\u001b[39m\n\u001b[1;32m--> 114\u001b[0m         \u001b[38;5;28;01mraise\u001b[39;00m \u001b[38;5;167;01mValueError\u001b[39;00m(\n\u001b[0;32m    115\u001b[0m             msg_err\u001b[38;5;241m.\u001b[39mformat(\n\u001b[0;32m    116\u001b[0m                 type_err, msg_dtype \u001b[38;5;28;01mif\u001b[39;00m msg_dtype \u001b[38;5;129;01mis\u001b[39;00m \u001b[38;5;129;01mnot\u001b[39;00m \u001b[38;5;28;01mNone\u001b[39;00m \u001b[38;5;28;01melse\u001b[39;00m X\u001b[38;5;241m.\u001b[39mdtype\n\u001b[0;32m    117\u001b[0m             )\n\u001b[0;32m    118\u001b[0m         )\n\u001b[0;32m    119\u001b[0m \u001b[38;5;66;03m# for object dtype data, we only check for NaNs (GH-13254)\u001b[39;00m\n\u001b[0;32m    120\u001b[0m \u001b[38;5;28;01melif\u001b[39;00m X\u001b[38;5;241m.\u001b[39mdtype \u001b[38;5;241m==\u001b[39m np\u001b[38;5;241m.\u001b[39mdtype(\u001b[38;5;124m\"\u001b[39m\u001b[38;5;124mobject\u001b[39m\u001b[38;5;124m\"\u001b[39m) \u001b[38;5;129;01mand\u001b[39;00m \u001b[38;5;129;01mnot\u001b[39;00m allow_nan:\n",
      "\u001b[1;31mValueError\u001b[0m: Input contains NaN, infinity or a value too large for dtype('float64')."
     ]
    }
   ],
   "source": [
    "linreg.fit(X_new_lr_train, y_new_lr_train)"
   ]
  },
  {
   "cell_type": "markdown",
   "id": "590f6f7c",
   "metadata": {},
   "source": [
    "## Polynomial Pegression "
   ]
  },
  {
   "cell_type": "code",
   "execution_count": 123,
   "id": "f223cb4e",
   "metadata": {},
   "outputs": [],
   "source": [
    "from sklearn.preprocessing import PolynomialFeatures\n",
    "poly = PolynomialFeatures(degree=2)"
   ]
  },
  {
   "cell_type": "code",
   "execution_count": 125,
   "id": "19bef35b",
   "metadata": {},
   "outputs": [
    {
     "data": {
      "text/plain": [
       "array([[  1.,  89.,  10., ...,   0.,   0.,   1.],\n",
       "       [  1.,  74.,   0., ...,   0.,   0.,  25.],\n",
       "       [  1.,   6.,   0., ...,   0.,   0., 144.],\n",
       "       ...,\n",
       "       [  1.,   0.,   0., ...,   0.,   0., 225.],\n",
       "       [  1.,   0.,   0., ...,   0.,   0., 225.],\n",
       "       [  1.,   0.,   0., ...,   0.,   0., 225.]])"
      ]
     },
     "execution_count": 125,
     "metadata": {},
     "output_type": "execute_result"
    }
   ],
   "source": [
    "poly.fit_transform(X_new_lr, y_new_lr)"
   ]
  },
  {
   "cell_type": "code",
   "execution_count": null,
   "id": "c3da2ceb",
   "metadata": {},
   "outputs": [],
   "source": []
  }
 ],
 "metadata": {
  "kernelspec": {
   "display_name": "Python 3",
   "language": "python",
   "name": "python3"
  },
  "language_info": {
   "codemirror_mode": {
    "name": "ipython",
    "version": 3
   },
   "file_extension": ".py",
   "mimetype": "text/x-python",
   "name": "python",
   "nbconvert_exporter": "python",
   "pygments_lexer": "ipython3",
   "version": "3.9.7"
  }
 },
 "nbformat": 4,
 "nbformat_minor": 5
}
