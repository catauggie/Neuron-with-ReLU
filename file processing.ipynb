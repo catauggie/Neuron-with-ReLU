{
 "cells": [
  {
   "cell_type": "code",
   "execution_count": 1,
   "id": "d7364b2f",
   "metadata": {},
   "outputs": [
    {
     "name": "stdout",
     "output_type": "stream",
     "text": [
      "D:/python/SLM/Копия БД SLM (образец).xlsx\n"
     ]
    }
   ],
   "source": [
    "import tkinter as tk\n",
    "from tkinter.filedialog import askopenfilename\n",
    "import pandas as pd\n",
    "\n",
    "def import_excel_data():\n",
    "    global v, data\n",
    "    exc_file_path = askopenfilename(filetypes=[(\"Excel files\", \".xlsx .xls\")])\n",
    "    print(exc_file_path)\n",
    "    v.set(exc_file_path)\n",
    "    data = pd.read_excel(exc_file_path)\n",
    "    \n",
    "\n",
    "root = tk.Tk()\n",
    "tk.Label(root, text='File Path').grid(row=0, column=0)\n",
    "v = tk.StringVar()\n",
    "entry = tk.Entry(root, textvariable=v).grid(row=0, column=1)\n",
    "tk.Button(root, text='Browse Data Set',command=import_excel_data).grid(row=1, column=0)\n",
    "tk.Button(root, text='Close',command=root.destroy).grid(row=1, column=1)\n",
    "root.mainloop()"
   ]
  },
  {
   "cell_type": "code",
   "execution_count": 2,
   "id": "14fbfb7b",
   "metadata": {},
   "outputs": [
    {
     "data": {
      "text/html": [
       "<div>\n",
       "<style scoped>\n",
       "    .dataframe tbody tr th:only-of-type {\n",
       "        vertical-align: middle;\n",
       "    }\n",
       "\n",
       "    .dataframe tbody tr th {\n",
       "        vertical-align: top;\n",
       "    }\n",
       "\n",
       "    .dataframe thead th {\n",
       "        text-align: right;\n",
       "    }\n",
       "</style>\n",
       "<table border=\"1\" class=\"dataframe\">\n",
       "  <thead>\n",
       "    <tr style=\"text-align: right;\">\n",
       "      <th></th>\n",
       "      <th>ID</th>\n",
       "      <th>Марка</th>\n",
       "      <th>Группа материала</th>\n",
       "      <th>Класс</th>\n",
       "      <th>Отрасль применения</th>\n",
       "      <th>Область применения</th>\n",
       "      <th>Форма частиц</th>\n",
       "      <th>Cредний размер частиц. мкм (объемное распределение)</th>\n",
       "      <th>Шероховатость поверхности. мкм (после построения)</th>\n",
       "      <th>Защитная среда</th>\n",
       "      <th>...</th>\n",
       "      <th>Предел прочности. МПа</th>\n",
       "      <th>Температура плавления. ⁰С</th>\n",
       "      <th>Максимальная температура применения составляет. ⁰С</th>\n",
       "      <th>Разница значение осей\\nэквивалентного эллипса гранул W. мкм</th>\n",
       "      <th>Площадь\\nповерхности гранулы S пов.\\nмкм²</th>\n",
       "      <th>Площадь\\nпроекции гранулы S экв.\\nмкм²</th>\n",
       "      <th>Минимальная рекомендуемая толщина слоя. мкм</th>\n",
       "      <th>Минимальная толщина стенки. мм</th>\n",
       "      <th>Методы изготовления порошка</th>\n",
       "      <th>Фирмы производители и поставщики</th>\n",
       "    </tr>\n",
       "  </thead>\n",
       "  <tbody>\n",
       "    <tr>\n",
       "      <th>0</th>\n",
       "      <td>1</td>\n",
       "      <td>AlSi10Mg (DE)</td>\n",
       "      <td>Металл</td>\n",
       "      <td>Алюминиевый сплав</td>\n",
       "      <td>Аэрокосмическая отрасль. \\nавтомобильная промы...</td>\n",
       "      <td>Изготовление тонкостенных деталей с невысокой ...</td>\n",
       "      <td>Сфероидная. характерно наличие мелких сателлит...</td>\n",
       "      <td>39.62</td>\n",
       "      <td>Ra 15 — 19\\n Rz 30 — 40</td>\n",
       "      <td>аргон</td>\n",
       "      <td>...</td>\n",
       "      <td>397.0</td>\n",
       "      <td>590.0</td>\n",
       "      <td>500</td>\n",
       "      <td>2.0</td>\n",
       "      <td>49.199</td>\n",
       "      <td>46.612</td>\n",
       "      <td>30.0</td>\n",
       "      <td>0.4</td>\n",
       "      <td>Electrode Induction Guide Inert Gas Atomizatio...</td>\n",
       "      <td>Concept Laser (DE). EOS (DE). \\nSLM Solution (...</td>\n",
       "    </tr>\n",
       "    <tr>\n",
       "      <th>1</th>\n",
       "      <td>2</td>\n",
       "      <td>316L (US)</td>\n",
       "      <td>Металл</td>\n",
       "      <td>Нержавеющая сталь</td>\n",
       "      <td>Авиастроение.\\n пищевая промышленность. \\nхими...</td>\n",
       "      <td>Изготовление металлических рам  для морской и ...</td>\n",
       "      <td>Сфероидная. характерно наличие мелких сателлит...</td>\n",
       "      <td>36.19</td>\n",
       "      <td>Ra 13 — 5 \\nRz 80 — 20</td>\n",
       "      <td>азот</td>\n",
       "      <td>...</td>\n",
       "      <td>580.0</td>\n",
       "      <td>1440.0</td>\n",
       "      <td>550</td>\n",
       "      <td>1.0</td>\n",
       "      <td>35.912</td>\n",
       "      <td>34.712</td>\n",
       "      <td>25.0</td>\n",
       "      <td>0.4</td>\n",
       "      <td>Vacuum Induction Melt Inert Gas Atomization (V...</td>\n",
       "      <td>3D Systems (US).  Realizer (DE).\\n Phenix Syst...</td>\n",
       "    </tr>\n",
       "    <tr>\n",
       "      <th>2</th>\n",
       "      <td>3</td>\n",
       "      <td>Ti6Al4V (JP)</td>\n",
       "      <td>Металл</td>\n",
       "      <td>Титановый сплав</td>\n",
       "      <td>Технология машиностроения. \\nмедицина. \\nавтом...</td>\n",
       "      <td>Изготовление биомеханических протезов и детале...</td>\n",
       "      <td>Сфероидная. характерно наличие мелких сателлит...</td>\n",
       "      <td>24.86</td>\n",
       "      <td>Ra 15 — 19\\n Rz 96 — 115</td>\n",
       "      <td>аргон</td>\n",
       "      <td>...</td>\n",
       "      <td>570.0</td>\n",
       "      <td>1600.0</td>\n",
       "      <td>400</td>\n",
       "      <td>1.0</td>\n",
       "      <td>48.182</td>\n",
       "      <td>42.231</td>\n",
       "      <td>20.0</td>\n",
       "      <td>0.4</td>\n",
       "      <td>Electrode Induction Guide Inert Gas Atomizatio...</td>\n",
       "      <td>Concept Laser (DE). SLM Solutions (DE).  \\nRay...</td>\n",
       "    </tr>\n",
       "    <tr>\n",
       "      <th>3</th>\n",
       "      <td>4</td>\n",
       "      <td>Inconel 718 (US)</td>\n",
       "      <td>Металл</td>\n",
       "      <td>Никельхромовый сплав</td>\n",
       "      <td>Ракетнокосмическая промышленность. авиастроение\\n</td>\n",
       "      <td>Изготовление турбин и \\nракетных двигателей</td>\n",
       "      <td>Сфероидная. характерно наличие мелких сателлит...</td>\n",
       "      <td>44.56</td>\n",
       "      <td>Ra 10 — 15\\n Rz 50 — 90</td>\n",
       "      <td>азот</td>\n",
       "      <td>...</td>\n",
       "      <td>1200.0</td>\n",
       "      <td>1260.0</td>\n",
       "      <td>704</td>\n",
       "      <td>1.0</td>\n",
       "      <td>48.673</td>\n",
       "      <td>43.198</td>\n",
       "      <td>20.0</td>\n",
       "      <td>0.3</td>\n",
       "      <td>Vacuum Induction Melt Inert Gas Atomization (V...</td>\n",
       "      <td>Special Metals Corporation (US).  \\nSLM Solut...</td>\n",
       "    </tr>\n",
       "    <tr>\n",
       "      <th>4</th>\n",
       "      <td>5</td>\n",
       "      <td>PA12 (DE)</td>\n",
       "      <td>Полимер</td>\n",
       "      <td>Полиамид</td>\n",
       "      <td>Электротехническая. радиотехническая. автомоб...</td>\n",
       "      <td>Трубки. фитинги. шланги. штуцеры. крышки</td>\n",
       "      <td>Сфероидная. характерно наличие мелких сателлит...</td>\n",
       "      <td>38.51</td>\n",
       "      <td>Ra 10 — 11\\n Rz 30 — 50</td>\n",
       "      <td>нет</td>\n",
       "      <td>...</td>\n",
       "      <td>100.0</td>\n",
       "      <td>178.0</td>\n",
       "      <td>120</td>\n",
       "      <td>1.0</td>\n",
       "      <td>38.911</td>\n",
       "      <td>35.129</td>\n",
       "      <td>30.0</td>\n",
       "      <td>0.8</td>\n",
       "      <td>Vacuum Induction Melt Inert Gas Atomization (V...</td>\n",
       "      <td>Hangzhou Guozhen Wanxin Coating \\nEquipments M...</td>\n",
       "    </tr>\n",
       "  </tbody>\n",
       "</table>\n",
       "<p>5 rows × 59 columns</p>\n",
       "</div>"
      ],
      "text/plain": [
       "   ID              Марка Группа материала                 Класс  \\\n",
       "0    1     AlSi10Mg (DE)           Металл     Алюминиевый сплав   \n",
       "1    2         316L (US)           Металл     Нержавеющая сталь   \n",
       "2    3      Ti6Al4V (JP)           Металл       Титановый сплав   \n",
       "3    4  Inconel 718 (US)           Металл  Никельхромовый сплав   \n",
       "4    5         PA12 (DE)          Полимер              Полиамид   \n",
       "\n",
       "                                  Отрасль применения  \\\n",
       "0  Аэрокосмическая отрасль. \\nавтомобильная промы...   \n",
       "1  Авиастроение.\\n пищевая промышленность. \\nхими...   \n",
       "2  Технология машиностроения. \\nмедицина. \\nавтом...   \n",
       "3  Ракетнокосмическая промышленность. авиастроение\\n   \n",
       "4   Электротехническая. радиотехническая. автомоб...   \n",
       "\n",
       "                                  Область применения  \\\n",
       "0  Изготовление тонкостенных деталей с невысокой ...   \n",
       "1  Изготовление металлических рам  для морской и ...   \n",
       "2  Изготовление биомеханических протезов и детале...   \n",
       "3        Изготовление турбин и \\nракетных двигателей   \n",
       "4           Трубки. фитинги. шланги. штуцеры. крышки   \n",
       "\n",
       "                                        Форма частиц  \\\n",
       "0  Сфероидная. характерно наличие мелких сателлит...   \n",
       "1  Сфероидная. характерно наличие мелких сателлит...   \n",
       "2  Сфероидная. характерно наличие мелких сателлит...   \n",
       "3  Сфероидная. характерно наличие мелких сателлит...   \n",
       "4  Сфероидная. характерно наличие мелких сателлит...   \n",
       "\n",
       "  Cредний размер частиц. мкм (объемное распределение)  \\\n",
       "0                                              39.62    \n",
       "1                                              36.19    \n",
       "2                                              24.86    \n",
       "3                                              44.56    \n",
       "4                                              38.51    \n",
       "\n",
       "  Шероховатость поверхности. мкм (после построения) Защитная среда  ...  \\\n",
       "0                           Ra 15 — 19\\n Rz 30 — 40          аргон  ...   \n",
       "1                            Ra 13 — 5 \\nRz 80 — 20           азот  ...   \n",
       "2                         Ra 15 — 19\\n Rz 96 — 115           аргон  ...   \n",
       "3                          Ra 10 — 15\\n Rz 50 — 90            азот  ...   \n",
       "4                          Ra 10 — 11\\n Rz 30 — 50             нет  ...   \n",
       "\n",
       "  Предел прочности. МПа Температура плавления. ⁰С  \\\n",
       "0                 397.0                     590.0   \n",
       "1                 580.0                    1440.0   \n",
       "2                 570.0                    1600.0   \n",
       "3                1200.0                    1260.0   \n",
       "4                 100.0                     178.0   \n",
       "\n",
       "  Максимальная температура применения составляет. ⁰С  \\\n",
       "0                                                500   \n",
       "1                                                550   \n",
       "2                                                400   \n",
       "3                                                704   \n",
       "4                                                120   \n",
       "\n",
       "  Разница значение осей\\nэквивалентного эллипса гранул W. мкм  \\\n",
       "0                                                2.0            \n",
       "1                                                1.0            \n",
       "2                                                1.0            \n",
       "3                                                1.0            \n",
       "4                                                1.0            \n",
       "\n",
       "  Площадь\\nповерхности гранулы S пов.\\nмкм²  \\\n",
       "0                                    49.199   \n",
       "1                                    35.912   \n",
       "2                                    48.182   \n",
       "3                                    48.673   \n",
       "4                                    38.911   \n",
       "\n",
       "   Площадь\\nпроекции гранулы S экв.\\nмкм²  \\\n",
       "0                                  46.612   \n",
       "1                                  34.712   \n",
       "2                                  42.231   \n",
       "3                                  43.198   \n",
       "4                                  35.129   \n",
       "\n",
       "   Минимальная рекомендуемая толщина слоя. мкм  \\\n",
       "0                                         30.0   \n",
       "1                                         25.0   \n",
       "2                                         20.0   \n",
       "3                                         20.0   \n",
       "4                                         30.0   \n",
       "\n",
       "   Минимальная толщина стенки. мм  \\\n",
       "0                             0.4   \n",
       "1                             0.4   \n",
       "2                             0.4   \n",
       "3                             0.3   \n",
       "4                             0.8   \n",
       "\n",
       "                         Методы изготовления порошка  \\\n",
       "0  Electrode Induction Guide Inert Gas Atomizatio...   \n",
       "1  Vacuum Induction Melt Inert Gas Atomization (V...   \n",
       "2  Electrode Induction Guide Inert Gas Atomizatio...   \n",
       "3  Vacuum Induction Melt Inert Gas Atomization (V...   \n",
       "4  Vacuum Induction Melt Inert Gas Atomization (V...   \n",
       "\n",
       "                    Фирмы производители и поставщики  \n",
       "0  Concept Laser (DE). EOS (DE). \\nSLM Solution (...  \n",
       "1  3D Systems (US).  Realizer (DE).\\n Phenix Syst...  \n",
       "2  Concept Laser (DE). SLM Solutions (DE).  \\nRay...  \n",
       "3   Special Metals Corporation (US).  \\nSLM Solut...  \n",
       "4  Hangzhou Guozhen Wanxin Coating \\nEquipments M...  \n",
       "\n",
       "[5 rows x 59 columns]"
      ]
     },
     "execution_count": 2,
     "metadata": {},
     "output_type": "execute_result"
    }
   ],
   "source": [
    "data.head()"
   ]
  },
  {
   "cell_type": "code",
   "execution_count": 3,
   "id": "e0f7a2a4",
   "metadata": {},
   "outputs": [],
   "source": [
    "def infoOut(data,details=False):\n",
    "    dfInfo = data.columns.to_frame(name='Column')\n",
    "    dfInfo['Non-Null Count'] = data.notna().sum()\n",
    "    dfInfo['Dtype'] = data.dtypes\n",
    "    dfInfo.reset_index(drop=True,inplace=True)\n",
    "    if details:\n",
    "        rangeIndex = (dfInfo['Non-Null Count'].min(),dfInfo['Non-Null Count'].min())\n",
    "        totalColumns = dfInfo['Column'].count()\n",
    "        dtypesCount = dfInfo['Dtype'].value_counts()\n",
    "        totalMemory = dfInfo.memory_usage().sum()\n",
    "        return dfInfo, rangeIndex, totalColumns, dtypesCount, totalMemory\n",
    "    else:\n",
    "        return dfInfo"
   ]
  },
  {
   "cell_type": "code",
   "execution_count": 80,
   "id": "c9e66ba3",
   "metadata": {},
   "outputs": [],
   "source": [
    "#выводим таблицу с подсвеченным количеством и процентом пропусков для каждого стобца\n",
    "def infoT(data):\n",
    "    infotable = infoOut(data)\n",
    "    perc = np.round(infoTable['Non-Null Count']/max(infoTable['Non-Null Count'])*100, 2)\n",
    "    infotable['Non-Null_percent'] = perc\n",
    "    infoTableGrad = infotable.style.background_gradient(subset = 'Non-Null_percent')\n",
    "    #infoTableDf = infoTableGrad.data\n",
    "    return infoTableGrad#infoTableDf"
   ]
  },
  {
   "cell_type": "code",
   "execution_count": 5,
   "id": "9035ef32",
   "metadata": {},
   "outputs": [],
   "source": [
    "infoTable = infoOut(data)"
   ]
  },
  {
   "cell_type": "code",
   "execution_count": 60,
   "id": "6d94f01f",
   "metadata": {},
   "outputs": [],
   "source": [
    "import numpy as np\n",
    "perc = np.round(infoTable['Non-Null Count']/max(infoTable['Non-Null Count'])*100, 2)"
   ]
  },
  {
   "cell_type": "code",
   "execution_count": 61,
   "id": "025808ee",
   "metadata": {},
   "outputs": [],
   "source": [
    "infoTable['Non-Null_percent'] = perc"
   ]
  },
  {
   "cell_type": "code",
   "execution_count": 63,
   "id": "853a2934",
   "metadata": {},
   "outputs": [],
   "source": [
    "infoTableGrad = infoTable.style.background_gradient(subset = 'Non-Null_percent')"
   ]
  },
  {
   "cell_type": "code",
   "execution_count": 81,
   "id": "8b2f2cd0",
   "metadata": {},
   "outputs": [
    {
     "data": {
      "text/html": [
       "<style type=\"text/css\">\n",
       "#T_a147c_row0_col3, #T_a147c_row1_col3, #T_a147c_row2_col3, #T_a147c_row3_col3, #T_a147c_row49_col3 {\n",
       "  background-color: #023858;\n",
       "  color: #f1f1f1;\n",
       "}\n",
       "#T_a147c_row4_col3, #T_a147c_row25_col3 {\n",
       "  background-color: #cdd0e5;\n",
       "  color: #000000;\n",
       "}\n",
       "#T_a147c_row5_col3, #T_a147c_row17_col3 {\n",
       "  background-color: #c9cee4;\n",
       "  color: #000000;\n",
       "}\n",
       "#T_a147c_row6_col3, #T_a147c_row8_col3, #T_a147c_row10_col3, #T_a147c_row11_col3, #T_a147c_row12_col3, #T_a147c_row13_col3, #T_a147c_row14_col3, #T_a147c_row39_col3, #T_a147c_row41_col3, #T_a147c_row42_col3, #T_a147c_row43_col3, #T_a147c_row48_col3, #T_a147c_row52_col3, #T_a147c_row53_col3, #T_a147c_row54_col3, #T_a147c_row55_col3, #T_a147c_row56_col3, #T_a147c_row57_col3, #T_a147c_row58_col3 {\n",
       "  background-color: #e1dfed;\n",
       "  color: #000000;\n",
       "}\n",
       "#T_a147c_row7_col3 {\n",
       "  background-color: #d9d8ea;\n",
       "  color: #000000;\n",
       "}\n",
       "#T_a147c_row9_col3 {\n",
       "  background-color: #dad9ea;\n",
       "  color: #000000;\n",
       "}\n",
       "#T_a147c_row15_col3 {\n",
       "  background-color: #b9c6e0;\n",
       "  color: #000000;\n",
       "}\n",
       "#T_a147c_row16_col3 {\n",
       "  background-color: #b8c6e0;\n",
       "  color: #000000;\n",
       "}\n",
       "#T_a147c_row18_col3 {\n",
       "  background-color: #c4cbe3;\n",
       "  color: #000000;\n",
       "}\n",
       "#T_a147c_row19_col3 {\n",
       "  background-color: #348ebf;\n",
       "  color: #f1f1f1;\n",
       "}\n",
       "#T_a147c_row20_col3 {\n",
       "  background-color: #b5c4df;\n",
       "  color: #000000;\n",
       "}\n",
       "#T_a147c_row21_col3 {\n",
       "  background-color: #cacee5;\n",
       "  color: #000000;\n",
       "}\n",
       "#T_a147c_row22_col3 {\n",
       "  background-color: #dcdaeb;\n",
       "  color: #000000;\n",
       "}\n",
       "#T_a147c_row23_col3, #T_a147c_row45_col3 {\n",
       "  background-color: #faf2f8;\n",
       "  color: #000000;\n",
       "}\n",
       "#T_a147c_row24_col3 {\n",
       "  background-color: #8eb3d5;\n",
       "  color: #000000;\n",
       "}\n",
       "#T_a147c_row26_col3 {\n",
       "  background-color: #d7d6e9;\n",
       "  color: #000000;\n",
       "}\n",
       "#T_a147c_row27_col3 {\n",
       "  background-color: #83afd3;\n",
       "  color: #f1f1f1;\n",
       "}\n",
       "#T_a147c_row28_col3 {\n",
       "  background-color: #e4e1ef;\n",
       "  color: #000000;\n",
       "}\n",
       "#T_a147c_row29_col3 {\n",
       "  background-color: #e3e0ee;\n",
       "  color: #000000;\n",
       "}\n",
       "#T_a147c_row30_col3, #T_a147c_row31_col3, #T_a147c_row37_col3 {\n",
       "  background-color: #dddbec;\n",
       "  color: #000000;\n",
       "}\n",
       "#T_a147c_row32_col3 {\n",
       "  background-color: #dedcec;\n",
       "  color: #000000;\n",
       "}\n",
       "#T_a147c_row33_col3, #T_a147c_row36_col3 {\n",
       "  background-color: #e5e1ef;\n",
       "  color: #000000;\n",
       "}\n",
       "#T_a147c_row34_col3, #T_a147c_row40_col3 {\n",
       "  background-color: #e0deed;\n",
       "  color: #000000;\n",
       "}\n",
       "#T_a147c_row35_col3 {\n",
       "  background-color: #d5d5e8;\n",
       "  color: #000000;\n",
       "}\n",
       "#T_a147c_row38_col3 {\n",
       "  background-color: #bfc9e1;\n",
       "  color: #000000;\n",
       "}\n",
       "#T_a147c_row44_col3, #T_a147c_row47_col3 {\n",
       "  background-color: #fff7fb;\n",
       "  color: #000000;\n",
       "}\n",
       "#T_a147c_row46_col3 {\n",
       "  background-color: #fef6fa;\n",
       "  color: #000000;\n",
       "}\n",
       "#T_a147c_row50_col3 {\n",
       "  background-color: #dbdaeb;\n",
       "  color: #000000;\n",
       "}\n",
       "#T_a147c_row51_col3 {\n",
       "  background-color: #c1cae2;\n",
       "  color: #000000;\n",
       "}\n",
       "</style>\n",
       "<table id=\"T_a147c\">\n",
       "  <thead>\n",
       "    <tr>\n",
       "      <th class=\"blank level0\" >&nbsp;</th>\n",
       "      <th id=\"T_a147c_level0_col0\" class=\"col_heading level0 col0\" >Column</th>\n",
       "      <th id=\"T_a147c_level0_col1\" class=\"col_heading level0 col1\" >Non-Null Count</th>\n",
       "      <th id=\"T_a147c_level0_col2\" class=\"col_heading level0 col2\" >Dtype</th>\n",
       "      <th id=\"T_a147c_level0_col3\" class=\"col_heading level0 col3\" >Non-Null_percent</th>\n",
       "    </tr>\n",
       "  </thead>\n",
       "  <tbody>\n",
       "    <tr>\n",
       "      <th id=\"T_a147c_level0_row0\" class=\"row_heading level0 row0\" >0</th>\n",
       "      <td id=\"T_a147c_row0_col0\" class=\"data row0 col0\" >ID </td>\n",
       "      <td id=\"T_a147c_row0_col1\" class=\"data row0 col1\" >364</td>\n",
       "      <td id=\"T_a147c_row0_col2\" class=\"data row0 col2\" >int64</td>\n",
       "      <td id=\"T_a147c_row0_col3\" class=\"data row0 col3\" >100.000000</td>\n",
       "    </tr>\n",
       "    <tr>\n",
       "      <th id=\"T_a147c_level0_row1\" class=\"row_heading level0 row1\" >1</th>\n",
       "      <td id=\"T_a147c_row1_col0\" class=\"data row1 col0\" >Марка</td>\n",
       "      <td id=\"T_a147c_row1_col1\" class=\"data row1 col1\" >364</td>\n",
       "      <td id=\"T_a147c_row1_col2\" class=\"data row1 col2\" >object</td>\n",
       "      <td id=\"T_a147c_row1_col3\" class=\"data row1 col3\" >100.000000</td>\n",
       "    </tr>\n",
       "    <tr>\n",
       "      <th id=\"T_a147c_level0_row2\" class=\"row_heading level0 row2\" >2</th>\n",
       "      <td id=\"T_a147c_row2_col0\" class=\"data row2 col0\" >Группа материала</td>\n",
       "      <td id=\"T_a147c_row2_col1\" class=\"data row2 col1\" >364</td>\n",
       "      <td id=\"T_a147c_row2_col2\" class=\"data row2 col2\" >object</td>\n",
       "      <td id=\"T_a147c_row2_col3\" class=\"data row2 col3\" >100.000000</td>\n",
       "    </tr>\n",
       "    <tr>\n",
       "      <th id=\"T_a147c_level0_row3\" class=\"row_heading level0 row3\" >3</th>\n",
       "      <td id=\"T_a147c_row3_col0\" class=\"data row3 col0\" >Класс</td>\n",
       "      <td id=\"T_a147c_row3_col1\" class=\"data row3 col1\" >364</td>\n",
       "      <td id=\"T_a147c_row3_col2\" class=\"data row3 col2\" >object</td>\n",
       "      <td id=\"T_a147c_row3_col3\" class=\"data row3 col3\" >100.000000</td>\n",
       "    </tr>\n",
       "    <tr>\n",
       "      <th id=\"T_a147c_level0_row4\" class=\"row_heading level0 row4\" >4</th>\n",
       "      <td id=\"T_a147c_row4_col0\" class=\"data row4 col0\" >Отрасль применения</td>\n",
       "      <td id=\"T_a147c_row4_col1\" class=\"data row4 col1\" >94</td>\n",
       "      <td id=\"T_a147c_row4_col2\" class=\"data row4 col2\" >object</td>\n",
       "      <td id=\"T_a147c_row4_col3\" class=\"data row4 col3\" >25.820000</td>\n",
       "    </tr>\n",
       "    <tr>\n",
       "      <th id=\"T_a147c_level0_row5\" class=\"row_heading level0 row5\" >5</th>\n",
       "      <td id=\"T_a147c_row5_col0\" class=\"data row5 col0\" >Область применения</td>\n",
       "      <td id=\"T_a147c_row5_col1\" class=\"data row5 col1\" >99</td>\n",
       "      <td id=\"T_a147c_row5_col2\" class=\"data row5 col2\" >object</td>\n",
       "      <td id=\"T_a147c_row5_col3\" class=\"data row5 col3\" >27.200000</td>\n",
       "    </tr>\n",
       "    <tr>\n",
       "      <th id=\"T_a147c_level0_row6\" class=\"row_heading level0 row6\" >6</th>\n",
       "      <td id=\"T_a147c_row6_col0\" class=\"data row6 col0\" >Форма частиц</td>\n",
       "      <td id=\"T_a147c_row6_col1\" class=\"data row6 col1\" >63</td>\n",
       "      <td id=\"T_a147c_row6_col2\" class=\"data row6 col2\" >object</td>\n",
       "      <td id=\"T_a147c_row6_col3\" class=\"data row6 col3\" >17.310000</td>\n",
       "    </tr>\n",
       "    <tr>\n",
       "      <th id=\"T_a147c_level0_row7\" class=\"row_heading level0 row7\" >7</th>\n",
       "      <td id=\"T_a147c_row7_col0\" class=\"data row7 col0\" >Cредний размер частиц. мкм (объемное распределение)</td>\n",
       "      <td id=\"T_a147c_row7_col1\" class=\"data row7 col1\" >77</td>\n",
       "      <td id=\"T_a147c_row7_col2\" class=\"data row7 col2\" >object</td>\n",
       "      <td id=\"T_a147c_row7_col3\" class=\"data row7 col3\" >21.150000</td>\n",
       "    </tr>\n",
       "    <tr>\n",
       "      <th id=\"T_a147c_level0_row8\" class=\"row_heading level0 row8\" >8</th>\n",
       "      <td id=\"T_a147c_row8_col0\" class=\"data row8 col0\" >Шероховатость поверхности. мкм (после построения)</td>\n",
       "      <td id=\"T_a147c_row8_col1\" class=\"data row8 col1\" >63</td>\n",
       "      <td id=\"T_a147c_row8_col2\" class=\"data row8 col2\" >object</td>\n",
       "      <td id=\"T_a147c_row8_col3\" class=\"data row8 col3\" >17.310000</td>\n",
       "    </tr>\n",
       "    <tr>\n",
       "      <th id=\"T_a147c_level0_row9\" class=\"row_heading level0 row9\" >9</th>\n",
       "      <td id=\"T_a147c_row9_col0\" class=\"data row9 col0\" >Защитная среда</td>\n",
       "      <td id=\"T_a147c_row9_col1\" class=\"data row9 col1\" >74</td>\n",
       "      <td id=\"T_a147c_row9_col2\" class=\"data row9 col2\" >object</td>\n",
       "      <td id=\"T_a147c_row9_col3\" class=\"data row9 col3\" >20.330000</td>\n",
       "    </tr>\n",
       "    <tr>\n",
       "      <th id=\"T_a147c_level0_row10\" class=\"row_heading level0 row10\" >10</th>\n",
       "      <td id=\"T_a147c_row10_col0\" class=\"data row10 col0\" >Стратегия</td>\n",
       "      <td id=\"T_a147c_row10_col1\" class=\"data row10 col1\" >63</td>\n",
       "      <td id=\"T_a147c_row10_col2\" class=\"data row10 col2\" >object</td>\n",
       "      <td id=\"T_a147c_row10_col3\" class=\"data row10 col3\" >17.310000</td>\n",
       "    </tr>\n",
       "    <tr>\n",
       "      <th id=\"T_a147c_level0_row11\" class=\"row_heading level0 row11\" >11</th>\n",
       "      <td id=\"T_a147c_row11_col0\" class=\"data row11 col0\" >Тип лазера</td>\n",
       "      <td id=\"T_a147c_row11_col1\" class=\"data row11 col1\" >63</td>\n",
       "      <td id=\"T_a147c_row11_col2\" class=\"data row11 col2\" >object</td>\n",
       "      <td id=\"T_a147c_row11_col3\" class=\"data row11 col3\" >17.310000</td>\n",
       "    </tr>\n",
       "    <tr>\n",
       "      <th id=\"T_a147c_level0_row12\" class=\"row_heading level0 row12\" >12</th>\n",
       "      <td id=\"T_a147c_row12_col0\" class=\"data row12 col0\" >Аналоги</td>\n",
       "      <td id=\"T_a147c_row12_col1\" class=\"data row12 col1\" >63</td>\n",
       "      <td id=\"T_a147c_row12_col2\" class=\"data row12 col2\" >object</td>\n",
       "      <td id=\"T_a147c_row12_col3\" class=\"data row12 col3\" >17.310000</td>\n",
       "    </tr>\n",
       "    <tr>\n",
       "      <th id=\"T_a147c_level0_row13\" class=\"row_heading level0 row13\" >13</th>\n",
       "      <td id=\"T_a147c_row13_col0\" class=\"data row13 col0\" >Плоскость</td>\n",
       "      <td id=\"T_a147c_row13_col1\" class=\"data row13 col1\" >63</td>\n",
       "      <td id=\"T_a147c_row13_col2\" class=\"data row13 col2\" >object</td>\n",
       "      <td id=\"T_a147c_row13_col3\" class=\"data row13 col3\" >17.310000</td>\n",
       "    </tr>\n",
       "    <tr>\n",
       "      <th id=\"T_a147c_level0_row14\" class=\"row_heading level0 row14\" >14</th>\n",
       "      <td id=\"T_a147c_row14_col0\" class=\"data row14 col0\" >Пространствнное положение</td>\n",
       "      <td id=\"T_a147c_row14_col1\" class=\"data row14 col1\" >63</td>\n",
       "      <td id=\"T_a147c_row14_col2\" class=\"data row14 col2\" >object</td>\n",
       "      <td id=\"T_a147c_row14_col3\" class=\"data row14 col3\" >17.310000</td>\n",
       "    </tr>\n",
       "    <tr>\n",
       "      <th id=\"T_a147c_level0_row15\" class=\"row_heading level0 row15\" >15</th>\n",
       "      <td id=\"T_a147c_row15_col0\" class=\"data row15 col0\" >Al, %</td>\n",
       "      <td id=\"T_a147c_row15_col1\" class=\"data row15 col1\" >116</td>\n",
       "      <td id=\"T_a147c_row15_col2\" class=\"data row15 col2\" >float64</td>\n",
       "      <td id=\"T_a147c_row15_col3\" class=\"data row15 col3\" >31.870000</td>\n",
       "    </tr>\n",
       "    <tr>\n",
       "      <th id=\"T_a147c_level0_row16\" class=\"row_heading level0 row16\" >16</th>\n",
       "      <td id=\"T_a147c_row16_col0\" class=\"data row16 col0\" >Si, %</td>\n",
       "      <td id=\"T_a147c_row16_col1\" class=\"data row16 col1\" >118</td>\n",
       "      <td id=\"T_a147c_row16_col2\" class=\"data row16 col2\" >float64</td>\n",
       "      <td id=\"T_a147c_row16_col3\" class=\"data row16 col3\" >32.420000</td>\n",
       "    </tr>\n",
       "    <tr>\n",
       "      <th id=\"T_a147c_level0_row17\" class=\"row_heading level0 row17\" >17</th>\n",
       "      <td id=\"T_a147c_row17_col0\" class=\"data row17 col0\" >Mg, %</td>\n",
       "      <td id=\"T_a147c_row17_col1\" class=\"data row17 col1\" >99</td>\n",
       "      <td id=\"T_a147c_row17_col2\" class=\"data row17 col2\" >float64</td>\n",
       "      <td id=\"T_a147c_row17_col3\" class=\"data row17 col3\" >27.200000</td>\n",
       "    </tr>\n",
       "    <tr>\n",
       "      <th id=\"T_a147c_level0_row18\" class=\"row_heading level0 row18\" >18</th>\n",
       "      <td id=\"T_a147c_row18_col0\" class=\"data row18 col0\" >Mn, %</td>\n",
       "      <td id=\"T_a147c_row18_col1\" class=\"data row18 col1\" >105</td>\n",
       "      <td id=\"T_a147c_row18_col2\" class=\"data row18 col2\" >float64</td>\n",
       "      <td id=\"T_a147c_row18_col3\" class=\"data row18 col3\" >28.850000</td>\n",
       "    </tr>\n",
       "    <tr>\n",
       "      <th id=\"T_a147c_level0_row19\" class=\"row_heading level0 row19\" >19</th>\n",
       "      <td id=\"T_a147c_row19_col0\" class=\"data row19 col0\" >Fe, %</td>\n",
       "      <td id=\"T_a147c_row19_col1\" class=\"data row19 col1\" >229</td>\n",
       "      <td id=\"T_a147c_row19_col2\" class=\"data row19 col2\" >float64</td>\n",
       "      <td id=\"T_a147c_row19_col3\" class=\"data row19 col3\" >62.910000</td>\n",
       "    </tr>\n",
       "    <tr>\n",
       "      <th id=\"T_a147c_level0_row20\" class=\"row_heading level0 row20\" >20</th>\n",
       "      <td id=\"T_a147c_row20_col0\" class=\"data row20 col0\" >Cu, %</td>\n",
       "      <td id=\"T_a147c_row20_col1\" class=\"data row20 col1\" >120</td>\n",
       "      <td id=\"T_a147c_row20_col2\" class=\"data row20 col2\" >float64</td>\n",
       "      <td id=\"T_a147c_row20_col3\" class=\"data row20 col3\" >32.970000</td>\n",
       "    </tr>\n",
       "    <tr>\n",
       "      <th id=\"T_a147c_level0_row21\" class=\"row_heading level0 row21\" >21</th>\n",
       "      <td id=\"T_a147c_row21_col0\" class=\"data row21 col0\" >Zn, %</td>\n",
       "      <td id=\"T_a147c_row21_col1\" class=\"data row21 col1\" >97</td>\n",
       "      <td id=\"T_a147c_row21_col2\" class=\"data row21 col2\" >float64</td>\n",
       "      <td id=\"T_a147c_row21_col3\" class=\"data row21 col3\" >26.650000</td>\n",
       "    </tr>\n",
       "    <tr>\n",
       "      <th id=\"T_a147c_level0_row22\" class=\"row_heading level0 row22\" >22</th>\n",
       "      <td id=\"T_a147c_row22_col0\" class=\"data row22 col0\" >Ti, %</td>\n",
       "      <td id=\"T_a147c_row22_col1\" class=\"data row22 col1\" >72</td>\n",
       "      <td id=\"T_a147c_row22_col2\" class=\"data row22 col2\" >float64</td>\n",
       "      <td id=\"T_a147c_row22_col3\" class=\"data row22 col3\" >19.780000</td>\n",
       "    </tr>\n",
       "    <tr>\n",
       "      <th id=\"T_a147c_level0_row23\" class=\"row_heading level0 row23\" >23</th>\n",
       "      <td id=\"T_a147c_row23_col0\" class=\"data row23 col0\" >TiC, %</td>\n",
       "      <td id=\"T_a147c_row23_col1\" class=\"data row23 col1\" >13</td>\n",
       "      <td id=\"T_a147c_row23_col2\" class=\"data row23 col2\" >float64</td>\n",
       "      <td id=\"T_a147c_row23_col3\" class=\"data row23 col3\" >3.570000</td>\n",
       "    </tr>\n",
       "    <tr>\n",
       "      <th id=\"T_a147c_level0_row24\" class=\"row_heading level0 row24\" >24</th>\n",
       "      <td id=\"T_a147c_row24_col0\" class=\"data row24 col0\" >Cr, %</td>\n",
       "      <td id=\"T_a147c_row24_col1\" class=\"data row24 col1\" >158</td>\n",
       "      <td id=\"T_a147c_row24_col2\" class=\"data row24 col2\" >float64</td>\n",
       "      <td id=\"T_a147c_row24_col3\" class=\"data row24 col3\" >43.410000</td>\n",
       "    </tr>\n",
       "    <tr>\n",
       "      <th id=\"T_a147c_level0_row25\" class=\"row_heading level0 row25\" >25</th>\n",
       "      <td id=\"T_a147c_row25_col0\" class=\"data row25 col0\" >Ni, %</td>\n",
       "      <td id=\"T_a147c_row25_col1\" class=\"data row25 col1\" >95</td>\n",
       "      <td id=\"T_a147c_row25_col2\" class=\"data row25 col2\" >float64</td>\n",
       "      <td id=\"T_a147c_row25_col3\" class=\"data row25 col3\" >26.100000</td>\n",
       "    </tr>\n",
       "    <tr>\n",
       "      <th id=\"T_a147c_level0_row26\" class=\"row_heading level0 row26\" >26</th>\n",
       "      <td id=\"T_a147c_row26_col0\" class=\"data row26 col0\" >Mo, %</td>\n",
       "      <td id=\"T_a147c_row26_col1\" class=\"data row26 col1\" >80</td>\n",
       "      <td id=\"T_a147c_row26_col2\" class=\"data row26 col2\" >float64</td>\n",
       "      <td id=\"T_a147c_row26_col3\" class=\"data row26 col3\" >21.980000</td>\n",
       "    </tr>\n",
       "    <tr>\n",
       "      <th id=\"T_a147c_level0_row27\" class=\"row_heading level0 row27\" >27</th>\n",
       "      <td id=\"T_a147c_row27_col0\" class=\"data row27 col0\" >C, %</td>\n",
       "      <td id=\"T_a147c_row27_col1\" class=\"data row27 col1\" >169</td>\n",
       "      <td id=\"T_a147c_row27_col2\" class=\"data row27 col2\" >float64</td>\n",
       "      <td id=\"T_a147c_row27_col3\" class=\"data row27 col3\" >46.430000</td>\n",
       "    </tr>\n",
       "    <tr>\n",
       "      <th id=\"T_a147c_level0_row28\" class=\"row_heading level0 row28\" >28</th>\n",
       "      <td id=\"T_a147c_row28_col0\" class=\"data row28 col0\" >P, %</td>\n",
       "      <td id=\"T_a147c_row28_col1\" class=\"data row28 col1\" >59</td>\n",
       "      <td id=\"T_a147c_row28_col2\" class=\"data row28 col2\" >float64</td>\n",
       "      <td id=\"T_a147c_row28_col3\" class=\"data row28 col3\" >16.210000</td>\n",
       "    </tr>\n",
       "    <tr>\n",
       "      <th id=\"T_a147c_level0_row29\" class=\"row_heading level0 row29\" >29</th>\n",
       "      <td id=\"T_a147c_row29_col0\" class=\"data row29 col0\" >V, %</td>\n",
       "      <td id=\"T_a147c_row29_col1\" class=\"data row29 col1\" >60</td>\n",
       "      <td id=\"T_a147c_row29_col2\" class=\"data row29 col2\" >float64</td>\n",
       "      <td id=\"T_a147c_row29_col3\" class=\"data row29 col3\" >16.480000</td>\n",
       "    </tr>\n",
       "    <tr>\n",
       "      <th id=\"T_a147c_level0_row30\" class=\"row_heading level0 row30\" >30</th>\n",
       "      <td id=\"T_a147c_row30_col0\" class=\"data row30 col0\" >O, %</td>\n",
       "      <td id=\"T_a147c_row30_col1\" class=\"data row30 col1\" >71</td>\n",
       "      <td id=\"T_a147c_row30_col2\" class=\"data row30 col2\" >float64</td>\n",
       "      <td id=\"T_a147c_row30_col3\" class=\"data row30 col3\" >19.510000</td>\n",
       "    </tr>\n",
       "    <tr>\n",
       "      <th id=\"T_a147c_level0_row31\" class=\"row_heading level0 row31\" >31</th>\n",
       "      <td id=\"T_a147c_row31_col0\" class=\"data row31 col0\" >N, %</td>\n",
       "      <td id=\"T_a147c_row31_col1\" class=\"data row31 col1\" >71</td>\n",
       "      <td id=\"T_a147c_row31_col2\" class=\"data row31 col2\" >float64</td>\n",
       "      <td id=\"T_a147c_row31_col3\" class=\"data row31 col3\" >19.510000</td>\n",
       "    </tr>\n",
       "    <tr>\n",
       "      <th id=\"T_a147c_level0_row32\" class=\"row_heading level0 row32\" >32</th>\n",
       "      <td id=\"T_a147c_row32_col0\" class=\"data row32 col0\" >Nb, %</td>\n",
       "      <td id=\"T_a147c_row32_col1\" class=\"data row32 col1\" >69</td>\n",
       "      <td id=\"T_a147c_row32_col2\" class=\"data row32 col2\" >float64</td>\n",
       "      <td id=\"T_a147c_row32_col3\" class=\"data row32 col3\" >18.960000</td>\n",
       "    </tr>\n",
       "    <tr>\n",
       "      <th id=\"T_a147c_level0_row33\" class=\"row_heading level0 row33\" >33</th>\n",
       "      <td id=\"T_a147c_row33_col0\" class=\"data row33 col0\" >B, %</td>\n",
       "      <td id=\"T_a147c_row33_col1\" class=\"data row33 col1\" >58</td>\n",
       "      <td id=\"T_a147c_row33_col2\" class=\"data row33 col2\" >float64</td>\n",
       "      <td id=\"T_a147c_row33_col3\" class=\"data row33 col3\" >15.930000</td>\n",
       "    </tr>\n",
       "    <tr>\n",
       "      <th id=\"T_a147c_level0_row34\" class=\"row_heading level0 row34\" >34</th>\n",
       "      <td id=\"T_a147c_row34_col0\" class=\"data row34 col0\" >S, %</td>\n",
       "      <td id=\"T_a147c_row34_col1\" class=\"data row34 col1\" >64</td>\n",
       "      <td id=\"T_a147c_row34_col2\" class=\"data row34 col2\" >float64</td>\n",
       "      <td id=\"T_a147c_row34_col3\" class=\"data row34 col3\" >17.580000</td>\n",
       "    </tr>\n",
       "    <tr>\n",
       "      <th id=\"T_a147c_level0_row35\" class=\"row_heading level0 row35\" >35</th>\n",
       "      <td id=\"T_a147c_row35_col0\" class=\"data row35 col0\" >Co, %</td>\n",
       "      <td id=\"T_a147c_row35_col1\" class=\"data row35 col1\" >83</td>\n",
       "      <td id=\"T_a147c_row35_col2\" class=\"data row35 col2\" >float64</td>\n",
       "      <td id=\"T_a147c_row35_col3\" class=\"data row35 col3\" >22.800000</td>\n",
       "    </tr>\n",
       "    <tr>\n",
       "      <th id=\"T_a147c_level0_row36\" class=\"row_heading level0 row36\" >36</th>\n",
       "      <td id=\"T_a147c_row36_col0\" class=\"data row36 col0\" >H, %</td>\n",
       "      <td id=\"T_a147c_row36_col1\" class=\"data row36 col1\" >58</td>\n",
       "      <td id=\"T_a147c_row36_col2\" class=\"data row36 col2\" >float64</td>\n",
       "      <td id=\"T_a147c_row36_col3\" class=\"data row36 col3\" >15.930000</td>\n",
       "    </tr>\n",
       "    <tr>\n",
       "      <th id=\"T_a147c_level0_row37\" class=\"row_heading level0 row37\" >37</th>\n",
       "      <td id=\"T_a147c_row37_col0\" class=\"data row37 col0\" >Pb, %</td>\n",
       "      <td id=\"T_a147c_row37_col1\" class=\"data row37 col1\" >71</td>\n",
       "      <td id=\"T_a147c_row37_col2\" class=\"data row37 col2\" >float64</td>\n",
       "      <td id=\"T_a147c_row37_col3\" class=\"data row37 col3\" >19.510000</td>\n",
       "    </tr>\n",
       "    <tr>\n",
       "      <th id=\"T_a147c_level0_row38\" class=\"row_heading level0 row38\" >38</th>\n",
       "      <td id=\"T_a147c_row38_col0\" class=\"data row38 col0\" >Sn, %</td>\n",
       "      <td id=\"T_a147c_row38_col1\" class=\"data row38 col1\" >110</td>\n",
       "      <td id=\"T_a147c_row38_col2\" class=\"data row38 col2\" >float64</td>\n",
       "      <td id=\"T_a147c_row38_col3\" class=\"data row38 col3\" >30.220000</td>\n",
       "    </tr>\n",
       "    <tr>\n",
       "      <th id=\"T_a147c_level0_row39\" class=\"row_heading level0 row39\" >39</th>\n",
       "      <td id=\"T_a147c_row39_col0\" class=\"data row39 col0\" >Sb, %</td>\n",
       "      <td id=\"T_a147c_row39_col1\" class=\"data row39 col1\" >63</td>\n",
       "      <td id=\"T_a147c_row39_col2\" class=\"data row39 col2\" >float64</td>\n",
       "      <td id=\"T_a147c_row39_col3\" class=\"data row39 col3\" >17.310000</td>\n",
       "    </tr>\n",
       "    <tr>\n",
       "      <th id=\"T_a147c_level0_row40\" class=\"row_heading level0 row40\" >40</th>\n",
       "      <td id=\"T_a147c_row40_col0\" class=\"data row40 col0\" >Cd, %</td>\n",
       "      <td id=\"T_a147c_row40_col1\" class=\"data row40 col1\" >65</td>\n",
       "      <td id=\"T_a147c_row40_col2\" class=\"data row40 col2\" >float64</td>\n",
       "      <td id=\"T_a147c_row40_col3\" class=\"data row40 col3\" >17.860000</td>\n",
       "    </tr>\n",
       "    <tr>\n",
       "      <th id=\"T_a147c_level0_row41\" class=\"row_heading level0 row41\" >41</th>\n",
       "      <td id=\"T_a147c_row41_col0\" class=\"data row41 col0\" >Au, %</td>\n",
       "      <td id=\"T_a147c_row41_col1\" class=\"data row41 col1\" >63</td>\n",
       "      <td id=\"T_a147c_row41_col2\" class=\"data row41 col2\" >float64</td>\n",
       "      <td id=\"T_a147c_row41_col3\" class=\"data row41 col3\" >17.310000</td>\n",
       "    </tr>\n",
       "    <tr>\n",
       "      <th id=\"T_a147c_level0_row42\" class=\"row_heading level0 row42\" >42</th>\n",
       "      <td id=\"T_a147c_row42_col0\" class=\"data row42 col0\" >Pd, %</td>\n",
       "      <td id=\"T_a147c_row42_col1\" class=\"data row42 col1\" >63</td>\n",
       "      <td id=\"T_a147c_row42_col2\" class=\"data row42 col2\" >float64</td>\n",
       "      <td id=\"T_a147c_row42_col3\" class=\"data row42 col3\" >17.310000</td>\n",
       "    </tr>\n",
       "    <tr>\n",
       "      <th id=\"T_a147c_level0_row43\" class=\"row_heading level0 row43\" >43</th>\n",
       "      <td id=\"T_a147c_row43_col0\" class=\"data row43 col0\" >Ir, %</td>\n",
       "      <td id=\"T_a147c_row43_col1\" class=\"data row43 col1\" >63</td>\n",
       "      <td id=\"T_a147c_row43_col2\" class=\"data row43 col2\" >float64</td>\n",
       "      <td id=\"T_a147c_row43_col3\" class=\"data row43 col3\" >17.310000</td>\n",
       "    </tr>\n",
       "    <tr>\n",
       "      <th id=\"T_a147c_level0_row44\" class=\"row_heading level0 row44\" >44</th>\n",
       "      <td id=\"T_a147c_row44_col0\" class=\"data row44 col0\" >Se, %</td>\n",
       "      <td id=\"T_a147c_row44_col1\" class=\"data row44 col1\" >0</td>\n",
       "      <td id=\"T_a147c_row44_col2\" class=\"data row44 col2\" >float64</td>\n",
       "      <td id=\"T_a147c_row44_col3\" class=\"data row44 col3\" >0.000000</td>\n",
       "    </tr>\n",
       "    <tr>\n",
       "      <th id=\"T_a147c_level0_row45\" class=\"row_heading level0 row45\" >45</th>\n",
       "      <td id=\"T_a147c_row45_col0\" class=\"data row45 col0\" >W, %</td>\n",
       "      <td id=\"T_a147c_row45_col1\" class=\"data row45 col1\" >14</td>\n",
       "      <td id=\"T_a147c_row45_col2\" class=\"data row45 col2\" >float64</td>\n",
       "      <td id=\"T_a147c_row45_col3\" class=\"data row45 col3\" >3.850000</td>\n",
       "    </tr>\n",
       "    <tr>\n",
       "      <th id=\"T_a147c_level0_row46\" class=\"row_heading level0 row46\" >46</th>\n",
       "      <td id=\"T_a147c_row46_col0\" class=\"data row46 col0\" >Ag, %</td>\n",
       "      <td id=\"T_a147c_row46_col1\" class=\"data row46 col1\" >3</td>\n",
       "      <td id=\"T_a147c_row46_col2\" class=\"data row46 col2\" >float64</td>\n",
       "      <td id=\"T_a147c_row46_col3\" class=\"data row46 col3\" >0.820000</td>\n",
       "    </tr>\n",
       "    <tr>\n",
       "      <th id=\"T_a147c_level0_row47\" class=\"row_heading level0 row47\" >47</th>\n",
       "      <td id=\"T_a147c_row47_col0\" class=\"data row47 col0\" >As, %</td>\n",
       "      <td id=\"T_a147c_row47_col1\" class=\"data row47 col1\" >1</td>\n",
       "      <td id=\"T_a147c_row47_col2\" class=\"data row47 col2\" >float64</td>\n",
       "      <td id=\"T_a147c_row47_col3\" class=\"data row47 col3\" >0.270000</td>\n",
       "    </tr>\n",
       "    <tr>\n",
       "      <th id=\"T_a147c_level0_row48\" class=\"row_heading level0 row48\" >48</th>\n",
       "      <td id=\"T_a147c_row48_col0\" class=\"data row48 col0\" >Плотность. г/cм3</td>\n",
       "      <td id=\"T_a147c_row48_col1\" class=\"data row48 col1\" >63</td>\n",
       "      <td id=\"T_a147c_row48_col2\" class=\"data row48 col2\" >float64</td>\n",
       "      <td id=\"T_a147c_row48_col3\" class=\"data row48 col3\" >17.310000</td>\n",
       "    </tr>\n",
       "    <tr>\n",
       "      <th id=\"T_a147c_level0_row49\" class=\"row_heading level0 row49\" >49</th>\n",
       "      <td id=\"T_a147c_row49_col0\" class=\"data row49 col0\" >Предел прочности. МПа</td>\n",
       "      <td id=\"T_a147c_row49_col1\" class=\"data row49 col1\" >364</td>\n",
       "      <td id=\"T_a147c_row49_col2\" class=\"data row49 col2\" >float64</td>\n",
       "      <td id=\"T_a147c_row49_col3\" class=\"data row49 col3\" >100.000000</td>\n",
       "    </tr>\n",
       "    <tr>\n",
       "      <th id=\"T_a147c_level0_row50\" class=\"row_heading level0 row50\" >50</th>\n",
       "      <td id=\"T_a147c_row50_col0\" class=\"data row50 col0\" >Температура плавления. ⁰С</td>\n",
       "      <td id=\"T_a147c_row50_col1\" class=\"data row50 col1\" >73</td>\n",
       "      <td id=\"T_a147c_row50_col2\" class=\"data row50 col2\" >float64</td>\n",
       "      <td id=\"T_a147c_row50_col3\" class=\"data row50 col3\" >20.050000</td>\n",
       "    </tr>\n",
       "    <tr>\n",
       "      <th id=\"T_a147c_level0_row51\" class=\"row_heading level0 row51\" >51</th>\n",
       "      <td id=\"T_a147c_row51_col0\" class=\"data row51 col0\" >Максимальная температура применения составляет. ⁰С</td>\n",
       "      <td id=\"T_a147c_row51_col1\" class=\"data row51 col1\" >107</td>\n",
       "      <td id=\"T_a147c_row51_col2\" class=\"data row51 col2\" >object</td>\n",
       "      <td id=\"T_a147c_row51_col3\" class=\"data row51 col3\" >29.400000</td>\n",
       "    </tr>\n",
       "    <tr>\n",
       "      <th id=\"T_a147c_level0_row52\" class=\"row_heading level0 row52\" >52</th>\n",
       "      <td id=\"T_a147c_row52_col0\" class=\"data row52 col0\" >Разница значение осей\n",
       "эквивалентного эллипса гранул W. мкм</td>\n",
       "      <td id=\"T_a147c_row52_col1\" class=\"data row52 col1\" >63</td>\n",
       "      <td id=\"T_a147c_row52_col2\" class=\"data row52 col2\" >float64</td>\n",
       "      <td id=\"T_a147c_row52_col3\" class=\"data row52 col3\" >17.310000</td>\n",
       "    </tr>\n",
       "    <tr>\n",
       "      <th id=\"T_a147c_level0_row53\" class=\"row_heading level0 row53\" >53</th>\n",
       "      <td id=\"T_a147c_row53_col0\" class=\"data row53 col0\" >Площадь\n",
       "поверхности гранулы S пов.\n",
       "мкм²</td>\n",
       "      <td id=\"T_a147c_row53_col1\" class=\"data row53 col1\" >63</td>\n",
       "      <td id=\"T_a147c_row53_col2\" class=\"data row53 col2\" >float64</td>\n",
       "      <td id=\"T_a147c_row53_col3\" class=\"data row53 col3\" >17.310000</td>\n",
       "    </tr>\n",
       "    <tr>\n",
       "      <th id=\"T_a147c_level0_row54\" class=\"row_heading level0 row54\" >54</th>\n",
       "      <td id=\"T_a147c_row54_col0\" class=\"data row54 col0\" >Площадь\n",
       "проекции гранулы S экв.\n",
       "мкм²</td>\n",
       "      <td id=\"T_a147c_row54_col1\" class=\"data row54 col1\" >63</td>\n",
       "      <td id=\"T_a147c_row54_col2\" class=\"data row54 col2\" >float64</td>\n",
       "      <td id=\"T_a147c_row54_col3\" class=\"data row54 col3\" >17.310000</td>\n",
       "    </tr>\n",
       "    <tr>\n",
       "      <th id=\"T_a147c_level0_row55\" class=\"row_heading level0 row55\" >55</th>\n",
       "      <td id=\"T_a147c_row55_col0\" class=\"data row55 col0\" >Минимальная рекомендуемая толщина слоя. мкм</td>\n",
       "      <td id=\"T_a147c_row55_col1\" class=\"data row55 col1\" >63</td>\n",
       "      <td id=\"T_a147c_row55_col2\" class=\"data row55 col2\" >float64</td>\n",
       "      <td id=\"T_a147c_row55_col3\" class=\"data row55 col3\" >17.310000</td>\n",
       "    </tr>\n",
       "    <tr>\n",
       "      <th id=\"T_a147c_level0_row56\" class=\"row_heading level0 row56\" >56</th>\n",
       "      <td id=\"T_a147c_row56_col0\" class=\"data row56 col0\" >Минимальная толщина стенки. мм</td>\n",
       "      <td id=\"T_a147c_row56_col1\" class=\"data row56 col1\" >63</td>\n",
       "      <td id=\"T_a147c_row56_col2\" class=\"data row56 col2\" >float64</td>\n",
       "      <td id=\"T_a147c_row56_col3\" class=\"data row56 col3\" >17.310000</td>\n",
       "    </tr>\n",
       "    <tr>\n",
       "      <th id=\"T_a147c_level0_row57\" class=\"row_heading level0 row57\" >57</th>\n",
       "      <td id=\"T_a147c_row57_col0\" class=\"data row57 col0\" >Методы изготовления порошка</td>\n",
       "      <td id=\"T_a147c_row57_col1\" class=\"data row57 col1\" >63</td>\n",
       "      <td id=\"T_a147c_row57_col2\" class=\"data row57 col2\" >object</td>\n",
       "      <td id=\"T_a147c_row57_col3\" class=\"data row57 col3\" >17.310000</td>\n",
       "    </tr>\n",
       "    <tr>\n",
       "      <th id=\"T_a147c_level0_row58\" class=\"row_heading level0 row58\" >58</th>\n",
       "      <td id=\"T_a147c_row58_col0\" class=\"data row58 col0\" >Фирмы производители и поставщики</td>\n",
       "      <td id=\"T_a147c_row58_col1\" class=\"data row58 col1\" >63</td>\n",
       "      <td id=\"T_a147c_row58_col2\" class=\"data row58 col2\" >object</td>\n",
       "      <td id=\"T_a147c_row58_col3\" class=\"data row58 col3\" >17.310000</td>\n",
       "    </tr>\n",
       "  </tbody>\n",
       "</table>\n"
      ],
      "text/plain": [
       "<pandas.io.formats.style.Styler at 0x1e896aba9d0>"
      ]
     },
     "execution_count": 81,
     "metadata": {},
     "output_type": "execute_result"
    }
   ],
   "source": [
    "infoT(data)"
   ]
  },
  {
   "cell_type": "code",
   "execution_count": null,
   "id": "94a609c7",
   "metadata": {},
   "outputs": [],
   "source": [
    "import matplotlib.pyplot as plt\n",
    "import pandas as pd\n",
    "from pandas.plotting import table  # EDIT: see deprecation warnings below\n",
    "\n",
    "ax = plt.subplot(111, frame_on=False) # no visible frame\n",
    "ax.xaxis.set_visible(False)  # hide the x axis\n",
    "ax.yaxis.set_visible(False)  # hide the y axis\n",
    "\n",
    "#table(ax, infoT(data))  # where df is your data frame\n",
    "\n",
    "#plt.savefig('mytable.png')"
   ]
  },
  {
   "cell_type": "code",
   "execution_count": 38,
   "id": "57b90b68",
   "metadata": {},
   "outputs": [],
   "source": [
    "from PIL import Image\n",
    "import uuid\n",
    "\n",
    "def save_image(picture):\n",
    "    filename = uuid.uuid4().hex\n",
    "    picture.savefig(f'D:/python/SLM/temp/{filename}.png')"
   ]
  },
  {
   "cell_type": "code",
   "execution_count": 45,
   "id": "dfb763a8",
   "metadata": {},
   "outputs": [],
   "source": [
    "import random\n",
    "\n",
    "random_list = []\n",
    "for i in np.arange(1,100):\n",
    "    random_list.append(random.random())\n",
    "df = pd.DataFrame(random_list)\n"
   ]
  },
  {
   "cell_type": "code",
   "execution_count": 101,
   "id": "3dae2236",
   "metadata": {},
   "outputs": [],
   "source": [
    "import matplotlib.pylab as plt\n",
    "\n",
    "ind_list = [3,6,7,8]\n",
    "#df.iloc[ind_list]\n",
    "\n",
    "#гистограмма распределений по классам\n",
    "def class_hist(data):\n",
    "    for idx in ind_list:\n",
    "        hist_class = data.iloc[:, idx].value_counts().plot(kind='barh', title = data.columns[idx])\n",
    "        fig = hist_class.get_figure()\n",
    "        filename = uuid.uuid4().hex\n",
    "        fig.savefig(f'D:/python/SLM/temp/{filename}.png')\n",
    "    return hist_class"
   ]
  },
  {
   "cell_type": "code",
   "execution_count": 102,
   "id": "20a445dd",
   "metadata": {},
   "outputs": [
    {
     "data": {
      "text/plain": [
       "<AxesSubplot:title={'center':'Шероховатость поверхности. мкм (после построения)'}>"
      ]
     },
     "execution_count": 102,
     "metadata": {},
     "output_type": "execute_result"
    },
    {
     "data": {
      "image/png": "[encoded data removed]",
      "text/plain": [
       "<Figure size 640x480 with 1 Axes>"
      ]
     },
     "metadata": {},
     "output_type": "display_data"
    }
   ],
   "source": [
    "class_hist(data)"
   ]
  },
  {
   "cell_type": "code",
   "execution_count": 111,
   "id": "946c6ed8",
   "metadata": {},
   "outputs": [],
   "source": [
    "import matplotlib.pylab as plt\n",
    "import plotly \n",
    "\n",
    "ind_list = [9,15,7,8]\n",
    "#df.iloc[ind_list]\n",
    "\n",
    "#гистограмма распределений по классам\n",
    "def class_hist_all(data):\n",
    "    fig, axes = plt.subplots(nrows=2, ncols=2)\n",
    "    for idx in ind_list:\n",
    "        hist_class = data.iloc[:, idx].value_counts().plot(kind='barh', title = data.columns[idx])\n",
    "        fig = hist_class.get_figure()\n",
    "        fig.tight_layout()\n",
    "        axes = fig.subplots(nrows=2, ncols=2)\n",
    "    filename = uuid.uuid4().hex\n",
    "    fig.savefig(f'D:/python/SLM/temp/{filename}.png')\n",
    "    return hist_class"
   ]
  },
  {
   "cell_type": "code",
   "execution_count": 112,
   "id": "a5ec1846",
   "metadata": {},
   "outputs": [
    {
     "data": {
      "text/plain": [
       "<AxesSubplot:title={'center':'Шероховатость поверхности. мкм (после построения)'}>"
      ]
     },
     "execution_count": 112,
     "metadata": {},
     "output_type": "execute_result"
    },
    {
     "data": {
      "image/png": "[encoded data removed]",
      "text/plain": [
       "<Figure size 640x480 with 20 Axes>"
      ]
     },
     "metadata": {},
     "output_type": "display_data"
    }
   ],
   "source": [
    "class_hist_all(data)"
   ]
  },
  {
   "cell_type": "code",
   "execution_count": 134,
   "id": "20613a82",
   "metadata": {},
   "outputs": [],
   "source": [
    "import plotly.express as px\n",
    "from plotly.subplots import make_subplots\n",
    "import plotly.graph_objects as go\n",
    "\n",
    "ind_list = [9,5,7,3]\n",
    "#гистограмма распределений по классам\n",
    "def class_hist_all(data):\n",
    "    #fig = make_subplots( rows=1, cols=4)\n",
    "    for idx in ind_list:\n",
    "        hist_class = px.histogram(data.iloc[:, idx], x=data.columns[idx])\n",
    "        #fig.add_trace(hist_class, 1, )\n",
    "        #fig.tight_layout()\n",
    "        #axes = fig.subplots(nrows=2, ncols=2)\n",
    "        filename = uuid.uuid4().hex\n",
    "        hist_class.write_image(f'D:/python/SLM/temp/{filename}.png')\n",
    "    return hist_class"
   ]
  },
  {
   "cell_type": "code",
   "execution_count": 135,
   "id": "20dd2ecf",
   "metadata": {
    "scrolled": true
   },
   "outputs": [
    {
     "data": {
      "application/vnd.plotly.v1+json": {
       "config": {
        "plotlyServerURL": "https://plot.ly"
       },
       "data": [
        {
         "alignmentgroup": "True",
         "bingroup": "x",
         "hovertemplate": "Класс=%{x}<br>count=%{y}<extra></extra>",
         "legendgroup": "",
         "marker": {
          "color": "#636efa",
          "pattern": {
           "shape": ""
          }
         },
         "name": "",
         "offsetgroup": "",
         "orientation": "v",
         "showlegend": false,
         "type": "histogram",
         "x": [
          "Алюминиевый сплав",
          "Нержавеющая сталь",
          "Титановый сплав",
          "Никельхромовый сплав",
          "Полиамид",
          "Алюминиевый  порошок",
          "Алюминиевый  порошок",
          "Цинковый порошок",
          "Цинковый порошок",
          "Цинковый порошок",
          "Цинковый порошок",
          "Цинковый порошок",
          "Цинковый порошок",
          "Цинковый порошок",
          "Алюминиевый  порошок",
          "Алюминиевый  порошок",
          "Алюминиевый  порошок",
          "Алюминиевый  порошок",
          "Алюминиевый  порошок",
          "Алюминиевый  порошок",
          "Алюминиевый  порошок",
          "Алюминиевый  порошок",
          "Алюминиевый  порошок",
          "Алюминиевый  порошок",
          "Алюминиевый  порошок",
          "Алюминиевый  порошок",
          "Медный порошок",
          "Медный порошок",
          "Медный порошок",
          "Медный порошок",
          "Медный порошок",
          "Медный порошок",
          "Медный порошок",
          "Медный порошок",
          "Медный порошок",
          "Медный порошок",
          "Никелевый порошок",
          "Никелевый порошок",
          "Никелевый порошок",
          "Никелевый порошок",
          "Никелевый порошок",
          "Никелевый порошок",
          "Никелевый порошок",
          "Никелевый порошок",
          "Никелевый порошок",
          "Никелевый порошок",
          "Никелевый порошок",
          "Никелевый порошок",
          "Никелевый порошок",
          "Никелевый порошок",
          "Никелевый порошок",
          "Никелевый порошок",
          "Никелевый порошок",
          "Никелевый порошок",
          "Никелевый порошок",
          "Никелевый порошок",
          "Никелевый порошок",
          "Никелевый порошок",
          "Никелевый порошок",
          "Никелевый порошок",
          "Никелевый порошок",
          "Палладиевый порошок",
          "Палладиевый порошок",
          "Сплав из хрома",
          "Сплав из хрома",
          "Сплав из хрома",
          "Сплав из хрома",
          "Жидкий металл",
          "Жидкий металл",
          "Жидкий металл",
          "Жидкий металл",
          "Жидкий металл",
          "Жидкий металл",
          "Жидкий металл",
          "Жидкий металл",
          "Жидкий металл",
          "Жидкий металл",
          "Жидкий металл",
          "Жидкий металл",
          "Жидкий металл",
          "Жидкий металл",
          "Железный порошок",
          "Железный порошок",
          "Железный порошок",
          "Железный порошок",
          "Железный порошок",
          "Железный порошок",
          "Железный порошок",
          "Железный порошок",
          "Железный порошок",
          "Железный порошок",
          "Железный порошок",
          "Железный порошок",
          "Железный порошок",
          "Железный порошок",
          "Железный порошок",
          "Железный порошок",
          "Железный порошок",
          "Железный порошок",
          "Железный порошок",
          "Железный порошок",
          "порошковый материал с твердыми смазками",
          "порошковый материал с твердыми смазками",
          "порошковый материал с твердыми смазками",
          "порошковый материал с твердыми смазками",
          "порошковый материал с твердыми смазками",
          "Порошковые цветные металлы",
          "Порошковые цветные металлы",
          "Порошковые цветные металлы",
          "Порошковые цветные металлы",
          "Порошковые цветные металлы",
          "Порошковые цветные металлы",
          "Порошковые цветные металлы",
          "Порошковые цветные металлы",
          "Порошковые цветные металлы",
          "Порошковые цветные металлы",
          "Порошковые цветные металлы",
          "Порошковые цветные металлы",
          "Порошковые цветные металлы",
          "Порошковые цветные металлы",
          "Порошковые цветные металлы",
          "Порошковые цветные металлы",
          "Порошковые цветные металлы",
          "Порошковые цветные металлы",
          "Порошковые цветные металлы",
          "Порошковые цветные металлы",
          "Порошковые цветные металлы",
          "Порошковые цветные металлы",
          "Порошковые цветные металлы",
          "Порошковые цветные металлы",
          "Порошковые цветные металлы",
          "Порошковые цветные металлы",
          "Порошковые цветные металлы",
          "Порошковые цветные металлы",
          "Порошковые цветные металлы",
          "Порошковые цветные металлы",
          "Порошковые цветные металлы",
          "Порошковые цветные металлы",
          "Порошковые цветные металлы",
          "Порошковые цветные металлы",
          "Порошковые цветные металлы",
          "Порошковые цветные металлы",
          "Порошковые цветные металлы",
          "Порошковые цветные металлы",
          "Порошковые цветные металлы",
          "Порошковые цветные металлы",
          "Порошковые цветные металлы",
          "Порошковые цветные металлы",
          "Порошковые цветные металлы",
          "Порошковые цветные металлы",
          "Порошковые цветные металлы",
          "Порошковые цветные металлы",
          "Порошковые цветные металлы",
          "Порошковые цветные металлы",
          "Порошковые цветные металлы",
          "Порошковые цветные металлы",
          "Порошковые цветные металлы",
          "Порошковые цветные металлы",
          "Порошковые цветные металлы",
          "Порошковые цветные металлы",
          "Порошковые цветные металлы",
          "Порошковые цветные металлы",
          "Порошковые цветные металлы",
          "Порошковые цветные металлы",
          "Порошковые цветные металлы",
          "Порошковые цветные металлы",
          "Порошковые цветные металлы",
          "Порошковые цветные металлы",
          "Порошковые цветные металлы",
          "Порошковые цветные металлы",
          "Порошковые цветные металлы",
          "Порошковые цветные металлы",
          "Порошковые цветные металлы",
          "Порошковые цветные металлы",
          "Порошковые цветные металлы",
          "Порошковые цветные металлы",
          "Порошковые цветные металлы",
          "Порошковые цветные металлы",
          "Порошковые цветные металлы",
          "Порошковые цветные металлы",
          "Порошковые цветные металлы",
          "Порошковые цветные металлы",
          "Порошковые цветные металлы",
          "Порошковые цветные металлы",
          "Порошковые цветные металлы",
          "Порошковые цветные металлы",
          "Порошковые цветные металлы",
          "Порошковые цветные металлы",
          "Порошковые цветные металлы",
          "Порошковые цветные металлы",
          "Порошковые цветные металлы",
          "Порошковые цветные металлы",
          "Порошковые цветные металлы",
          "Порошковые цветные металлы",
          "Порошковые цветные металлы",
          "Порошковые цветные металлы",
          "Порошковые цветные металлы",
          "Порошковые цветные металлы",
          "Порошковые цветные металлы",
          "Порошковые цветные металлы",
          "Порошковые цветные металлы",
          "Порошковые цветные металлы",
          "Порошковые цветные металлы",
          "Порошковые цветные металлы",
          "Порошковые цветные металлы",
          "Порошковые цветные металлы",
          "Порошковые цветные металлы",
          "Порошковые цветные металлы",
          "Порошковые цветные металлы",
          "Порошковые цветные металлы",
          "Порошковые цветные металлы",
          "Порошковые цветные металлы",
          "Порошковые цветные металлы",
          "Порошковые цветные металлы",
          "Порошковые цветные металлы",
          "Порошковые цветные металлы",
          "Порошковые цветные металлы",
          "Порошковые цветные металлы",
          "Порошковые цветные металлы",
          "Порошковые цветные металлы",
          "Порошковые цветные металлы",
          "Порошковые цветные металлы",
          "Порошковые цветные металлы",
          "Порошковые цветные металлы",
          "Порошковые цветные металлы",
          "кермет на основе карбида титана",
          "кермет на основе карбида титана",
          "кермет на основе карбида титана",
          "кермет на основе карбида титана",
          "кермет на основе карбида титана",
          "кермет на основе карбида титана",
          "кермет на основе карбида титана",
          "кермет на основе карбида титана",
          "кермет на основе карбида титана",
          "кермет на основе карбида титана",
          "кермет на основе карбида титана",
          "кермет на основе карбида титана",
          "кермет на основе карбида титана",
          "порошковый магнит альнико",
          "порошковый магнит альнико",
          "порошковый магнит альнико",
          "порошковый магнит альнико",
          "порошковый магнит альнико",
          "порошковый магнит альнико",
          "порошковый магнит альнико",
          "порошковый магнит альнико",
          "порошковый магнит альнико",
          "порошковый магнит альнико",
          "порошковый магнит альнико",
          "магнитодиэлектрик на основе карбонильного железа",
          "магнитодиэлектрик на основе карбонильного железа",
          "магнитодиэлектрик на основе карбонильного железа",
          "магнитодиэлектрик на основе карбонильного железа",
          "магнитодиэлектрик на основе карбонильного железа",
          "магнитодиэлектрик на основе карбонильного железа",
          "магнитодиэлектрик на основе карбонильного железа",
          "магнитодиэлектрик на основе карбонильного железа",
          "магнитодиэлектрик на основе карбонильного железа",
          "магнитодиэлектрик на основе карбонильного железа",
          "магнитодиэлектрик на основе карбонильного железа",
          "магнитодиэлектрик на основе карбонильного железа",
          "магнитодиэлектрик на основе карбонильного железа",
          "графитизированный алюминиевый сплав",
          "графитизированный алюминиевый сплав",
          " антифрикционный материал",
          " антифрикционный материал",
          " антифрикционный материал",
          " антифрикционный материал",
          " антифрикционный материал",
          " антифрикционный материал",
          " антифрикционный материал",
          " антифрикционный материал",
          " антифрикционный материал",
          " антифрикционный материал",
          " антифрикционный материал",
          " антифрикционный материал",
          " антифрикционный материал",
          " антифрикционный материал",
          " антифрикционный материал",
          " антифрикционный материал",
          " антифрикционный материал",
          " антифрикционный материал",
          " антифрикционный материал",
          " антифрикционный материал",
          " антифрикционный материал",
          " антифрикционный материал",
          " антифрикционный материал",
          " антифрикционный материал",
          " антифрикционный материал",
          " антифрикционный материал",
          " антифрикционный материал",
          " антифрикционный материал",
          " антифрикционный материал",
          "Нержавеющая сталь",
          "Нержавеющая сталь",
          "Нержавеющая сталь",
          "Нержавеющая сталь",
          "Нержавеющая сталь",
          "Нержавеющая сталь",
          "Нержавеющая сталь",
          "Нержавеющая сталь",
          "Нержавеющая сталь",
          "Нержавеющая сталь",
          "Нержавеющая сталь",
          "Нержавеющая сталь",
          "Нержавеющая сталь",
          "Нержавеющая сталь",
          "Нержавеющая сталь",
          "Нержавеющая сталь",
          "Нержавеющая сталь",
          "Нержавеющая сталь",
          "Нержавеющая сталь",
          "Нержавеющая сталь",
          "Нержавеющая сталь",
          "Нержавеющая сталь",
          "Нержавеющая сталь",
          "Нержавеющая сталь",
          "Нержавеющая сталь",
          "Нержавеющая сталь",
          "Нержавеющая сталь",
          "Нержавеющая сталь",
          "Нержавеющая сталь",
          "Нержавеющая сталь",
          "Нержавеющая сталь",
          "Нержавеющая сталь",
          "Нержавеющая сталь",
          "Нержавеющая сталь",
          "Нержавеющая сталь",
          "Нержавеющая сталь",
          "Нержавеющая сталь",
          "Нержавеющая сталь",
          "Нержавеющая сталь",
          "Нержавеющая сталь",
          "Нержавеющая сталь",
          "Нержавеющая сталь",
          "Нержавеющая сталь",
          "Нержавеющая сталь",
          "Нержавеющая сталь",
          "Нержавеющая сталь",
          "Нержавеющая сталь",
          "Нержавеющая сталь",
          "Нержавеющая сталь",
          "Нержавеющая сталь",
          "Нержавеющая сталь",
          "Нержавеющая сталь",
          "Нержавеющая сталь",
          "Нержавеющая сталь",
          "Нержавеющая сталь",
          "Нержавеющая сталь",
          "Нержавеющая сталь",
          "Нержавеющая сталь",
          "Нержавеющая сталь",
          "Нержавеющая сталь",
          "Нержавеющая сталь",
          "Нержавеющая сталь",
          "Нержавеющая сталь",
          "Нержавеющая сталь",
          "Нержавеющая сталь",
          "Нержавеющая сталь",
          "Нержавеющая сталь",
          "Нержавеющая сталь",
          "Нержавеющая сталь",
          "Нержавеющая сталь",
          "Нержавеющая сталь"
         ],
         "xaxis": "x",
         "yaxis": "y"
        }
       ],
       "layout": {
        "barmode": "relative",
        "legend": {
         "tracegroupgap": 0
        },
        "margin": {
         "t": 60
        },
        "template": {
         "data": {
          "bar": [
           {
            "error_x": {
             "color": "#2a3f5f"
            },
            "error_y": {
             "color": "#2a3f5f"
            },
            "marker": {
             "line": {
              "color": "#E5ECF6",
              "width": 0.5
             },
             "pattern": {
              "fillmode": "overlay",
              "size": 10,
              "solidity": 0.2
             }
            },
            "type": "bar"
           }
          ],
          "barpolar": [
           {
            "marker": {
             "line": {
              "color": "#E5ECF6",
              "width": 0.5
             },
             "pattern": {
              "fillmode": "overlay",
              "size": 10,
              "solidity": 0.2
             }
            },
            "type": "barpolar"
           }
          ],
          "carpet": [
           {
            "aaxis": {
             "endlinecolor": "#2a3f5f",
             "gridcolor": "white",
             "linecolor": "white",
             "minorgridcolor": "white",
             "startlinecolor": "#2a3f5f"
            },
            "baxis": {
             "endlinecolor": "#2a3f5f",
             "gridcolor": "white",
             "linecolor": "white",
             "minorgridcolor": "white",
             "startlinecolor": "#2a3f5f"
            },
            "type": "carpet"
           }
          ],
          "choropleth": [
           {
            "colorbar": {
             "outlinewidth": 0,
             "ticks": ""
            },
            "type": "choropleth"
           }
          ],
          "contour": [
           {
            "colorbar": {
             "outlinewidth": 0,
             "ticks": ""
            },
            "colorscale": [
             [
              0,
              "#0d0887"
             ],
             [
              0.1111111111111111,
              "#46039f"
             ],
             [
              0.2222222222222222,
              "#7201a8"
             ],
             [
              0.3333333333333333,
              "#9c179e"
             ],
             [
              0.4444444444444444,
              "#bd3786"
             ],
             [
              0.5555555555555556,
              "#d8576b"
             ],
             [
              0.6666666666666666,
              "#ed7953"
             ],
             [
              0.7777777777777778,
              "#fb9f3a"
             ],
             [
              0.8888888888888888,
              "#fdca26"
             ],
             [
              1,
              "#f0f921"
             ]
            ],
            "type": "contour"
           }
          ],
          "contourcarpet": [
           {
            "colorbar": {
             "outlinewidth": 0,
             "ticks": ""
            },
            "type": "contourcarpet"
           }
          ],
          "heatmap": [
           {
            "colorbar": {
             "outlinewidth": 0,
             "ticks": ""
            },
            "colorscale": [
             [
              0,
              "#0d0887"
             ],
             [
              0.1111111111111111,
              "#46039f"
             ],
             [
              0.2222222222222222,
              "#7201a8"
             ],
             [
              0.3333333333333333,
              "#9c179e"
             ],
             [
              0.4444444444444444,
              "#bd3786"
             ],
             [
              0.5555555555555556,
              "#d8576b"
             ],
             [
              0.6666666666666666,
              "#ed7953"
             ],
             [
              0.7777777777777778,
              "#fb9f3a"
             ],
             [
              0.8888888888888888,
              "#fdca26"
             ],
             [
              1,
              "#f0f921"
             ]
            ],
            "type": "heatmap"
           }
          ],
          "heatmapgl": [
           {
            "colorbar": {
             "outlinewidth": 0,
             "ticks": ""
            },
            "colorscale": [
             [
              0,
              "#0d0887"
             ],
             [
              0.1111111111111111,
              "#46039f"
             ],
             [
              0.2222222222222222,
              "#7201a8"
             ],
             [
              0.3333333333333333,
              "#9c179e"
             ],
             [
              0.4444444444444444,
              "#bd3786"
             ],
             [
              0.5555555555555556,
              "#d8576b"
             ],
             [
              0.6666666666666666,
              "#ed7953"
             ],
             [
              0.7777777777777778,
              "#fb9f3a"
             ],
             [
              0.8888888888888888,
              "#fdca26"
             ],
             [
              1,
              "#f0f921"
             ]
            ],
            "type": "heatmapgl"
           }
          ],
          "histogram": [
           {
            "marker": {
             "pattern": {
              "fillmode": "overlay",
              "size": 10,
              "solidity": 0.2
             }
            },
            "type": "histogram"
           }
          ],
          "histogram2d": [
           {
            "colorbar": {
             "outlinewidth": 0,
             "ticks": ""
            },
            "colorscale": [
             [
              0,
              "#0d0887"
             ],
             [
              0.1111111111111111,
              "#46039f"
             ],
             [
              0.2222222222222222,
              "#7201a8"
             ],
             [
              0.3333333333333333,
              "#9c179e"
             ],
             [
              0.4444444444444444,
              "#bd3786"
             ],
             [
              0.5555555555555556,
              "#d8576b"
             ],
             [
              0.6666666666666666,
              "#ed7953"
             ],
             [
              0.7777777777777778,
              "#fb9f3a"
             ],
             [
              0.8888888888888888,
              "#fdca26"
             ],
             [
              1,
              "#f0f921"
             ]
            ],
            "type": "histogram2d"
           }
          ],
          "histogram2dcontour": [
           {
            "colorbar": {
             "outlinewidth": 0,
             "ticks": ""
            },
            "colorscale": [
             [
              0,
              "#0d0887"
             ],
             [
              0.1111111111111111,
              "#46039f"
             ],
             [
              0.2222222222222222,
              "#7201a8"
             ],
             [
              0.3333333333333333,
              "#9c179e"
             ],
             [
              0.4444444444444444,
              "#bd3786"
             ],
             [
              0.5555555555555556,
              "#d8576b"
             ],
             [
              0.6666666666666666,
              "#ed7953"
             ],
             [
              0.7777777777777778,
              "#fb9f3a"
             ],
             [
              0.8888888888888888,
              "#fdca26"
             ],
             [
              1,
              "#f0f921"
             ]
            ],
            "type": "histogram2dcontour"
           }
          ],
          "mesh3d": [
           {
            "colorbar": {
             "outlinewidth": 0,
             "ticks": ""
            },
            "type": "mesh3d"
           }
          ],
          "parcoords": [
           {
            "line": {
             "colorbar": {
              "outlinewidth": 0,
              "ticks": ""
             }
            },
            "type": "parcoords"
           }
          ],
          "pie": [
           {
            "automargin": true,
            "type": "pie"
           }
          ],
          "scatter": [
           {
            "fillpattern": {
             "fillmode": "overlay",
             "size": 10,
             "solidity": 0.2
            },
            "type": "scatter"
           }
          ],
          "scatter3d": [
           {
            "line": {
             "colorbar": {
              "outlinewidth": 0,
              "ticks": ""
             }
            },
            "marker": {
             "colorbar": {
              "outlinewidth": 0,
              "ticks": ""
             }
            },
            "type": "scatter3d"
           }
          ],
          "scattercarpet": [
           {
            "marker": {
             "colorbar": {
              "outlinewidth": 0,
              "ticks": ""
             }
            },
            "type": "scattercarpet"
           }
          ],
          "scattergeo": [
           {
            "marker": {
             "colorbar": {
              "outlinewidth": 0,
              "ticks": ""
             }
            },
            "type": "scattergeo"
           }
          ],
          "scattergl": [
           {
            "marker": {
             "colorbar": {
              "outlinewidth": 0,
              "ticks": ""
             }
            },
            "type": "scattergl"
           }
          ],
          "scattermapbox": [
           {
            "marker": {
             "colorbar": {
              "outlinewidth": 0,
              "ticks": ""
             }
            },
            "type": "scattermapbox"
           }
          ],
          "scatterpolar": [
           {
            "marker": {
             "colorbar": {
              "outlinewidth": 0,
              "ticks": ""
             }
            },
            "type": "scatterpolar"
           }
          ],
          "scatterpolargl": [
           {
            "marker": {
             "colorbar": {
              "outlinewidth": 0,
              "ticks": ""
             }
            },
            "type": "scatterpolargl"
           }
          ],
          "scatterternary": [
           {
            "marker": {
             "colorbar": {
              "outlinewidth": 0,
              "ticks": ""
             }
            },
            "type": "scatterternary"
           }
          ],
          "surface": [
           {
            "colorbar": {
             "outlinewidth": 0,
             "ticks": ""
            },
            "colorscale": [
             [
              0,
              "#0d0887"
             ],
             [
              0.1111111111111111,
              "#46039f"
             ],
             [
              0.2222222222222222,
              "#7201a8"
             ],
             [
              0.3333333333333333,
              "#9c179e"
             ],
             [
              0.4444444444444444,
              "#bd3786"
             ],
             [
              0.5555555555555556,
              "#d8576b"
             ],
             [
              0.6666666666666666,
              "#ed7953"
             ],
             [
              0.7777777777777778,
              "#fb9f3a"
             ],
             [
              0.8888888888888888,
              "#fdca26"
             ],
             [
              1,
              "#f0f921"
             ]
            ],
            "type": "surface"
           }
          ],
          "table": [
           {
            "cells": {
             "fill": {
              "color": "#EBF0F8"
             },
             "line": {
              "color": "white"
             }
            },
            "header": {
             "fill": {
              "color": "#C8D4E3"
             },
             "line": {
              "color": "white"
             }
            },
            "type": "table"
           }
          ]
         },
         "layout": {
          "annotationdefaults": {
           "arrowcolor": "#2a3f5f",
           "arrowhead": 0,
           "arrowwidth": 1
          },
          "autotypenumbers": "strict",
          "coloraxis": {
           "colorbar": {
            "outlinewidth": 0,
            "ticks": ""
           }
          },
          "colorscale": {
           "diverging": [
            [
             0,
             "#8e0152"
            ],
            [
             0.1,
             "#c51b7d"
            ],
            [
             0.2,
             "#de77ae"
            ],
            [
             0.3,
             "#f1b6da"
            ],
            [
             0.4,
             "#fde0ef"
            ],
            [
             0.5,
             "#f7f7f7"
            ],
            [
             0.6,
             "#e6f5d0"
            ],
            [
             0.7,
             "#b8e186"
            ],
            [
             0.8,
             "#7fbc41"
            ],
            [
             0.9,
             "#4d9221"
            ],
            [
             1,
             "#276419"
            ]
           ],
           "sequential": [
            [
             0,
             "#0d0887"
            ],
            [
             0.1111111111111111,
             "#46039f"
            ],
            [
             0.2222222222222222,
             "#7201a8"
            ],
            [
             0.3333333333333333,
             "#9c179e"
            ],
            [
             0.4444444444444444,
             "#bd3786"
            ],
            [
             0.5555555555555556,
             "#d8576b"
            ],
            [
             0.6666666666666666,
             "#ed7953"
            ],
            [
             0.7777777777777778,
             "#fb9f3a"
            ],
            [
             0.8888888888888888,
             "#fdca26"
            ],
            [
             1,
             "#f0f921"
            ]
           ],
           "sequentialminus": [
            [
             0,
             "#0d0887"
            ],
            [
             0.1111111111111111,
             "#46039f"
            ],
            [
             0.2222222222222222,
             "#7201a8"
            ],
            [
             0.3333333333333333,
             "#9c179e"
            ],
            [
             0.4444444444444444,
             "#bd3786"
            ],
            [
             0.5555555555555556,
             "#d8576b"
            ],
            [
             0.6666666666666666,
             "#ed7953"
            ],
            [
             0.7777777777777778,
             "#fb9f3a"
            ],
            [
             0.8888888888888888,
             "#fdca26"
            ],
            [
             1,
             "#f0f921"
            ]
           ]
          },
          "colorway": [
           "#636efa",
           "#EF553B",
           "#00cc96",
           "#ab63fa",
           "#FFA15A",
           "#19d3f3",
           "#FF6692",
           "#B6E880",
           "#FF97FF",
           "#FECB52"
          ],
          "font": {
           "color": "#2a3f5f"
          },
          "geo": {
           "bgcolor": "white",
           "lakecolor": "white",
           "landcolor": "#E5ECF6",
           "showlakes": true,
           "showland": true,
           "subunitcolor": "white"
          },
          "hoverlabel": {
           "align": "left"
          },
          "hovermode": "closest",
          "mapbox": {
           "style": "light"
          },
          "paper_bgcolor": "white",
          "plot_bgcolor": "#E5ECF6",
          "polar": {
           "angularaxis": {
            "gridcolor": "white",
            "linecolor": "white",
            "ticks": ""
           },
           "bgcolor": "#E5ECF6",
           "radialaxis": {
            "gridcolor": "white",
            "linecolor": "white",
            "ticks": ""
           }
          },
          "scene": {
           "xaxis": {
            "backgroundcolor": "#E5ECF6",
            "gridcolor": "white",
            "gridwidth": 2,
            "linecolor": "white",
            "showbackground": true,
            "ticks": "",
            "zerolinecolor": "white"
           },
           "yaxis": {
            "backgroundcolor": "#E5ECF6",
            "gridcolor": "white",
            "gridwidth": 2,
            "linecolor": "white",
            "showbackground": true,
            "ticks": "",
            "zerolinecolor": "white"
           },
           "zaxis": {
            "backgroundcolor": "#E5ECF6",
            "gridcolor": "white",
            "gridwidth": 2,
            "linecolor": "white",
            "showbackground": true,
            "ticks": "",
            "zerolinecolor": "white"
           }
          },
          "shapedefaults": {
           "line": {
            "color": "#2a3f5f"
           }
          },
          "ternary": {
           "aaxis": {
            "gridcolor": "white",
            "linecolor": "white",
            "ticks": ""
           },
           "baxis": {
            "gridcolor": "white",
            "linecolor": "white",
            "ticks": ""
           },
           "bgcolor": "#E5ECF6",
           "caxis": {
            "gridcolor": "white",
            "linecolor": "white",
            "ticks": ""
           }
          },
          "title": {
           "x": 0.05
          },
          "xaxis": {
           "automargin": true,
           "gridcolor": "white",
           "linecolor": "white",
           "ticks": "",
           "title": {
            "standoff": 15
           },
           "zerolinecolor": "white",
           "zerolinewidth": 2
          },
          "yaxis": {
           "automargin": true,
           "gridcolor": "white",
           "linecolor": "white",
           "ticks": "",
           "title": {
            "standoff": 15
           },
           "zerolinecolor": "white",
           "zerolinewidth": 2
          }
         }
        },
        "xaxis": {
         "anchor": "y",
         "domain": [
          0,
          1
         ],
         "title": {
          "text": "Класс"
         }
        },
        "yaxis": {
         "anchor": "x",
         "domain": [
          0,
          1
         ],
         "title": {
          "text": "count"
         }
        }
       }
      },
      "text/html": [
       "<div>                            <div id=\"824970ee-1996-493b-9b89-440e3b3d883b\" class=\"plotly-graph-div\" style=\"height:525px; width:100%;\"></div>            <script type=\"text/javascript\">                require([\"plotly\"], function(Plotly) {                    window.PLOTLYENV=window.PLOTLYENV || {};                                    if (document.getElementById(\"824970ee-1996-493b-9b89-440e3b3d883b\")) {                    Plotly.newPlot(                        \"824970ee-1996-493b-9b89-440e3b3d883b\",                        [{\"alignmentgroup\":\"True\",\"bingroup\":\"x\",\"hovertemplate\":\"\\u041a\\u043b\\u0430\\u0441\\u0441=%{x}<br>count=%{y}<extra></extra>\",\"legendgroup\":\"\",\"marker\":{\"color\":\"#636efa\",\"pattern\":{\"shape\":\"\"}},\"name\":\"\",\"offsetgroup\":\"\",\"orientation\":\"v\",\"showlegend\":false,\"x\":[\"\\u0410\\u043b\\u044e\\u043c\\u0438\\u043d\\u0438\\u0435\\u0432\\u044b\\u0439 \\u0441\\u043f\\u043b\\u0430\\u0432\",\"\\u041d\\u0435\\u0440\\u0436\\u0430\\u0432\\u0435\\u044e\\u0449\\u0430\\u044f \\u0441\\u0442\\u0430\\u043b\\u044c\",\"\\u0422\\u0438\\u0442\\u0430\\u043d\\u043e\\u0432\\u044b\\u0439 \\u0441\\u043f\\u043b\\u0430\\u0432\",\"\\u041d\\u0438\\u043a\\u0435\\u043b\\u044c\\u0445\\u0440\\u043e\\u043c\\u043e\\u0432\\u044b\\u0439 \\u0441\\u043f\\u043b\\u0430\\u0432\",\"\\u041f\\u043e\\u043b\\u0438\\u0430\\u043c\\u0438\\u0434\",\"\\u0410\\u043b\\u044e\\u043c\\u0438\\u043d\\u0438\\u0435\\u0432\\u044b\\u0439  \\u043f\\u043e\\u0440\\u043e\\u0448\\u043e\\u043a\",\"\\u0410\\u043b\\u044e\\u043c\\u0438\\u043d\\u0438\\u0435\\u0432\\u044b\\u0439  \\u043f\\u043e\\u0440\\u043e\\u0448\\u043e\\u043a\",\"\\u0426\\u0438\\u043d\\u043a\\u043e\\u0432\\u044b\\u0439 \\u043f\\u043e\\u0440\\u043e\\u0448\\u043e\\u043a\",\"\\u0426\\u0438\\u043d\\u043a\\u043e\\u0432\\u044b\\u0439 \\u043f\\u043e\\u0440\\u043e\\u0448\\u043e\\u043a\",\"\\u0426\\u0438\\u043d\\u043a\\u043e\\u0432\\u044b\\u0439 \\u043f\\u043e\\u0440\\u043e\\u0448\\u043e\\u043a\",\"\\u0426\\u0438\\u043d\\u043a\\u043e\\u0432\\u044b\\u0439 \\u043f\\u043e\\u0440\\u043e\\u0448\\u043e\\u043a\",\"\\u0426\\u0438\\u043d\\u043a\\u043e\\u0432\\u044b\\u0439 \\u043f\\u043e\\u0440\\u043e\\u0448\\u043e\\u043a\",\"\\u0426\\u0438\\u043d\\u043a\\u043e\\u0432\\u044b\\u0439 \\u043f\\u043e\\u0440\\u043e\\u0448\\u043e\\u043a\",\"\\u0426\\u0438\\u043d\\u043a\\u043e\\u0432\\u044b\\u0439 \\u043f\\u043e\\u0440\\u043e\\u0448\\u043e\\u043a\",\"\\u0410\\u043b\\u044e\\u043c\\u0438\\u043d\\u0438\\u0435\\u0432\\u044b\\u0439  \\u043f\\u043e\\u0440\\u043e\\u0448\\u043e\\u043a\",\"\\u0410\\u043b\\u044e\\u043c\\u0438\\u043d\\u0438\\u0435\\u0432\\u044b\\u0439  \\u043f\\u043e\\u0440\\u043e\\u0448\\u043e\\u043a\",\"\\u0410\\u043b\\u044e\\u043c\\u0438\\u043d\\u0438\\u0435\\u0432\\u044b\\u0439  \\u043f\\u043e\\u0440\\u043e\\u0448\\u043e\\u043a\",\"\\u0410\\u043b\\u044e\\u043c\\u0438\\u043d\\u0438\\u0435\\u0432\\u044b\\u0439  \\u043f\\u043e\\u0440\\u043e\\u0448\\u043e\\u043a\",\"\\u0410\\u043b\\u044e\\u043c\\u0438\\u043d\\u0438\\u0435\\u0432\\u044b\\u0439  \\u043f\\u043e\\u0440\\u043e\\u0448\\u043e\\u043a\",\"\\u0410\\u043b\\u044e\\u043c\\u0438\\u043d\\u0438\\u0435\\u0432\\u044b\\u0439  \\u043f\\u043e\\u0440\\u043e\\u0448\\u043e\\u043a\",\"\\u0410\\u043b\\u044e\\u043c\\u0438\\u043d\\u0438\\u0435\\u0432\\u044b\\u0439  \\u043f\\u043e\\u0440\\u043e\\u0448\\u043e\\u043a\",\"\\u0410\\u043b\\u044e\\u043c\\u0438\\u043d\\u0438\\u0435\\u0432\\u044b\\u0439  \\u043f\\u043e\\u0440\\u043e\\u0448\\u043e\\u043a\",\"\\u0410\\u043b\\u044e\\u043c\\u0438\\u043d\\u0438\\u0435\\u0432\\u044b\\u0439  \\u043f\\u043e\\u0440\\u043e\\u0448\\u043e\\u043a\",\"\\u0410\\u043b\\u044e\\u043c\\u0438\\u043d\\u0438\\u0435\\u0432\\u044b\\u0439  \\u043f\\u043e\\u0440\\u043e\\u0448\\u043e\\u043a\",\"\\u0410\\u043b\\u044e\\u043c\\u0438\\u043d\\u0438\\u0435\\u0432\\u044b\\u0439  \\u043f\\u043e\\u0440\\u043e\\u0448\\u043e\\u043a\",\"\\u0410\\u043b\\u044e\\u043c\\u0438\\u043d\\u0438\\u0435\\u0432\\u044b\\u0439  \\u043f\\u043e\\u0440\\u043e\\u0448\\u043e\\u043a\",\"\\u041c\\u0435\\u0434\\u043d\\u044b\\u0439 \\u043f\\u043e\\u0440\\u043e\\u0448\\u043e\\u043a\",\"\\u041c\\u0435\\u0434\\u043d\\u044b\\u0439 \\u043f\\u043e\\u0440\\u043e\\u0448\\u043e\\u043a\",\"\\u041c\\u0435\\u0434\\u043d\\u044b\\u0439 \\u043f\\u043e\\u0440\\u043e\\u0448\\u043e\\u043a\",\"\\u041c\\u0435\\u0434\\u043d\\u044b\\u0439 \\u043f\\u043e\\u0440\\u043e\\u0448\\u043e\\u043a\",\"\\u041c\\u0435\\u0434\\u043d\\u044b\\u0439 \\u043f\\u043e\\u0440\\u043e\\u0448\\u043e\\u043a\",\"\\u041c\\u0435\\u0434\\u043d\\u044b\\u0439 \\u043f\\u043e\\u0440\\u043e\\u0448\\u043e\\u043a\",\"\\u041c\\u0435\\u0434\\u043d\\u044b\\u0439 \\u043f\\u043e\\u0440\\u043e\\u0448\\u043e\\u043a\",\"\\u041c\\u0435\\u0434\\u043d\\u044b\\u0439 \\u043f\\u043e\\u0440\\u043e\\u0448\\u043e\\u043a\",\"\\u041c\\u0435\\u0434\\u043d\\u044b\\u0439 \\u043f\\u043e\\u0440\\u043e\\u0448\\u043e\\u043a\",\"\\u041c\\u0435\\u0434\\u043d\\u044b\\u0439 \\u043f\\u043e\\u0440\\u043e\\u0448\\u043e\\u043a\",\"\\u041d\\u0438\\u043a\\u0435\\u043b\\u0435\\u0432\\u044b\\u0439 \\u043f\\u043e\\u0440\\u043e\\u0448\\u043e\\u043a\",\"\\u041d\\u0438\\u043a\\u0435\\u043b\\u0435\\u0432\\u044b\\u0439 \\u043f\\u043e\\u0440\\u043e\\u0448\\u043e\\u043a\",\"\\u041d\\u0438\\u043a\\u0435\\u043b\\u0435\\u0432\\u044b\\u0439 \\u043f\\u043e\\u0440\\u043e\\u0448\\u043e\\u043a\",\"\\u041d\\u0438\\u043a\\u0435\\u043b\\u0435\\u0432\\u044b\\u0439 \\u043f\\u043e\\u0440\\u043e\\u0448\\u043e\\u043a\",\"\\u041d\\u0438\\u043a\\u0435\\u043b\\u0435\\u0432\\u044b\\u0439 \\u043f\\u043e\\u0440\\u043e\\u0448\\u043e\\u043a\",\"\\u041d\\u0438\\u043a\\u0435\\u043b\\u0435\\u0432\\u044b\\u0439 \\u043f\\u043e\\u0440\\u043e\\u0448\\u043e\\u043a\",\"\\u041d\\u0438\\u043a\\u0435\\u043b\\u0435\\u0432\\u044b\\u0439 \\u043f\\u043e\\u0440\\u043e\\u0448\\u043e\\u043a\",\"\\u041d\\u0438\\u043a\\u0435\\u043b\\u0435\\u0432\\u044b\\u0439 \\u043f\\u043e\\u0440\\u043e\\u0448\\u043e\\u043a\",\"\\u041d\\u0438\\u043a\\u0435\\u043b\\u0435\\u0432\\u044b\\u0439 \\u043f\\u043e\\u0440\\u043e\\u0448\\u043e\\u043a\",\"\\u041d\\u0438\\u043a\\u0435\\u043b\\u0435\\u0432\\u044b\\u0439 \\u043f\\u043e\\u0440\\u043e\\u0448\\u043e\\u043a\",\"\\u041d\\u0438\\u043a\\u0435\\u043b\\u0435\\u0432\\u044b\\u0439 \\u043f\\u043e\\u0440\\u043e\\u0448\\u043e\\u043a\",\"\\u041d\\u0438\\u043a\\u0435\\u043b\\u0435\\u0432\\u044b\\u0439 \\u043f\\u043e\\u0440\\u043e\\u0448\\u043e\\u043a\",\"\\u041d\\u0438\\u043a\\u0435\\u043b\\u0435\\u0432\\u044b\\u0439 \\u043f\\u043e\\u0440\\u043e\\u0448\\u043e\\u043a\",\"\\u041d\\u0438\\u043a\\u0435\\u043b\\u0435\\u0432\\u044b\\u0439 \\u043f\\u043e\\u0440\\u043e\\u0448\\u043e\\u043a\",\"\\u041d\\u0438\\u043a\\u0435\\u043b\\u0435\\u0432\\u044b\\u0439 \\u043f\\u043e\\u0440\\u043e\\u0448\\u043e\\u043a\",\"\\u041d\\u0438\\u043a\\u0435\\u043b\\u0435\\u0432\\u044b\\u0439 \\u043f\\u043e\\u0440\\u043e\\u0448\\u043e\\u043a\",\"\\u041d\\u0438\\u043a\\u0435\\u043b\\u0435\\u0432\\u044b\\u0439 \\u043f\\u043e\\u0440\\u043e\\u0448\\u043e\\u043a\",\"\\u041d\\u0438\\u043a\\u0435\\u043b\\u0435\\u0432\\u044b\\u0439 \\u043f\\u043e\\u0440\\u043e\\u0448\\u043e\\u043a\",\"\\u041d\\u0438\\u043a\\u0435\\u043b\\u0435\\u0432\\u044b\\u0439 \\u043f\\u043e\\u0440\\u043e\\u0448\\u043e\\u043a\",\"\\u041d\\u0438\\u043a\\u0435\\u043b\\u0435\\u0432\\u044b\\u0439 \\u043f\\u043e\\u0440\\u043e\\u0448\\u043e\\u043a\",\"\\u041d\\u0438\\u043a\\u0435\\u043b\\u0435\\u0432\\u044b\\u0439 \\u043f\\u043e\\u0440\\u043e\\u0448\\u043e\\u043a\",\"\\u041d\\u0438\\u043a\\u0435\\u043b\\u0435\\u0432\\u044b\\u0439 \\u043f\\u043e\\u0440\\u043e\\u0448\\u043e\\u043a\",\"\\u041d\\u0438\\u043a\\u0435\\u043b\\u0435\\u0432\\u044b\\u0439 \\u043f\\u043e\\u0440\\u043e\\u0448\\u043e\\u043a\",\"\\u041d\\u0438\\u043a\\u0435\\u043b\\u0435\\u0432\\u044b\\u0439 \\u043f\\u043e\\u0440\\u043e\\u0448\\u043e\\u043a\",\"\\u041d\\u0438\\u043a\\u0435\\u043b\\u0435\\u0432\\u044b\\u0439 \\u043f\\u043e\\u0440\\u043e\\u0448\\u043e\\u043a\",\"\\u041f\\u0430\\u043b\\u043b\\u0430\\u0434\\u0438\\u0435\\u0432\\u044b\\u0439 \\u043f\\u043e\\u0440\\u043e\\u0448\\u043e\\u043a\",\"\\u041f\\u0430\\u043b\\u043b\\u0430\\u0434\\u0438\\u0435\\u0432\\u044b\\u0439 \\u043f\\u043e\\u0440\\u043e\\u0448\\u043e\\u043a\",\"\\u0421\\u043f\\u043b\\u0430\\u0432 \\u0438\\u0437 \\u0445\\u0440\\u043e\\u043c\\u0430\",\"\\u0421\\u043f\\u043b\\u0430\\u0432 \\u0438\\u0437 \\u0445\\u0440\\u043e\\u043c\\u0430\",\"\\u0421\\u043f\\u043b\\u0430\\u0432 \\u0438\\u0437 \\u0445\\u0440\\u043e\\u043c\\u0430\",\"\\u0421\\u043f\\u043b\\u0430\\u0432 \\u0438\\u0437 \\u0445\\u0440\\u043e\\u043c\\u0430\",\"\\u0416\\u0438\\u0434\\u043a\\u0438\\u0439 \\u043c\\u0435\\u0442\\u0430\\u043b\\u043b\",\"\\u0416\\u0438\\u0434\\u043a\\u0438\\u0439 \\u043c\\u0435\\u0442\\u0430\\u043b\\u043b\",\"\\u0416\\u0438\\u0434\\u043a\\u0438\\u0439 \\u043c\\u0435\\u0442\\u0430\\u043b\\u043b\",\"\\u0416\\u0438\\u0434\\u043a\\u0438\\u0439 \\u043c\\u0435\\u0442\\u0430\\u043b\\u043b\",\"\\u0416\\u0438\\u0434\\u043a\\u0438\\u0439 \\u043c\\u0435\\u0442\\u0430\\u043b\\u043b\",\"\\u0416\\u0438\\u0434\\u043a\\u0438\\u0439 \\u043c\\u0435\\u0442\\u0430\\u043b\\u043b\",\"\\u0416\\u0438\\u0434\\u043a\\u0438\\u0439 \\u043c\\u0435\\u0442\\u0430\\u043b\\u043b\",\"\\u0416\\u0438\\u0434\\u043a\\u0438\\u0439 \\u043c\\u0435\\u0442\\u0430\\u043b\\u043b\",\"\\u0416\\u0438\\u0434\\u043a\\u0438\\u0439 \\u043c\\u0435\\u0442\\u0430\\u043b\\u043b\",\"\\u0416\\u0438\\u0434\\u043a\\u0438\\u0439 \\u043c\\u0435\\u0442\\u0430\\u043b\\u043b\",\"\\u0416\\u0438\\u0434\\u043a\\u0438\\u0439 \\u043c\\u0435\\u0442\\u0430\\u043b\\u043b\",\"\\u0416\\u0438\\u0434\\u043a\\u0438\\u0439 \\u043c\\u0435\\u0442\\u0430\\u043b\\u043b\",\"\\u0416\\u0438\\u0434\\u043a\\u0438\\u0439 \\u043c\\u0435\\u0442\\u0430\\u043b\\u043b\",\"\\u0416\\u0438\\u0434\\u043a\\u0438\\u0439 \\u043c\\u0435\\u0442\\u0430\\u043b\\u043b\",\"\\u0416\\u0435\\u043b\\u0435\\u0437\\u043d\\u044b\\u0439 \\u043f\\u043e\\u0440\\u043e\\u0448\\u043e\\u043a\",\"\\u0416\\u0435\\u043b\\u0435\\u0437\\u043d\\u044b\\u0439 \\u043f\\u043e\\u0440\\u043e\\u0448\\u043e\\u043a\",\"\\u0416\\u0435\\u043b\\u0435\\u0437\\u043d\\u044b\\u0439 \\u043f\\u043e\\u0440\\u043e\\u0448\\u043e\\u043a\",\"\\u0416\\u0435\\u043b\\u0435\\u0437\\u043d\\u044b\\u0439 \\u043f\\u043e\\u0440\\u043e\\u0448\\u043e\\u043a\",\"\\u0416\\u0435\\u043b\\u0435\\u0437\\u043d\\u044b\\u0439 \\u043f\\u043e\\u0440\\u043e\\u0448\\u043e\\u043a\",\"\\u0416\\u0435\\u043b\\u0435\\u0437\\u043d\\u044b\\u0439 \\u043f\\u043e\\u0440\\u043e\\u0448\\u043e\\u043a\",\"\\u0416\\u0435\\u043b\\u0435\\u0437\\u043d\\u044b\\u0439 \\u043f\\u043e\\u0440\\u043e\\u0448\\u043e\\u043a\",\"\\u0416\\u0435\\u043b\\u0435\\u0437\\u043d\\u044b\\u0439 \\u043f\\u043e\\u0440\\u043e\\u0448\\u043e\\u043a\",\"\\u0416\\u0435\\u043b\\u0435\\u0437\\u043d\\u044b\\u0439 \\u043f\\u043e\\u0440\\u043e\\u0448\\u043e\\u043a\",\"\\u0416\\u0435\\u043b\\u0435\\u0437\\u043d\\u044b\\u0439 \\u043f\\u043e\\u0440\\u043e\\u0448\\u043e\\u043a\",\"\\u0416\\u0435\\u043b\\u0435\\u0437\\u043d\\u044b\\u0439 \\u043f\\u043e\\u0440\\u043e\\u0448\\u043e\\u043a\",\"\\u0416\\u0435\\u043b\\u0435\\u0437\\u043d\\u044b\\u0439 \\u043f\\u043e\\u0440\\u043e\\u0448\\u043e\\u043a\",\"\\u0416\\u0435\\u043b\\u0435\\u0437\\u043d\\u044b\\u0439 \\u043f\\u043e\\u0440\\u043e\\u0448\\u043e\\u043a\",\"\\u0416\\u0435\\u043b\\u0435\\u0437\\u043d\\u044b\\u0439 \\u043f\\u043e\\u0440\\u043e\\u0448\\u043e\\u043a\",\"\\u0416\\u0435\\u043b\\u0435\\u0437\\u043d\\u044b\\u0439 \\u043f\\u043e\\u0440\\u043e\\u0448\\u043e\\u043a\",\"\\u0416\\u0435\\u043b\\u0435\\u0437\\u043d\\u044b\\u0439 \\u043f\\u043e\\u0440\\u043e\\u0448\\u043e\\u043a\",\"\\u0416\\u0435\\u043b\\u0435\\u0437\\u043d\\u044b\\u0439 \\u043f\\u043e\\u0440\\u043e\\u0448\\u043e\\u043a\",\"\\u0416\\u0435\\u043b\\u0435\\u0437\\u043d\\u044b\\u0439 \\u043f\\u043e\\u0440\\u043e\\u0448\\u043e\\u043a\",\"\\u0416\\u0435\\u043b\\u0435\\u0437\\u043d\\u044b\\u0439 \\u043f\\u043e\\u0440\\u043e\\u0448\\u043e\\u043a\",\"\\u0416\\u0435\\u043b\\u0435\\u0437\\u043d\\u044b\\u0439 \\u043f\\u043e\\u0440\\u043e\\u0448\\u043e\\u043a\",\"\\u043f\\u043e\\u0440\\u043e\\u0448\\u043a\\u043e\\u0432\\u044b\\u0439 \\u043c\\u0430\\u0442\\u0435\\u0440\\u0438\\u0430\\u043b \\u0441 \\u0442\\u0432\\u0435\\u0440\\u0434\\u044b\\u043c\\u0438 \\u0441\\u043c\\u0430\\u0437\\u043a\\u0430\\u043c\\u0438\",\"\\u043f\\u043e\\u0440\\u043e\\u0448\\u043a\\u043e\\u0432\\u044b\\u0439 \\u043c\\u0430\\u0442\\u0435\\u0440\\u0438\\u0430\\u043b \\u0441 \\u0442\\u0432\\u0435\\u0440\\u0434\\u044b\\u043c\\u0438 \\u0441\\u043c\\u0430\\u0437\\u043a\\u0430\\u043c\\u0438\",\"\\u043f\\u043e\\u0440\\u043e\\u0448\\u043a\\u043e\\u0432\\u044b\\u0439 \\u043c\\u0430\\u0442\\u0435\\u0440\\u0438\\u0430\\u043b \\u0441 \\u0442\\u0432\\u0435\\u0440\\u0434\\u044b\\u043c\\u0438 \\u0441\\u043c\\u0430\\u0437\\u043a\\u0430\\u043c\\u0438\",\"\\u043f\\u043e\\u0440\\u043e\\u0448\\u043a\\u043e\\u0432\\u044b\\u0439 \\u043c\\u0430\\u0442\\u0435\\u0440\\u0438\\u0430\\u043b \\u0441 \\u0442\\u0432\\u0435\\u0440\\u0434\\u044b\\u043c\\u0438 \\u0441\\u043c\\u0430\\u0437\\u043a\\u0430\\u043c\\u0438\",\"\\u043f\\u043e\\u0440\\u043e\\u0448\\u043a\\u043e\\u0432\\u044b\\u0439 \\u043c\\u0430\\u0442\\u0435\\u0440\\u0438\\u0430\\u043b \\u0441 \\u0442\\u0432\\u0435\\u0440\\u0434\\u044b\\u043c\\u0438 \\u0441\\u043c\\u0430\\u0437\\u043a\\u0430\\u043c\\u0438\",\"\\u041f\\u043e\\u0440\\u043e\\u0448\\u043a\\u043e\\u0432\\u044b\\u0435 \\u0446\\u0432\\u0435\\u0442\\u043d\\u044b\\u0435 \\u043c\\u0435\\u0442\\u0430\\u043b\\u043b\\u044b\",\"\\u041f\\u043e\\u0440\\u043e\\u0448\\u043a\\u043e\\u0432\\u044b\\u0435 \\u0446\\u0432\\u0435\\u0442\\u043d\\u044b\\u0435 \\u043c\\u0435\\u0442\\u0430\\u043b\\u043b\\u044b\",\"\\u041f\\u043e\\u0440\\u043e\\u0448\\u043a\\u043e\\u0432\\u044b\\u0435 \\u0446\\u0432\\u0435\\u0442\\u043d\\u044b\\u0435 \\u043c\\u0435\\u0442\\u0430\\u043b\\u043b\\u044b\",\"\\u041f\\u043e\\u0440\\u043e\\u0448\\u043a\\u043e\\u0432\\u044b\\u0435 \\u0446\\u0432\\u0435\\u0442\\u043d\\u044b\\u0435 \\u043c\\u0435\\u0442\\u0430\\u043b\\u043b\\u044b\",\"\\u041f\\u043e\\u0440\\u043e\\u0448\\u043a\\u043e\\u0432\\u044b\\u0435 \\u0446\\u0432\\u0435\\u0442\\u043d\\u044b\\u0435 \\u043c\\u0435\\u0442\\u0430\\u043b\\u043b\\u044b\",\"\\u041f\\u043e\\u0440\\u043e\\u0448\\u043a\\u043e\\u0432\\u044b\\u0435 \\u0446\\u0432\\u0435\\u0442\\u043d\\u044b\\u0435 \\u043c\\u0435\\u0442\\u0430\\u043b\\u043b\\u044b\",\"\\u041f\\u043e\\u0440\\u043e\\u0448\\u043a\\u043e\\u0432\\u044b\\u0435 \\u0446\\u0432\\u0435\\u0442\\u043d\\u044b\\u0435 \\u043c\\u0435\\u0442\\u0430\\u043b\\u043b\\u044b\",\"\\u041f\\u043e\\u0440\\u043e\\u0448\\u043a\\u043e\\u0432\\u044b\\u0435 \\u0446\\u0432\\u0435\\u0442\\u043d\\u044b\\u0435 \\u043c\\u0435\\u0442\\u0430\\u043b\\u043b\\u044b\",\"\\u041f\\u043e\\u0440\\u043e\\u0448\\u043a\\u043e\\u0432\\u044b\\u0435 \\u0446\\u0432\\u0435\\u0442\\u043d\\u044b\\u0435 \\u043c\\u0435\\u0442\\u0430\\u043b\\u043b\\u044b\",\"\\u041f\\u043e\\u0440\\u043e\\u0448\\u043a\\u043e\\u0432\\u044b\\u0435 \\u0446\\u0432\\u0435\\u0442\\u043d\\u044b\\u0435 \\u043c\\u0435\\u0442\\u0430\\u043b\\u043b\\u044b\",\"\\u041f\\u043e\\u0440\\u043e\\u0448\\u043a\\u043e\\u0432\\u044b\\u0435 \\u0446\\u0432\\u0435\\u0442\\u043d\\u044b\\u0435 \\u043c\\u0435\\u0442\\u0430\\u043b\\u043b\\u044b\",\"\\u041f\\u043e\\u0440\\u043e\\u0448\\u043a\\u043e\\u0432\\u044b\\u0435 \\u0446\\u0432\\u0435\\u0442\\u043d\\u044b\\u0435 \\u043c\\u0435\\u0442\\u0430\\u043b\\u043b\\u044b\",\"\\u041f\\u043e\\u0440\\u043e\\u0448\\u043a\\u043e\\u0432\\u044b\\u0435 \\u0446\\u0432\\u0435\\u0442\\u043d\\u044b\\u0435 \\u043c\\u0435\\u0442\\u0430\\u043b\\u043b\\u044b\",\"\\u041f\\u043e\\u0440\\u043e\\u0448\\u043a\\u043e\\u0432\\u044b\\u0435 \\u0446\\u0432\\u0435\\u0442\\u043d\\u044b\\u0435 \\u043c\\u0435\\u0442\\u0430\\u043b\\u043b\\u044b\",\"\\u041f\\u043e\\u0440\\u043e\\u0448\\u043a\\u043e\\u0432\\u044b\\u0435 \\u0446\\u0432\\u0435\\u0442\\u043d\\u044b\\u0435 \\u043c\\u0435\\u0442\\u0430\\u043b\\u043b\\u044b\",\"\\u041f\\u043e\\u0440\\u043e\\u0448\\u043a\\u043e\\u0432\\u044b\\u0435 \\u0446\\u0432\\u0435\\u0442\\u043d\\u044b\\u0435 \\u043c\\u0435\\u0442\\u0430\\u043b\\u043b\\u044b\",\"\\u041f\\u043e\\u0440\\u043e\\u0448\\u043a\\u043e\\u0432\\u044b\\u0435 \\u0446\\u0432\\u0435\\u0442\\u043d\\u044b\\u0435 \\u043c\\u0435\\u0442\\u0430\\u043b\\u043b\\u044b\",\"\\u041f\\u043e\\u0440\\u043e\\u0448\\u043a\\u043e\\u0432\\u044b\\u0435 \\u0446\\u0432\\u0435\\u0442\\u043d\\u044b\\u0435 \\u043c\\u0435\\u0442\\u0430\\u043b\\u043b\\u044b\",\"\\u041f\\u043e\\u0440\\u043e\\u0448\\u043a\\u043e\\u0432\\u044b\\u0435 \\u0446\\u0432\\u0435\\u0442\\u043d\\u044b\\u0435 \\u043c\\u0435\\u0442\\u0430\\u043b\\u043b\\u044b\",\"\\u041f\\u043e\\u0440\\u043e\\u0448\\u043a\\u043e\\u0432\\u044b\\u0435 \\u0446\\u0432\\u0435\\u0442\\u043d\\u044b\\u0435 \\u043c\\u0435\\u0442\\u0430\\u043b\\u043b\\u044b\",\"\\u041f\\u043e\\u0440\\u043e\\u0448\\u043a\\u043e\\u0432\\u044b\\u0435 \\u0446\\u0432\\u0435\\u0442\\u043d\\u044b\\u0435 \\u043c\\u0435\\u0442\\u0430\\u043b\\u043b\\u044b\",\"\\u041f\\u043e\\u0440\\u043e\\u0448\\u043a\\u043e\\u0432\\u044b\\u0435 \\u0446\\u0432\\u0435\\u0442\\u043d\\u044b\\u0435 \\u043c\\u0435\\u0442\\u0430\\u043b\\u043b\\u044b\",\"\\u041f\\u043e\\u0440\\u043e\\u0448\\u043a\\u043e\\u0432\\u044b\\u0435 \\u0446\\u0432\\u0435\\u0442\\u043d\\u044b\\u0435 \\u043c\\u0435\\u0442\\u0430\\u043b\\u043b\\u044b\",\"\\u041f\\u043e\\u0440\\u043e\\u0448\\u043a\\u043e\\u0432\\u044b\\u0435 \\u0446\\u0432\\u0435\\u0442\\u043d\\u044b\\u0435 \\u043c\\u0435\\u0442\\u0430\\u043b\\u043b\\u044b\",\"\\u041f\\u043e\\u0440\\u043e\\u0448\\u043a\\u043e\\u0432\\u044b\\u0435 \\u0446\\u0432\\u0435\\u0442\\u043d\\u044b\\u0435 \\u043c\\u0435\\u0442\\u0430\\u043b\\u043b\\u044b\",\"\\u041f\\u043e\\u0440\\u043e\\u0448\\u043a\\u043e\\u0432\\u044b\\u0435 \\u0446\\u0432\\u0435\\u0442\\u043d\\u044b\\u0435 \\u043c\\u0435\\u0442\\u0430\\u043b\\u043b\\u044b\",\"\\u041f\\u043e\\u0440\\u043e\\u0448\\u043a\\u043e\\u0432\\u044b\\u0435 \\u0446\\u0432\\u0435\\u0442\\u043d\\u044b\\u0435 \\u043c\\u0435\\u0442\\u0430\\u043b\\u043b\\u044b\",\"\\u041f\\u043e\\u0440\\u043e\\u0448\\u043a\\u043e\\u0432\\u044b\\u0435 \\u0446\\u0432\\u0435\\u0442\\u043d\\u044b\\u0435 \\u043c\\u0435\\u0442\\u0430\\u043b\\u043b\\u044b\",\"\\u041f\\u043e\\u0440\\u043e\\u0448\\u043a\\u043e\\u0432\\u044b\\u0435 \\u0446\\u0432\\u0435\\u0442\\u043d\\u044b\\u0435 \\u043c\\u0435\\u0442\\u0430\\u043b\\u043b\\u044b\",\"\\u041f\\u043e\\u0440\\u043e\\u0448\\u043a\\u043e\\u0432\\u044b\\u0435 \\u0446\\u0432\\u0435\\u0442\\u043d\\u044b\\u0435 \\u043c\\u0435\\u0442\\u0430\\u043b\\u043b\\u044b\",\"\\u041f\\u043e\\u0440\\u043e\\u0448\\u043a\\u043e\\u0432\\u044b\\u0435 \\u0446\\u0432\\u0435\\u0442\\u043d\\u044b\\u0435 \\u043c\\u0435\\u0442\\u0430\\u043b\\u043b\\u044b\",\"\\u041f\\u043e\\u0440\\u043e\\u0448\\u043a\\u043e\\u0432\\u044b\\u0435 \\u0446\\u0432\\u0435\\u0442\\u043d\\u044b\\u0435 \\u043c\\u0435\\u0442\\u0430\\u043b\\u043b\\u044b\",\"\\u041f\\u043e\\u0440\\u043e\\u0448\\u043a\\u043e\\u0432\\u044b\\u0435 \\u0446\\u0432\\u0435\\u0442\\u043d\\u044b\\u0435 \\u043c\\u0435\\u0442\\u0430\\u043b\\u043b\\u044b\",\"\\u041f\\u043e\\u0440\\u043e\\u0448\\u043a\\u043e\\u0432\\u044b\\u0435 \\u0446\\u0432\\u0435\\u0442\\u043d\\u044b\\u0435 \\u043c\\u0435\\u0442\\u0430\\u043b\\u043b\\u044b\",\"\\u041f\\u043e\\u0440\\u043e\\u0448\\u043a\\u043e\\u0432\\u044b\\u0435 \\u0446\\u0432\\u0435\\u0442\\u043d\\u044b\\u0435 \\u043c\\u0435\\u0442\\u0430\\u043b\\u043b\\u044b\",\"\\u041f\\u043e\\u0440\\u043e\\u0448\\u043a\\u043e\\u0432\\u044b\\u0435 \\u0446\\u0432\\u0435\\u0442\\u043d\\u044b\\u0435 \\u043c\\u0435\\u0442\\u0430\\u043b\\u043b\\u044b\",\"\\u041f\\u043e\\u0440\\u043e\\u0448\\u043a\\u043e\\u0432\\u044b\\u0435 \\u0446\\u0432\\u0435\\u0442\\u043d\\u044b\\u0435 \\u043c\\u0435\\u0442\\u0430\\u043b\\u043b\\u044b\",\"\\u041f\\u043e\\u0440\\u043e\\u0448\\u043a\\u043e\\u0432\\u044b\\u0435 \\u0446\\u0432\\u0435\\u0442\\u043d\\u044b\\u0435 \\u043c\\u0435\\u0442\\u0430\\u043b\\u043b\\u044b\",\"\\u041f\\u043e\\u0440\\u043e\\u0448\\u043a\\u043e\\u0432\\u044b\\u0435 \\u0446\\u0432\\u0435\\u0442\\u043d\\u044b\\u0435 \\u043c\\u0435\\u0442\\u0430\\u043b\\u043b\\u044b\",\"\\u041f\\u043e\\u0440\\u043e\\u0448\\u043a\\u043e\\u0432\\u044b\\u0435 \\u0446\\u0432\\u0435\\u0442\\u043d\\u044b\\u0435 \\u043c\\u0435\\u0442\\u0430\\u043b\\u043b\\u044b\",\"\\u041f\\u043e\\u0440\\u043e\\u0448\\u043a\\u043e\\u0432\\u044b\\u0435 \\u0446\\u0432\\u0435\\u0442\\u043d\\u044b\\u0435 \\u043c\\u0435\\u0442\\u0430\\u043b\\u043b\\u044b\",\"\\u041f\\u043e\\u0440\\u043e\\u0448\\u043a\\u043e\\u0432\\u044b\\u0435 \\u0446\\u0432\\u0435\\u0442\\u043d\\u044b\\u0435 \\u043c\\u0435\\u0442\\u0430\\u043b\\u043b\\u044b\",\"\\u041f\\u043e\\u0440\\u043e\\u0448\\u043a\\u043e\\u0432\\u044b\\u0435 \\u0446\\u0432\\u0435\\u0442\\u043d\\u044b\\u0435 \\u043c\\u0435\\u0442\\u0430\\u043b\\u043b\\u044b\",\"\\u041f\\u043e\\u0440\\u043e\\u0448\\u043a\\u043e\\u0432\\u044b\\u0435 \\u0446\\u0432\\u0435\\u0442\\u043d\\u044b\\u0435 \\u043c\\u0435\\u0442\\u0430\\u043b\\u043b\\u044b\",\"\\u041f\\u043e\\u0440\\u043e\\u0448\\u043a\\u043e\\u0432\\u044b\\u0435 \\u0446\\u0432\\u0435\\u0442\\u043d\\u044b\\u0435 \\u043c\\u0435\\u0442\\u0430\\u043b\\u043b\\u044b\",\"\\u041f\\u043e\\u0440\\u043e\\u0448\\u043a\\u043e\\u0432\\u044b\\u0435 \\u0446\\u0432\\u0435\\u0442\\u043d\\u044b\\u0435 \\u043c\\u0435\\u0442\\u0430\\u043b\\u043b\\u044b\",\"\\u041f\\u043e\\u0440\\u043e\\u0448\\u043a\\u043e\\u0432\\u044b\\u0435 \\u0446\\u0432\\u0435\\u0442\\u043d\\u044b\\u0435 \\u043c\\u0435\\u0442\\u0430\\u043b\\u043b\\u044b\",\"\\u041f\\u043e\\u0440\\u043e\\u0448\\u043a\\u043e\\u0432\\u044b\\u0435 \\u0446\\u0432\\u0435\\u0442\\u043d\\u044b\\u0435 \\u043c\\u0435\\u0442\\u0430\\u043b\\u043b\\u044b\",\"\\u041f\\u043e\\u0440\\u043e\\u0448\\u043a\\u043e\\u0432\\u044b\\u0435 \\u0446\\u0432\\u0435\\u0442\\u043d\\u044b\\u0435 \\u043c\\u0435\\u0442\\u0430\\u043b\\u043b\\u044b\",\"\\u041f\\u043e\\u0440\\u043e\\u0448\\u043a\\u043e\\u0432\\u044b\\u0435 \\u0446\\u0432\\u0435\\u0442\\u043d\\u044b\\u0435 \\u043c\\u0435\\u0442\\u0430\\u043b\\u043b\\u044b\",\"\\u041f\\u043e\\u0440\\u043e\\u0448\\u043a\\u043e\\u0432\\u044b\\u0435 \\u0446\\u0432\\u0435\\u0442\\u043d\\u044b\\u0435 \\u043c\\u0435\\u0442\\u0430\\u043b\\u043b\\u044b\",\"\\u041f\\u043e\\u0440\\u043e\\u0448\\u043a\\u043e\\u0432\\u044b\\u0435 \\u0446\\u0432\\u0435\\u0442\\u043d\\u044b\\u0435 \\u043c\\u0435\\u0442\\u0430\\u043b\\u043b\\u044b\",\"\\u041f\\u043e\\u0440\\u043e\\u0448\\u043a\\u043e\\u0432\\u044b\\u0435 \\u0446\\u0432\\u0435\\u0442\\u043d\\u044b\\u0435 \\u043c\\u0435\\u0442\\u0430\\u043b\\u043b\\u044b\",\"\\u041f\\u043e\\u0440\\u043e\\u0448\\u043a\\u043e\\u0432\\u044b\\u0435 \\u0446\\u0432\\u0435\\u0442\\u043d\\u044b\\u0435 \\u043c\\u0435\\u0442\\u0430\\u043b\\u043b\\u044b\",\"\\u041f\\u043e\\u0440\\u043e\\u0448\\u043a\\u043e\\u0432\\u044b\\u0435 \\u0446\\u0432\\u0435\\u0442\\u043d\\u044b\\u0435 \\u043c\\u0435\\u0442\\u0430\\u043b\\u043b\\u044b\",\"\\u041f\\u043e\\u0440\\u043e\\u0448\\u043a\\u043e\\u0432\\u044b\\u0435 \\u0446\\u0432\\u0435\\u0442\\u043d\\u044b\\u0435 \\u043c\\u0435\\u0442\\u0430\\u043b\\u043b\\u044b\",\"\\u041f\\u043e\\u0440\\u043e\\u0448\\u043a\\u043e\\u0432\\u044b\\u0435 \\u0446\\u0432\\u0435\\u0442\\u043d\\u044b\\u0435 \\u043c\\u0435\\u0442\\u0430\\u043b\\u043b\\u044b\",\"\\u041f\\u043e\\u0440\\u043e\\u0448\\u043a\\u043e\\u0432\\u044b\\u0435 \\u0446\\u0432\\u0435\\u0442\\u043d\\u044b\\u0435 \\u043c\\u0435\\u0442\\u0430\\u043b\\u043b\\u044b\",\"\\u041f\\u043e\\u0440\\u043e\\u0448\\u043a\\u043e\\u0432\\u044b\\u0435 \\u0446\\u0432\\u0435\\u0442\\u043d\\u044b\\u0435 \\u043c\\u0435\\u0442\\u0430\\u043b\\u043b\\u044b\",\"\\u041f\\u043e\\u0440\\u043e\\u0448\\u043a\\u043e\\u0432\\u044b\\u0435 \\u0446\\u0432\\u0435\\u0442\\u043d\\u044b\\u0435 \\u043c\\u0435\\u0442\\u0430\\u043b\\u043b\\u044b\",\"\\u041f\\u043e\\u0440\\u043e\\u0448\\u043a\\u043e\\u0432\\u044b\\u0435 \\u0446\\u0432\\u0435\\u0442\\u043d\\u044b\\u0435 \\u043c\\u0435\\u0442\\u0430\\u043b\\u043b\\u044b\",\"\\u041f\\u043e\\u0440\\u043e\\u0448\\u043a\\u043e\\u0432\\u044b\\u0435 \\u0446\\u0432\\u0435\\u0442\\u043d\\u044b\\u0435 \\u043c\\u0435\\u0442\\u0430\\u043b\\u043b\\u044b\",\"\\u041f\\u043e\\u0440\\u043e\\u0448\\u043a\\u043e\\u0432\\u044b\\u0435 \\u0446\\u0432\\u0435\\u0442\\u043d\\u044b\\u0435 \\u043c\\u0435\\u0442\\u0430\\u043b\\u043b\\u044b\",\"\\u041f\\u043e\\u0440\\u043e\\u0448\\u043a\\u043e\\u0432\\u044b\\u0435 \\u0446\\u0432\\u0435\\u0442\\u043d\\u044b\\u0435 \\u043c\\u0435\\u0442\\u0430\\u043b\\u043b\\u044b\",\"\\u041f\\u043e\\u0440\\u043e\\u0448\\u043a\\u043e\\u0432\\u044b\\u0435 \\u0446\\u0432\\u0435\\u0442\\u043d\\u044b\\u0435 \\u043c\\u0435\\u0442\\u0430\\u043b\\u043b\\u044b\",\"\\u041f\\u043e\\u0440\\u043e\\u0448\\u043a\\u043e\\u0432\\u044b\\u0435 \\u0446\\u0432\\u0435\\u0442\\u043d\\u044b\\u0435 \\u043c\\u0435\\u0442\\u0430\\u043b\\u043b\\u044b\",\"\\u041f\\u043e\\u0440\\u043e\\u0448\\u043a\\u043e\\u0432\\u044b\\u0435 \\u0446\\u0432\\u0435\\u0442\\u043d\\u044b\\u0435 \\u043c\\u0435\\u0442\\u0430\\u043b\\u043b\\u044b\",\"\\u041f\\u043e\\u0440\\u043e\\u0448\\u043a\\u043e\\u0432\\u044b\\u0435 \\u0446\\u0432\\u0435\\u0442\\u043d\\u044b\\u0435 \\u043c\\u0435\\u0442\\u0430\\u043b\\u043b\\u044b\",\"\\u041f\\u043e\\u0440\\u043e\\u0448\\u043a\\u043e\\u0432\\u044b\\u0435 \\u0446\\u0432\\u0435\\u0442\\u043d\\u044b\\u0435 \\u043c\\u0435\\u0442\\u0430\\u043b\\u043b\\u044b\",\"\\u041f\\u043e\\u0440\\u043e\\u0448\\u043a\\u043e\\u0432\\u044b\\u0435 \\u0446\\u0432\\u0435\\u0442\\u043d\\u044b\\u0435 \\u043c\\u0435\\u0442\\u0430\\u043b\\u043b\\u044b\",\"\\u041f\\u043e\\u0440\\u043e\\u0448\\u043a\\u043e\\u0432\\u044b\\u0435 \\u0446\\u0432\\u0435\\u0442\\u043d\\u044b\\u0435 \\u043c\\u0435\\u0442\\u0430\\u043b\\u043b\\u044b\",\"\\u041f\\u043e\\u0440\\u043e\\u0448\\u043a\\u043e\\u0432\\u044b\\u0435 \\u0446\\u0432\\u0435\\u0442\\u043d\\u044b\\u0435 \\u043c\\u0435\\u0442\\u0430\\u043b\\u043b\\u044b\",\"\\u041f\\u043e\\u0440\\u043e\\u0448\\u043a\\u043e\\u0432\\u044b\\u0435 \\u0446\\u0432\\u0435\\u0442\\u043d\\u044b\\u0435 \\u043c\\u0435\\u0442\\u0430\\u043b\\u043b\\u044b\",\"\\u041f\\u043e\\u0440\\u043e\\u0448\\u043a\\u043e\\u0432\\u044b\\u0435 \\u0446\\u0432\\u0435\\u0442\\u043d\\u044b\\u0435 \\u043c\\u0435\\u0442\\u0430\\u043b\\u043b\\u044b\",\"\\u041f\\u043e\\u0440\\u043e\\u0448\\u043a\\u043e\\u0432\\u044b\\u0435 \\u0446\\u0432\\u0435\\u0442\\u043d\\u044b\\u0435 \\u043c\\u0435\\u0442\\u0430\\u043b\\u043b\\u044b\",\"\\u041f\\u043e\\u0440\\u043e\\u0448\\u043a\\u043e\\u0432\\u044b\\u0435 \\u0446\\u0432\\u0435\\u0442\\u043d\\u044b\\u0435 \\u043c\\u0435\\u0442\\u0430\\u043b\\u043b\\u044b\",\"\\u041f\\u043e\\u0440\\u043e\\u0448\\u043a\\u043e\\u0432\\u044b\\u0435 \\u0446\\u0432\\u0435\\u0442\\u043d\\u044b\\u0435 \\u043c\\u0435\\u0442\\u0430\\u043b\\u043b\\u044b\",\"\\u041f\\u043e\\u0440\\u043e\\u0448\\u043a\\u043e\\u0432\\u044b\\u0435 \\u0446\\u0432\\u0435\\u0442\\u043d\\u044b\\u0435 \\u043c\\u0435\\u0442\\u0430\\u043b\\u043b\\u044b\",\"\\u041f\\u043e\\u0440\\u043e\\u0448\\u043a\\u043e\\u0432\\u044b\\u0435 \\u0446\\u0432\\u0435\\u0442\\u043d\\u044b\\u0435 \\u043c\\u0435\\u0442\\u0430\\u043b\\u043b\\u044b\",\"\\u041f\\u043e\\u0440\\u043e\\u0448\\u043a\\u043e\\u0432\\u044b\\u0435 \\u0446\\u0432\\u0435\\u0442\\u043d\\u044b\\u0435 \\u043c\\u0435\\u0442\\u0430\\u043b\\u043b\\u044b\",\"\\u041f\\u043e\\u0440\\u043e\\u0448\\u043a\\u043e\\u0432\\u044b\\u0435 \\u0446\\u0432\\u0435\\u0442\\u043d\\u044b\\u0435 \\u043c\\u0435\\u0442\\u0430\\u043b\\u043b\\u044b\",\"\\u041f\\u043e\\u0440\\u043e\\u0448\\u043a\\u043e\\u0432\\u044b\\u0435 \\u0446\\u0432\\u0435\\u0442\\u043d\\u044b\\u0435 \\u043c\\u0435\\u0442\\u0430\\u043b\\u043b\\u044b\",\"\\u041f\\u043e\\u0440\\u043e\\u0448\\u043a\\u043e\\u0432\\u044b\\u0435 \\u0446\\u0432\\u0435\\u0442\\u043d\\u044b\\u0435 \\u043c\\u0435\\u0442\\u0430\\u043b\\u043b\\u044b\",\"\\u041f\\u043e\\u0440\\u043e\\u0448\\u043a\\u043e\\u0432\\u044b\\u0435 \\u0446\\u0432\\u0435\\u0442\\u043d\\u044b\\u0435 \\u043c\\u0435\\u0442\\u0430\\u043b\\u043b\\u044b\",\"\\u041f\\u043e\\u0440\\u043e\\u0448\\u043a\\u043e\\u0432\\u044b\\u0435 \\u0446\\u0432\\u0435\\u0442\\u043d\\u044b\\u0435 \\u043c\\u0435\\u0442\\u0430\\u043b\\u043b\\u044b\",\"\\u041f\\u043e\\u0440\\u043e\\u0448\\u043a\\u043e\\u0432\\u044b\\u0435 \\u0446\\u0432\\u0435\\u0442\\u043d\\u044b\\u0435 \\u043c\\u0435\\u0442\\u0430\\u043b\\u043b\\u044b\",\"\\u041f\\u043e\\u0440\\u043e\\u0448\\u043a\\u043e\\u0432\\u044b\\u0435 \\u0446\\u0432\\u0435\\u0442\\u043d\\u044b\\u0435 \\u043c\\u0435\\u0442\\u0430\\u043b\\u043b\\u044b\",\"\\u041f\\u043e\\u0440\\u043e\\u0448\\u043a\\u043e\\u0432\\u044b\\u0435 \\u0446\\u0432\\u0435\\u0442\\u043d\\u044b\\u0435 \\u043c\\u0435\\u0442\\u0430\\u043b\\u043b\\u044b\",\"\\u041f\\u043e\\u0440\\u043e\\u0448\\u043a\\u043e\\u0432\\u044b\\u0435 \\u0446\\u0432\\u0435\\u0442\\u043d\\u044b\\u0435 \\u043c\\u0435\\u0442\\u0430\\u043b\\u043b\\u044b\",\"\\u041f\\u043e\\u0440\\u043e\\u0448\\u043a\\u043e\\u0432\\u044b\\u0435 \\u0446\\u0432\\u0435\\u0442\\u043d\\u044b\\u0435 \\u043c\\u0435\\u0442\\u0430\\u043b\\u043b\\u044b\",\"\\u041f\\u043e\\u0440\\u043e\\u0448\\u043a\\u043e\\u0432\\u044b\\u0435 \\u0446\\u0432\\u0435\\u0442\\u043d\\u044b\\u0435 \\u043c\\u0435\\u0442\\u0430\\u043b\\u043b\\u044b\",\"\\u041f\\u043e\\u0440\\u043e\\u0448\\u043a\\u043e\\u0432\\u044b\\u0435 \\u0446\\u0432\\u0435\\u0442\\u043d\\u044b\\u0435 \\u043c\\u0435\\u0442\\u0430\\u043b\\u043b\\u044b\",\"\\u041f\\u043e\\u0440\\u043e\\u0448\\u043a\\u043e\\u0432\\u044b\\u0435 \\u0446\\u0432\\u0435\\u0442\\u043d\\u044b\\u0435 \\u043c\\u0435\\u0442\\u0430\\u043b\\u043b\\u044b\",\"\\u041f\\u043e\\u0440\\u043e\\u0448\\u043a\\u043e\\u0432\\u044b\\u0435 \\u0446\\u0432\\u0435\\u0442\\u043d\\u044b\\u0435 \\u043c\\u0435\\u0442\\u0430\\u043b\\u043b\\u044b\",\"\\u041f\\u043e\\u0440\\u043e\\u0448\\u043a\\u043e\\u0432\\u044b\\u0435 \\u0446\\u0432\\u0435\\u0442\\u043d\\u044b\\u0435 \\u043c\\u0435\\u0442\\u0430\\u043b\\u043b\\u044b\",\"\\u041f\\u043e\\u0440\\u043e\\u0448\\u043a\\u043e\\u0432\\u044b\\u0435 \\u0446\\u0432\\u0435\\u0442\\u043d\\u044b\\u0435 \\u043c\\u0435\\u0442\\u0430\\u043b\\u043b\\u044b\",\"\\u041f\\u043e\\u0440\\u043e\\u0448\\u043a\\u043e\\u0432\\u044b\\u0435 \\u0446\\u0432\\u0435\\u0442\\u043d\\u044b\\u0435 \\u043c\\u0435\\u0442\\u0430\\u043b\\u043b\\u044b\",\"\\u041f\\u043e\\u0440\\u043e\\u0448\\u043a\\u043e\\u0432\\u044b\\u0435 \\u0446\\u0432\\u0435\\u0442\\u043d\\u044b\\u0435 \\u043c\\u0435\\u0442\\u0430\\u043b\\u043b\\u044b\",\"\\u041f\\u043e\\u0440\\u043e\\u0448\\u043a\\u043e\\u0432\\u044b\\u0435 \\u0446\\u0432\\u0435\\u0442\\u043d\\u044b\\u0435 \\u043c\\u0435\\u0442\\u0430\\u043b\\u043b\\u044b\",\"\\u041f\\u043e\\u0440\\u043e\\u0448\\u043a\\u043e\\u0432\\u044b\\u0435 \\u0446\\u0432\\u0435\\u0442\\u043d\\u044b\\u0435 \\u043c\\u0435\\u0442\\u0430\\u043b\\u043b\\u044b\",\"\\u041f\\u043e\\u0440\\u043e\\u0448\\u043a\\u043e\\u0432\\u044b\\u0435 \\u0446\\u0432\\u0435\\u0442\\u043d\\u044b\\u0435 \\u043c\\u0435\\u0442\\u0430\\u043b\\u043b\\u044b\",\"\\u041f\\u043e\\u0440\\u043e\\u0448\\u043a\\u043e\\u0432\\u044b\\u0435 \\u0446\\u0432\\u0435\\u0442\\u043d\\u044b\\u0435 \\u043c\\u0435\\u0442\\u0430\\u043b\\u043b\\u044b\",\"\\u041f\\u043e\\u0440\\u043e\\u0448\\u043a\\u043e\\u0432\\u044b\\u0435 \\u0446\\u0432\\u0435\\u0442\\u043d\\u044b\\u0435 \\u043c\\u0435\\u0442\\u0430\\u043b\\u043b\\u044b\",\"\\u041f\\u043e\\u0440\\u043e\\u0448\\u043a\\u043e\\u0432\\u044b\\u0435 \\u0446\\u0432\\u0435\\u0442\\u043d\\u044b\\u0435 \\u043c\\u0435\\u0442\\u0430\\u043b\\u043b\\u044b\",\"\\u041f\\u043e\\u0440\\u043e\\u0448\\u043a\\u043e\\u0432\\u044b\\u0435 \\u0446\\u0432\\u0435\\u0442\\u043d\\u044b\\u0435 \\u043c\\u0435\\u0442\\u0430\\u043b\\u043b\\u044b\",\"\\u041f\\u043e\\u0440\\u043e\\u0448\\u043a\\u043e\\u0432\\u044b\\u0435 \\u0446\\u0432\\u0435\\u0442\\u043d\\u044b\\u0435 \\u043c\\u0435\\u0442\\u0430\\u043b\\u043b\\u044b\",\"\\u041f\\u043e\\u0440\\u043e\\u0448\\u043a\\u043e\\u0432\\u044b\\u0435 \\u0446\\u0432\\u0435\\u0442\\u043d\\u044b\\u0435 \\u043c\\u0435\\u0442\\u0430\\u043b\\u043b\\u044b\",\"\\u041f\\u043e\\u0440\\u043e\\u0448\\u043a\\u043e\\u0432\\u044b\\u0435 \\u0446\\u0432\\u0435\\u0442\\u043d\\u044b\\u0435 \\u043c\\u0435\\u0442\\u0430\\u043b\\u043b\\u044b\",\"\\u041f\\u043e\\u0440\\u043e\\u0448\\u043a\\u043e\\u0432\\u044b\\u0435 \\u0446\\u0432\\u0435\\u0442\\u043d\\u044b\\u0435 \\u043c\\u0435\\u0442\\u0430\\u043b\\u043b\\u044b\",\"\\u041f\\u043e\\u0440\\u043e\\u0448\\u043a\\u043e\\u0432\\u044b\\u0435 \\u0446\\u0432\\u0435\\u0442\\u043d\\u044b\\u0435 \\u043c\\u0435\\u0442\\u0430\\u043b\\u043b\\u044b\",\"\\u041f\\u043e\\u0440\\u043e\\u0448\\u043a\\u043e\\u0432\\u044b\\u0435 \\u0446\\u0432\\u0435\\u0442\\u043d\\u044b\\u0435 \\u043c\\u0435\\u0442\\u0430\\u043b\\u043b\\u044b\",\"\\u041f\\u043e\\u0440\\u043e\\u0448\\u043a\\u043e\\u0432\\u044b\\u0435 \\u0446\\u0432\\u0435\\u0442\\u043d\\u044b\\u0435 \\u043c\\u0435\\u0442\\u0430\\u043b\\u043b\\u044b\",\"\\u041f\\u043e\\u0440\\u043e\\u0448\\u043a\\u043e\\u0432\\u044b\\u0435 \\u0446\\u0432\\u0435\\u0442\\u043d\\u044b\\u0435 \\u043c\\u0435\\u0442\\u0430\\u043b\\u043b\\u044b\",\"\\u041f\\u043e\\u0440\\u043e\\u0448\\u043a\\u043e\\u0432\\u044b\\u0435 \\u0446\\u0432\\u0435\\u0442\\u043d\\u044b\\u0435 \\u043c\\u0435\\u0442\\u0430\\u043b\\u043b\\u044b\",\"\\u041f\\u043e\\u0440\\u043e\\u0448\\u043a\\u043e\\u0432\\u044b\\u0435 \\u0446\\u0432\\u0435\\u0442\\u043d\\u044b\\u0435 \\u043c\\u0435\\u0442\\u0430\\u043b\\u043b\\u044b\",\"\\u041f\\u043e\\u0440\\u043e\\u0448\\u043a\\u043e\\u0432\\u044b\\u0435 \\u0446\\u0432\\u0435\\u0442\\u043d\\u044b\\u0435 \\u043c\\u0435\\u0442\\u0430\\u043b\\u043b\\u044b\",\"\\u041f\\u043e\\u0440\\u043e\\u0448\\u043a\\u043e\\u0432\\u044b\\u0435 \\u0446\\u0432\\u0435\\u0442\\u043d\\u044b\\u0435 \\u043c\\u0435\\u0442\\u0430\\u043b\\u043b\\u044b\",\"\\u041f\\u043e\\u0440\\u043e\\u0448\\u043a\\u043e\\u0432\\u044b\\u0435 \\u0446\\u0432\\u0435\\u0442\\u043d\\u044b\\u0435 \\u043c\\u0435\\u0442\\u0430\\u043b\\u043b\\u044b\",\"\\u041f\\u043e\\u0440\\u043e\\u0448\\u043a\\u043e\\u0432\\u044b\\u0435 \\u0446\\u0432\\u0435\\u0442\\u043d\\u044b\\u0435 \\u043c\\u0435\\u0442\\u0430\\u043b\\u043b\\u044b\",\"\\u043a\\u0435\\u0440\\u043c\\u0435\\u0442 \\u043d\\u0430 \\u043e\\u0441\\u043d\\u043e\\u0432\\u0435 \\u043a\\u0430\\u0440\\u0431\\u0438\\u0434\\u0430 \\u0442\\u0438\\u0442\\u0430\\u043d\\u0430\",\"\\u043a\\u0435\\u0440\\u043c\\u0435\\u0442 \\u043d\\u0430 \\u043e\\u0441\\u043d\\u043e\\u0432\\u0435 \\u043a\\u0430\\u0440\\u0431\\u0438\\u0434\\u0430 \\u0442\\u0438\\u0442\\u0430\\u043d\\u0430\",\"\\u043a\\u0435\\u0440\\u043c\\u0435\\u0442 \\u043d\\u0430 \\u043e\\u0441\\u043d\\u043e\\u0432\\u0435 \\u043a\\u0430\\u0440\\u0431\\u0438\\u0434\\u0430 \\u0442\\u0438\\u0442\\u0430\\u043d\\u0430\",\"\\u043a\\u0435\\u0440\\u043c\\u0435\\u0442 \\u043d\\u0430 \\u043e\\u0441\\u043d\\u043e\\u0432\\u0435 \\u043a\\u0430\\u0440\\u0431\\u0438\\u0434\\u0430 \\u0442\\u0438\\u0442\\u0430\\u043d\\u0430\",\"\\u043a\\u0435\\u0440\\u043c\\u0435\\u0442 \\u043d\\u0430 \\u043e\\u0441\\u043d\\u043e\\u0432\\u0435 \\u043a\\u0430\\u0440\\u0431\\u0438\\u0434\\u0430 \\u0442\\u0438\\u0442\\u0430\\u043d\\u0430\",\"\\u043a\\u0435\\u0440\\u043c\\u0435\\u0442 \\u043d\\u0430 \\u043e\\u0441\\u043d\\u043e\\u0432\\u0435 \\u043a\\u0430\\u0440\\u0431\\u0438\\u0434\\u0430 \\u0442\\u0438\\u0442\\u0430\\u043d\\u0430\",\"\\u043a\\u0435\\u0440\\u043c\\u0435\\u0442 \\u043d\\u0430 \\u043e\\u0441\\u043d\\u043e\\u0432\\u0435 \\u043a\\u0430\\u0440\\u0431\\u0438\\u0434\\u0430 \\u0442\\u0438\\u0442\\u0430\\u043d\\u0430\",\"\\u043a\\u0435\\u0440\\u043c\\u0435\\u0442 \\u043d\\u0430 \\u043e\\u0441\\u043d\\u043e\\u0432\\u0435 \\u043a\\u0430\\u0440\\u0431\\u0438\\u0434\\u0430 \\u0442\\u0438\\u0442\\u0430\\u043d\\u0430\",\"\\u043a\\u0435\\u0440\\u043c\\u0435\\u0442 \\u043d\\u0430 \\u043e\\u0441\\u043d\\u043e\\u0432\\u0435 \\u043a\\u0430\\u0440\\u0431\\u0438\\u0434\\u0430 \\u0442\\u0438\\u0442\\u0430\\u043d\\u0430\",\"\\u043a\\u0435\\u0440\\u043c\\u0435\\u0442 \\u043d\\u0430 \\u043e\\u0441\\u043d\\u043e\\u0432\\u0435 \\u043a\\u0430\\u0440\\u0431\\u0438\\u0434\\u0430 \\u0442\\u0438\\u0442\\u0430\\u043d\\u0430\",\"\\u043a\\u0435\\u0440\\u043c\\u0435\\u0442 \\u043d\\u0430 \\u043e\\u0441\\u043d\\u043e\\u0432\\u0435 \\u043a\\u0430\\u0440\\u0431\\u0438\\u0434\\u0430 \\u0442\\u0438\\u0442\\u0430\\u043d\\u0430\",\"\\u043a\\u0435\\u0440\\u043c\\u0435\\u0442 \\u043d\\u0430 \\u043e\\u0441\\u043d\\u043e\\u0432\\u0435 \\u043a\\u0430\\u0440\\u0431\\u0438\\u0434\\u0430 \\u0442\\u0438\\u0442\\u0430\\u043d\\u0430\",\"\\u043a\\u0435\\u0440\\u043c\\u0435\\u0442 \\u043d\\u0430 \\u043e\\u0441\\u043d\\u043e\\u0432\\u0435 \\u043a\\u0430\\u0440\\u0431\\u0438\\u0434\\u0430 \\u0442\\u0438\\u0442\\u0430\\u043d\\u0430\",\"\\u043f\\u043e\\u0440\\u043e\\u0448\\u043a\\u043e\\u0432\\u044b\\u0439 \\u043c\\u0430\\u0433\\u043d\\u0438\\u0442 \\u0430\\u043b\\u044c\\u043d\\u0438\\u043a\\u043e\",\"\\u043f\\u043e\\u0440\\u043e\\u0448\\u043a\\u043e\\u0432\\u044b\\u0439 \\u043c\\u0430\\u0433\\u043d\\u0438\\u0442 \\u0430\\u043b\\u044c\\u043d\\u0438\\u043a\\u043e\",\"\\u043f\\u043e\\u0440\\u043e\\u0448\\u043a\\u043e\\u0432\\u044b\\u0439 \\u043c\\u0430\\u0433\\u043d\\u0438\\u0442 \\u0430\\u043b\\u044c\\u043d\\u0438\\u043a\\u043e\",\"\\u043f\\u043e\\u0440\\u043e\\u0448\\u043a\\u043e\\u0432\\u044b\\u0439 \\u043c\\u0430\\u0433\\u043d\\u0438\\u0442 \\u0430\\u043b\\u044c\\u043d\\u0438\\u043a\\u043e\",\"\\u043f\\u043e\\u0440\\u043e\\u0448\\u043a\\u043e\\u0432\\u044b\\u0439 \\u043c\\u0430\\u0433\\u043d\\u0438\\u0442 \\u0430\\u043b\\u044c\\u043d\\u0438\\u043a\\u043e\",\"\\u043f\\u043e\\u0440\\u043e\\u0448\\u043a\\u043e\\u0432\\u044b\\u0439 \\u043c\\u0430\\u0433\\u043d\\u0438\\u0442 \\u0430\\u043b\\u044c\\u043d\\u0438\\u043a\\u043e\",\"\\u043f\\u043e\\u0440\\u043e\\u0448\\u043a\\u043e\\u0432\\u044b\\u0439 \\u043c\\u0430\\u0433\\u043d\\u0438\\u0442 \\u0430\\u043b\\u044c\\u043d\\u0438\\u043a\\u043e\",\"\\u043f\\u043e\\u0440\\u043e\\u0448\\u043a\\u043e\\u0432\\u044b\\u0439 \\u043c\\u0430\\u0433\\u043d\\u0438\\u0442 \\u0430\\u043b\\u044c\\u043d\\u0438\\u043a\\u043e\",\"\\u043f\\u043e\\u0440\\u043e\\u0448\\u043a\\u043e\\u0432\\u044b\\u0439 \\u043c\\u0430\\u0433\\u043d\\u0438\\u0442 \\u0430\\u043b\\u044c\\u043d\\u0438\\u043a\\u043e\",\"\\u043f\\u043e\\u0440\\u043e\\u0448\\u043a\\u043e\\u0432\\u044b\\u0439 \\u043c\\u0430\\u0433\\u043d\\u0438\\u0442 \\u0430\\u043b\\u044c\\u043d\\u0438\\u043a\\u043e\",\"\\u043f\\u043e\\u0440\\u043e\\u0448\\u043a\\u043e\\u0432\\u044b\\u0439 \\u043c\\u0430\\u0433\\u043d\\u0438\\u0442 \\u0430\\u043b\\u044c\\u043d\\u0438\\u043a\\u043e\",\"\\u043c\\u0430\\u0433\\u043d\\u0438\\u0442\\u043e\\u0434\\u0438\\u044d\\u043b\\u0435\\u043a\\u0442\\u0440\\u0438\\u043a \\u043d\\u0430 \\u043e\\u0441\\u043d\\u043e\\u0432\\u0435 \\u043a\\u0430\\u0440\\u0431\\u043e\\u043d\\u0438\\u043b\\u044c\\u043d\\u043e\\u0433\\u043e \\u0436\\u0435\\u043b\\u0435\\u0437\\u0430\",\"\\u043c\\u0430\\u0433\\u043d\\u0438\\u0442\\u043e\\u0434\\u0438\\u044d\\u043b\\u0435\\u043a\\u0442\\u0440\\u0438\\u043a \\u043d\\u0430 \\u043e\\u0441\\u043d\\u043e\\u0432\\u0435 \\u043a\\u0430\\u0440\\u0431\\u043e\\u043d\\u0438\\u043b\\u044c\\u043d\\u043e\\u0433\\u043e \\u0436\\u0435\\u043b\\u0435\\u0437\\u0430\",\"\\u043c\\u0430\\u0433\\u043d\\u0438\\u0442\\u043e\\u0434\\u0438\\u044d\\u043b\\u0435\\u043a\\u0442\\u0440\\u0438\\u043a \\u043d\\u0430 \\u043e\\u0441\\u043d\\u043e\\u0432\\u0435 \\u043a\\u0430\\u0440\\u0431\\u043e\\u043d\\u0438\\u043b\\u044c\\u043d\\u043e\\u0433\\u043e \\u0436\\u0435\\u043b\\u0435\\u0437\\u0430\",\"\\u043c\\u0430\\u0433\\u043d\\u0438\\u0442\\u043e\\u0434\\u0438\\u044d\\u043b\\u0435\\u043a\\u0442\\u0440\\u0438\\u043a \\u043d\\u0430 \\u043e\\u0441\\u043d\\u043e\\u0432\\u0435 \\u043a\\u0430\\u0440\\u0431\\u043e\\u043d\\u0438\\u043b\\u044c\\u043d\\u043e\\u0433\\u043e \\u0436\\u0435\\u043b\\u0435\\u0437\\u0430\",\"\\u043c\\u0430\\u0433\\u043d\\u0438\\u0442\\u043e\\u0434\\u0438\\u044d\\u043b\\u0435\\u043a\\u0442\\u0440\\u0438\\u043a \\u043d\\u0430 \\u043e\\u0441\\u043d\\u043e\\u0432\\u0435 \\u043a\\u0430\\u0440\\u0431\\u043e\\u043d\\u0438\\u043b\\u044c\\u043d\\u043e\\u0433\\u043e \\u0436\\u0435\\u043b\\u0435\\u0437\\u0430\",\"\\u043c\\u0430\\u0433\\u043d\\u0438\\u0442\\u043e\\u0434\\u0438\\u044d\\u043b\\u0435\\u043a\\u0442\\u0440\\u0438\\u043a \\u043d\\u0430 \\u043e\\u0441\\u043d\\u043e\\u0432\\u0435 \\u043a\\u0430\\u0440\\u0431\\u043e\\u043d\\u0438\\u043b\\u044c\\u043d\\u043e\\u0433\\u043e \\u0436\\u0435\\u043b\\u0435\\u0437\\u0430\",\"\\u043c\\u0430\\u0433\\u043d\\u0438\\u0442\\u043e\\u0434\\u0438\\u044d\\u043b\\u0435\\u043a\\u0442\\u0440\\u0438\\u043a \\u043d\\u0430 \\u043e\\u0441\\u043d\\u043e\\u0432\\u0435 \\u043a\\u0430\\u0440\\u0431\\u043e\\u043d\\u0438\\u043b\\u044c\\u043d\\u043e\\u0433\\u043e \\u0436\\u0435\\u043b\\u0435\\u0437\\u0430\",\"\\u043c\\u0430\\u0433\\u043d\\u0438\\u0442\\u043e\\u0434\\u0438\\u044d\\u043b\\u0435\\u043a\\u0442\\u0440\\u0438\\u043a \\u043d\\u0430 \\u043e\\u0441\\u043d\\u043e\\u0432\\u0435 \\u043a\\u0430\\u0440\\u0431\\u043e\\u043d\\u0438\\u043b\\u044c\\u043d\\u043e\\u0433\\u043e \\u0436\\u0435\\u043b\\u0435\\u0437\\u0430\",\"\\u043c\\u0430\\u0433\\u043d\\u0438\\u0442\\u043e\\u0434\\u0438\\u044d\\u043b\\u0435\\u043a\\u0442\\u0440\\u0438\\u043a \\u043d\\u0430 \\u043e\\u0441\\u043d\\u043e\\u0432\\u0435 \\u043a\\u0430\\u0440\\u0431\\u043e\\u043d\\u0438\\u043b\\u044c\\u043d\\u043e\\u0433\\u043e \\u0436\\u0435\\u043b\\u0435\\u0437\\u0430\",\"\\u043c\\u0430\\u0433\\u043d\\u0438\\u0442\\u043e\\u0434\\u0438\\u044d\\u043b\\u0435\\u043a\\u0442\\u0440\\u0438\\u043a \\u043d\\u0430 \\u043e\\u0441\\u043d\\u043e\\u0432\\u0435 \\u043a\\u0430\\u0440\\u0431\\u043e\\u043d\\u0438\\u043b\\u044c\\u043d\\u043e\\u0433\\u043e \\u0436\\u0435\\u043b\\u0435\\u0437\\u0430\",\"\\u043c\\u0430\\u0433\\u043d\\u0438\\u0442\\u043e\\u0434\\u0438\\u044d\\u043b\\u0435\\u043a\\u0442\\u0440\\u0438\\u043a \\u043d\\u0430 \\u043e\\u0441\\u043d\\u043e\\u0432\\u0435 \\u043a\\u0430\\u0440\\u0431\\u043e\\u043d\\u0438\\u043b\\u044c\\u043d\\u043e\\u0433\\u043e \\u0436\\u0435\\u043b\\u0435\\u0437\\u0430\",\"\\u043c\\u0430\\u0433\\u043d\\u0438\\u0442\\u043e\\u0434\\u0438\\u044d\\u043b\\u0435\\u043a\\u0442\\u0440\\u0438\\u043a \\u043d\\u0430 \\u043e\\u0441\\u043d\\u043e\\u0432\\u0435 \\u043a\\u0430\\u0440\\u0431\\u043e\\u043d\\u0438\\u043b\\u044c\\u043d\\u043e\\u0433\\u043e \\u0436\\u0435\\u043b\\u0435\\u0437\\u0430\",\"\\u043c\\u0430\\u0433\\u043d\\u0438\\u0442\\u043e\\u0434\\u0438\\u044d\\u043b\\u0435\\u043a\\u0442\\u0440\\u0438\\u043a \\u043d\\u0430 \\u043e\\u0441\\u043d\\u043e\\u0432\\u0435 \\u043a\\u0430\\u0440\\u0431\\u043e\\u043d\\u0438\\u043b\\u044c\\u043d\\u043e\\u0433\\u043e \\u0436\\u0435\\u043b\\u0435\\u0437\\u0430\",\"\\u0433\\u0440\\u0430\\u0444\\u0438\\u0442\\u0438\\u0437\\u0438\\u0440\\u043e\\u0432\\u0430\\u043d\\u043d\\u044b\\u0439 \\u0430\\u043b\\u044e\\u043c\\u0438\\u043d\\u0438\\u0435\\u0432\\u044b\\u0439 \\u0441\\u043f\\u043b\\u0430\\u0432\",\"\\u0433\\u0440\\u0430\\u0444\\u0438\\u0442\\u0438\\u0437\\u0438\\u0440\\u043e\\u0432\\u0430\\u043d\\u043d\\u044b\\u0439 \\u0430\\u043b\\u044e\\u043c\\u0438\\u043d\\u0438\\u0435\\u0432\\u044b\\u0439 \\u0441\\u043f\\u043b\\u0430\\u0432\",\"\\u00a0\\u0430\\u043d\\u0442\\u0438\\u0444\\u0440\\u0438\\u043a\\u0446\\u0438\\u043e\\u043d\\u043d\\u044b\\u0439 \\u043c\\u0430\\u0442\\u0435\\u0440\\u0438\\u0430\\u043b\",\"\\u00a0\\u0430\\u043d\\u0442\\u0438\\u0444\\u0440\\u0438\\u043a\\u0446\\u0438\\u043e\\u043d\\u043d\\u044b\\u0439 \\u043c\\u0430\\u0442\\u0435\\u0440\\u0438\\u0430\\u043b\",\"\\u00a0\\u0430\\u043d\\u0442\\u0438\\u0444\\u0440\\u0438\\u043a\\u0446\\u0438\\u043e\\u043d\\u043d\\u044b\\u0439 \\u043c\\u0430\\u0442\\u0435\\u0440\\u0438\\u0430\\u043b\",\"\\u00a0\\u0430\\u043d\\u0442\\u0438\\u0444\\u0440\\u0438\\u043a\\u0446\\u0438\\u043e\\u043d\\u043d\\u044b\\u0439 \\u043c\\u0430\\u0442\\u0435\\u0440\\u0438\\u0430\\u043b\",\"\\u00a0\\u0430\\u043d\\u0442\\u0438\\u0444\\u0440\\u0438\\u043a\\u0446\\u0438\\u043e\\u043d\\u043d\\u044b\\u0439 \\u043c\\u0430\\u0442\\u0435\\u0440\\u0438\\u0430\\u043b\",\"\\u00a0\\u0430\\u043d\\u0442\\u0438\\u0444\\u0440\\u0438\\u043a\\u0446\\u0438\\u043e\\u043d\\u043d\\u044b\\u0439 \\u043c\\u0430\\u0442\\u0435\\u0440\\u0438\\u0430\\u043b\",\"\\u00a0\\u0430\\u043d\\u0442\\u0438\\u0444\\u0440\\u0438\\u043a\\u0446\\u0438\\u043e\\u043d\\u043d\\u044b\\u0439 \\u043c\\u0430\\u0442\\u0435\\u0440\\u0438\\u0430\\u043b\",\"\\u00a0\\u0430\\u043d\\u0442\\u0438\\u0444\\u0440\\u0438\\u043a\\u0446\\u0438\\u043e\\u043d\\u043d\\u044b\\u0439 \\u043c\\u0430\\u0442\\u0435\\u0440\\u0438\\u0430\\u043b\",\"\\u00a0\\u0430\\u043d\\u0442\\u0438\\u0444\\u0440\\u0438\\u043a\\u0446\\u0438\\u043e\\u043d\\u043d\\u044b\\u0439 \\u043c\\u0430\\u0442\\u0435\\u0440\\u0438\\u0430\\u043b\",\"\\u00a0\\u0430\\u043d\\u0442\\u0438\\u0444\\u0440\\u0438\\u043a\\u0446\\u0438\\u043e\\u043d\\u043d\\u044b\\u0439 \\u043c\\u0430\\u0442\\u0435\\u0440\\u0438\\u0430\\u043b\",\"\\u00a0\\u0430\\u043d\\u0442\\u0438\\u0444\\u0440\\u0438\\u043a\\u0446\\u0438\\u043e\\u043d\\u043d\\u044b\\u0439 \\u043c\\u0430\\u0442\\u0435\\u0440\\u0438\\u0430\\u043b\",\"\\u00a0\\u0430\\u043d\\u0442\\u0438\\u0444\\u0440\\u0438\\u043a\\u0446\\u0438\\u043e\\u043d\\u043d\\u044b\\u0439 \\u043c\\u0430\\u0442\\u0435\\u0440\\u0438\\u0430\\u043b\",\"\\u00a0\\u0430\\u043d\\u0442\\u0438\\u0444\\u0440\\u0438\\u043a\\u0446\\u0438\\u043e\\u043d\\u043d\\u044b\\u0439 \\u043c\\u0430\\u0442\\u0435\\u0440\\u0438\\u0430\\u043b\",\"\\u00a0\\u0430\\u043d\\u0442\\u0438\\u0444\\u0440\\u0438\\u043a\\u0446\\u0438\\u043e\\u043d\\u043d\\u044b\\u0439 \\u043c\\u0430\\u0442\\u0435\\u0440\\u0438\\u0430\\u043b\",\"\\u00a0\\u0430\\u043d\\u0442\\u0438\\u0444\\u0440\\u0438\\u043a\\u0446\\u0438\\u043e\\u043d\\u043d\\u044b\\u0439 \\u043c\\u0430\\u0442\\u0435\\u0440\\u0438\\u0430\\u043b\",\"\\u00a0\\u0430\\u043d\\u0442\\u0438\\u0444\\u0440\\u0438\\u043a\\u0446\\u0438\\u043e\\u043d\\u043d\\u044b\\u0439 \\u043c\\u0430\\u0442\\u0435\\u0440\\u0438\\u0430\\u043b\",\"\\u00a0\\u0430\\u043d\\u0442\\u0438\\u0444\\u0440\\u0438\\u043a\\u0446\\u0438\\u043e\\u043d\\u043d\\u044b\\u0439 \\u043c\\u0430\\u0442\\u0435\\u0440\\u0438\\u0430\\u043b\",\"\\u00a0\\u0430\\u043d\\u0442\\u0438\\u0444\\u0440\\u0438\\u043a\\u0446\\u0438\\u043e\\u043d\\u043d\\u044b\\u0439 \\u043c\\u0430\\u0442\\u0435\\u0440\\u0438\\u0430\\u043b\",\"\\u00a0\\u0430\\u043d\\u0442\\u0438\\u0444\\u0440\\u0438\\u043a\\u0446\\u0438\\u043e\\u043d\\u043d\\u044b\\u0439 \\u043c\\u0430\\u0442\\u0435\\u0440\\u0438\\u0430\\u043b\",\"\\u00a0\\u0430\\u043d\\u0442\\u0438\\u0444\\u0440\\u0438\\u043a\\u0446\\u0438\\u043e\\u043d\\u043d\\u044b\\u0439 \\u043c\\u0430\\u0442\\u0435\\u0440\\u0438\\u0430\\u043b\",\"\\u00a0\\u0430\\u043d\\u0442\\u0438\\u0444\\u0440\\u0438\\u043a\\u0446\\u0438\\u043e\\u043d\\u043d\\u044b\\u0439 \\u043c\\u0430\\u0442\\u0435\\u0440\\u0438\\u0430\\u043b\",\"\\u00a0\\u0430\\u043d\\u0442\\u0438\\u0444\\u0440\\u0438\\u043a\\u0446\\u0438\\u043e\\u043d\\u043d\\u044b\\u0439 \\u043c\\u0430\\u0442\\u0435\\u0440\\u0438\\u0430\\u043b\",\"\\u00a0\\u0430\\u043d\\u0442\\u0438\\u0444\\u0440\\u0438\\u043a\\u0446\\u0438\\u043e\\u043d\\u043d\\u044b\\u0439 \\u043c\\u0430\\u0442\\u0435\\u0440\\u0438\\u0430\\u043b\",\"\\u00a0\\u0430\\u043d\\u0442\\u0438\\u0444\\u0440\\u0438\\u043a\\u0446\\u0438\\u043e\\u043d\\u043d\\u044b\\u0439 \\u043c\\u0430\\u0442\\u0435\\u0440\\u0438\\u0430\\u043b\",\"\\u00a0\\u0430\\u043d\\u0442\\u0438\\u0444\\u0440\\u0438\\u043a\\u0446\\u0438\\u043e\\u043d\\u043d\\u044b\\u0439 \\u043c\\u0430\\u0442\\u0435\\u0440\\u0438\\u0430\\u043b\",\"\\u00a0\\u0430\\u043d\\u0442\\u0438\\u0444\\u0440\\u0438\\u043a\\u0446\\u0438\\u043e\\u043d\\u043d\\u044b\\u0439 \\u043c\\u0430\\u0442\\u0435\\u0440\\u0438\\u0430\\u043b\",\"\\u00a0\\u0430\\u043d\\u0442\\u0438\\u0444\\u0440\\u0438\\u043a\\u0446\\u0438\\u043e\\u043d\\u043d\\u044b\\u0439 \\u043c\\u0430\\u0442\\u0435\\u0440\\u0438\\u0430\\u043b\",\"\\u00a0\\u0430\\u043d\\u0442\\u0438\\u0444\\u0440\\u0438\\u043a\\u0446\\u0438\\u043e\\u043d\\u043d\\u044b\\u0439 \\u043c\\u0430\\u0442\\u0435\\u0440\\u0438\\u0430\\u043b\",\"\\u00a0\\u0430\\u043d\\u0442\\u0438\\u0444\\u0440\\u0438\\u043a\\u0446\\u0438\\u043e\\u043d\\u043d\\u044b\\u0439 \\u043c\\u0430\\u0442\\u0435\\u0440\\u0438\\u0430\\u043b\",\"\\u041d\\u0435\\u0440\\u0436\\u0430\\u0432\\u0435\\u044e\\u0449\\u0430\\u044f \\u0441\\u0442\\u0430\\u043b\\u044c\",\"\\u041d\\u0435\\u0440\\u0436\\u0430\\u0432\\u0435\\u044e\\u0449\\u0430\\u044f \\u0441\\u0442\\u0430\\u043b\\u044c\",\"\\u041d\\u0435\\u0440\\u0436\\u0430\\u0432\\u0435\\u044e\\u0449\\u0430\\u044f \\u0441\\u0442\\u0430\\u043b\\u044c\",\"\\u041d\\u0435\\u0440\\u0436\\u0430\\u0432\\u0435\\u044e\\u0449\\u0430\\u044f \\u0441\\u0442\\u0430\\u043b\\u044c\",\"\\u041d\\u0435\\u0440\\u0436\\u0430\\u0432\\u0435\\u044e\\u0449\\u0430\\u044f \\u0441\\u0442\\u0430\\u043b\\u044c\",\"\\u041d\\u0435\\u0440\\u0436\\u0430\\u0432\\u0435\\u044e\\u0449\\u0430\\u044f \\u0441\\u0442\\u0430\\u043b\\u044c\",\"\\u041d\\u0435\\u0440\\u0436\\u0430\\u0432\\u0435\\u044e\\u0449\\u0430\\u044f \\u0441\\u0442\\u0430\\u043b\\u044c\",\"\\u041d\\u0435\\u0440\\u0436\\u0430\\u0432\\u0435\\u044e\\u0449\\u0430\\u044f \\u0441\\u0442\\u0430\\u043b\\u044c\",\"\\u041d\\u0435\\u0440\\u0436\\u0430\\u0432\\u0435\\u044e\\u0449\\u0430\\u044f \\u0441\\u0442\\u0430\\u043b\\u044c\",\"\\u041d\\u0435\\u0440\\u0436\\u0430\\u0432\\u0435\\u044e\\u0449\\u0430\\u044f \\u0441\\u0442\\u0430\\u043b\\u044c\",\"\\u041d\\u0435\\u0440\\u0436\\u0430\\u0432\\u0435\\u044e\\u0449\\u0430\\u044f \\u0441\\u0442\\u0430\\u043b\\u044c\",\"\\u041d\\u0435\\u0440\\u0436\\u0430\\u0432\\u0435\\u044e\\u0449\\u0430\\u044f \\u0441\\u0442\\u0430\\u043b\\u044c\",\"\\u041d\\u0435\\u0440\\u0436\\u0430\\u0432\\u0435\\u044e\\u0449\\u0430\\u044f \\u0441\\u0442\\u0430\\u043b\\u044c\",\"\\u041d\\u0435\\u0440\\u0436\\u0430\\u0432\\u0435\\u044e\\u0449\\u0430\\u044f \\u0441\\u0442\\u0430\\u043b\\u044c\",\"\\u041d\\u0435\\u0440\\u0436\\u0430\\u0432\\u0435\\u044e\\u0449\\u0430\\u044f \\u0441\\u0442\\u0430\\u043b\\u044c\",\"\\u041d\\u0435\\u0440\\u0436\\u0430\\u0432\\u0435\\u044e\\u0449\\u0430\\u044f \\u0441\\u0442\\u0430\\u043b\\u044c\",\"\\u041d\\u0435\\u0440\\u0436\\u0430\\u0432\\u0435\\u044e\\u0449\\u0430\\u044f \\u0441\\u0442\\u0430\\u043b\\u044c\",\"\\u041d\\u0435\\u0440\\u0436\\u0430\\u0432\\u0435\\u044e\\u0449\\u0430\\u044f \\u0441\\u0442\\u0430\\u043b\\u044c\",\"\\u041d\\u0435\\u0440\\u0436\\u0430\\u0432\\u0435\\u044e\\u0449\\u0430\\u044f \\u0441\\u0442\\u0430\\u043b\\u044c\",\"\\u041d\\u0435\\u0440\\u0436\\u0430\\u0432\\u0435\\u044e\\u0449\\u0430\\u044f \\u0441\\u0442\\u0430\\u043b\\u044c\",\"\\u041d\\u0435\\u0440\\u0436\\u0430\\u0432\\u0435\\u044e\\u0449\\u0430\\u044f \\u0441\\u0442\\u0430\\u043b\\u044c\",\"\\u041d\\u0435\\u0440\\u0436\\u0430\\u0432\\u0435\\u044e\\u0449\\u0430\\u044f \\u0441\\u0442\\u0430\\u043b\\u044c\",\"\\u041d\\u0435\\u0440\\u0436\\u0430\\u0432\\u0435\\u044e\\u0449\\u0430\\u044f \\u0441\\u0442\\u0430\\u043b\\u044c\",\"\\u041d\\u0435\\u0440\\u0436\\u0430\\u0432\\u0435\\u044e\\u0449\\u0430\\u044f \\u0441\\u0442\\u0430\\u043b\\u044c\",\"\\u041d\\u0435\\u0440\\u0436\\u0430\\u0432\\u0435\\u044e\\u0449\\u0430\\u044f \\u0441\\u0442\\u0430\\u043b\\u044c\",\"\\u041d\\u0435\\u0440\\u0436\\u0430\\u0432\\u0435\\u044e\\u0449\\u0430\\u044f \\u0441\\u0442\\u0430\\u043b\\u044c\",\"\\u041d\\u0435\\u0440\\u0436\\u0430\\u0432\\u0435\\u044e\\u0449\\u0430\\u044f \\u0441\\u0442\\u0430\\u043b\\u044c\",\"\\u041d\\u0435\\u0440\\u0436\\u0430\\u0432\\u0435\\u044e\\u0449\\u0430\\u044f \\u0441\\u0442\\u0430\\u043b\\u044c\",\"\\u041d\\u0435\\u0440\\u0436\\u0430\\u0432\\u0435\\u044e\\u0449\\u0430\\u044f \\u0441\\u0442\\u0430\\u043b\\u044c\",\"\\u041d\\u0435\\u0440\\u0436\\u0430\\u0432\\u0435\\u044e\\u0449\\u0430\\u044f \\u0441\\u0442\\u0430\\u043b\\u044c\",\"\\u041d\\u0435\\u0440\\u0436\\u0430\\u0432\\u0435\\u044e\\u0449\\u0430\\u044f \\u0441\\u0442\\u0430\\u043b\\u044c\",\"\\u041d\\u0435\\u0440\\u0436\\u0430\\u0432\\u0435\\u044e\\u0449\\u0430\\u044f \\u0441\\u0442\\u0430\\u043b\\u044c\",\"\\u041d\\u0435\\u0440\\u0436\\u0430\\u0432\\u0435\\u044e\\u0449\\u0430\\u044f \\u0441\\u0442\\u0430\\u043b\\u044c\",\"\\u041d\\u0435\\u0440\\u0436\\u0430\\u0432\\u0435\\u044e\\u0449\\u0430\\u044f \\u0441\\u0442\\u0430\\u043b\\u044c\",\"\\u041d\\u0435\\u0440\\u0436\\u0430\\u0432\\u0435\\u044e\\u0449\\u0430\\u044f \\u0441\\u0442\\u0430\\u043b\\u044c\",\"\\u041d\\u0435\\u0440\\u0436\\u0430\\u0432\\u0435\\u044e\\u0449\\u0430\\u044f \\u0441\\u0442\\u0430\\u043b\\u044c\",\"\\u041d\\u0435\\u0440\\u0436\\u0430\\u0432\\u0435\\u044e\\u0449\\u0430\\u044f \\u0441\\u0442\\u0430\\u043b\\u044c\",\"\\u041d\\u0435\\u0440\\u0436\\u0430\\u0432\\u0435\\u044e\\u0449\\u0430\\u044f \\u0441\\u0442\\u0430\\u043b\\u044c\",\"\\u041d\\u0435\\u0440\\u0436\\u0430\\u0432\\u0435\\u044e\\u0449\\u0430\\u044f \\u0441\\u0442\\u0430\\u043b\\u044c\",\"\\u041d\\u0435\\u0440\\u0436\\u0430\\u0432\\u0435\\u044e\\u0449\\u0430\\u044f \\u0441\\u0442\\u0430\\u043b\\u044c\",\"\\u041d\\u0435\\u0440\\u0436\\u0430\\u0432\\u0435\\u044e\\u0449\\u0430\\u044f \\u0441\\u0442\\u0430\\u043b\\u044c\",\"\\u041d\\u0435\\u0440\\u0436\\u0430\\u0432\\u0435\\u044e\\u0449\\u0430\\u044f \\u0441\\u0442\\u0430\\u043b\\u044c\",\"\\u041d\\u0435\\u0440\\u0436\\u0430\\u0432\\u0435\\u044e\\u0449\\u0430\\u044f \\u0441\\u0442\\u0430\\u043b\\u044c\",\"\\u041d\\u0435\\u0440\\u0436\\u0430\\u0432\\u0435\\u044e\\u0449\\u0430\\u044f \\u0441\\u0442\\u0430\\u043b\\u044c\",\"\\u041d\\u0435\\u0440\\u0436\\u0430\\u0432\\u0435\\u044e\\u0449\\u0430\\u044f \\u0441\\u0442\\u0430\\u043b\\u044c\",\"\\u041d\\u0435\\u0440\\u0436\\u0430\\u0432\\u0435\\u044e\\u0449\\u0430\\u044f \\u0441\\u0442\\u0430\\u043b\\u044c\",\"\\u041d\\u0435\\u0440\\u0436\\u0430\\u0432\\u0435\\u044e\\u0449\\u0430\\u044f \\u0441\\u0442\\u0430\\u043b\\u044c\",\"\\u041d\\u0435\\u0440\\u0436\\u0430\\u0432\\u0435\\u044e\\u0449\\u0430\\u044f \\u0441\\u0442\\u0430\\u043b\\u044c\",\"\\u041d\\u0435\\u0440\\u0436\\u0430\\u0432\\u0435\\u044e\\u0449\\u0430\\u044f \\u0441\\u0442\\u0430\\u043b\\u044c\",\"\\u041d\\u0435\\u0440\\u0436\\u0430\\u0432\\u0435\\u044e\\u0449\\u0430\\u044f \\u0441\\u0442\\u0430\\u043b\\u044c\",\"\\u041d\\u0435\\u0440\\u0436\\u0430\\u0432\\u0435\\u044e\\u0449\\u0430\\u044f \\u0441\\u0442\\u0430\\u043b\\u044c\",\"\\u041d\\u0435\\u0440\\u0436\\u0430\\u0432\\u0435\\u044e\\u0449\\u0430\\u044f \\u0441\\u0442\\u0430\\u043b\\u044c\",\"\\u041d\\u0435\\u0440\\u0436\\u0430\\u0432\\u0435\\u044e\\u0449\\u0430\\u044f \\u0441\\u0442\\u0430\\u043b\\u044c\",\"\\u041d\\u0435\\u0440\\u0436\\u0430\\u0432\\u0435\\u044e\\u0449\\u0430\\u044f \\u0441\\u0442\\u0430\\u043b\\u044c\",\"\\u041d\\u0435\\u0440\\u0436\\u0430\\u0432\\u0435\\u044e\\u0449\\u0430\\u044f \\u0441\\u0442\\u0430\\u043b\\u044c\",\"\\u041d\\u0435\\u0440\\u0436\\u0430\\u0432\\u0435\\u044e\\u0449\\u0430\\u044f \\u0441\\u0442\\u0430\\u043b\\u044c\",\"\\u041d\\u0435\\u0440\\u0436\\u0430\\u0432\\u0435\\u044e\\u0449\\u0430\\u044f \\u0441\\u0442\\u0430\\u043b\\u044c\",\"\\u041d\\u0435\\u0440\\u0436\\u0430\\u0432\\u0435\\u044e\\u0449\\u0430\\u044f \\u0441\\u0442\\u0430\\u043b\\u044c\",\"\\u041d\\u0435\\u0440\\u0436\\u0430\\u0432\\u0435\\u044e\\u0449\\u0430\\u044f \\u0441\\u0442\\u0430\\u043b\\u044c\",\"\\u041d\\u0435\\u0440\\u0436\\u0430\\u0432\\u0435\\u044e\\u0449\\u0430\\u044f \\u0441\\u0442\\u0430\\u043b\\u044c\",\"\\u041d\\u0435\\u0440\\u0436\\u0430\\u0432\\u0435\\u044e\\u0449\\u0430\\u044f \\u0441\\u0442\\u0430\\u043b\\u044c\",\"\\u041d\\u0435\\u0440\\u0436\\u0430\\u0432\\u0435\\u044e\\u0449\\u0430\\u044f \\u0441\\u0442\\u0430\\u043b\\u044c\",\"\\u041d\\u0435\\u0440\\u0436\\u0430\\u0432\\u0435\\u044e\\u0449\\u0430\\u044f \\u0441\\u0442\\u0430\\u043b\\u044c\",\"\\u041d\\u0435\\u0440\\u0436\\u0430\\u0432\\u0435\\u044e\\u0449\\u0430\\u044f \\u0441\\u0442\\u0430\\u043b\\u044c\",\"\\u041d\\u0435\\u0440\\u0436\\u0430\\u0432\\u0435\\u044e\\u0449\\u0430\\u044f \\u0441\\u0442\\u0430\\u043b\\u044c\",\"\\u041d\\u0435\\u0440\\u0436\\u0430\\u0432\\u0435\\u044e\\u0449\\u0430\\u044f \\u0441\\u0442\\u0430\\u043b\\u044c\",\"\\u041d\\u0435\\u0440\\u0436\\u0430\\u0432\\u0435\\u044e\\u0449\\u0430\\u044f \\u0441\\u0442\\u0430\\u043b\\u044c\",\"\\u041d\\u0435\\u0440\\u0436\\u0430\\u0432\\u0435\\u044e\\u0449\\u0430\\u044f \\u0441\\u0442\\u0430\\u043b\\u044c\",\"\\u041d\\u0435\\u0440\\u0436\\u0430\\u0432\\u0435\\u044e\\u0449\\u0430\\u044f \\u0441\\u0442\\u0430\\u043b\\u044c\",\"\\u041d\\u0435\\u0440\\u0436\\u0430\\u0432\\u0435\\u044e\\u0449\\u0430\\u044f \\u0441\\u0442\\u0430\\u043b\\u044c\",\"\\u041d\\u0435\\u0440\\u0436\\u0430\\u0432\\u0435\\u044e\\u0449\\u0430\\u044f \\u0441\\u0442\\u0430\\u043b\\u044c\"],\"xaxis\":\"x\",\"yaxis\":\"y\",\"type\":\"histogram\"}],                        {\"template\":{\"data\":{\"histogram2dcontour\":[{\"type\":\"histogram2dcontour\",\"colorbar\":{\"outlinewidth\":0,\"ticks\":\"\"},\"colorscale\":[[0.0,\"#0d0887\"],[0.1111111111111111,\"#46039f\"],[0.2222222222222222,\"#7201a8\"],[0.3333333333333333,\"#9c179e\"],[0.4444444444444444,\"#bd3786\"],[0.5555555555555556,\"#d8576b\"],[0.6666666666666666,\"#ed7953\"],[0.7777777777777778,\"#fb9f3a\"],[0.8888888888888888,\"#fdca26\"],[1.0,\"#f0f921\"]]}],\"choropleth\":[{\"type\":\"choropleth\",\"colorbar\":{\"outlinewidth\":0,\"ticks\":\"\"}}],\"histogram2d\":[{\"type\":\"histogram2d\",\"colorbar\":{\"outlinewidth\":0,\"ticks\":\"\"},\"colorscale\":[[0.0,\"#0d0887\"],[0.1111111111111111,\"#46039f\"],[0.2222222222222222,\"#7201a8\"],[0.3333333333333333,\"#9c179e\"],[0.4444444444444444,\"#bd3786\"],[0.5555555555555556,\"#d8576b\"],[0.6666666666666666,\"#ed7953\"],[0.7777777777777778,\"#fb9f3a\"],[0.8888888888888888,\"#fdca26\"],[1.0,\"#f0f921\"]]}],\"heatmap\":[{\"type\":\"heatmap\",\"colorbar\":{\"outlinewidth\":0,\"ticks\":\"\"},\"colorscale\":[[0.0,\"#0d0887\"],[0.1111111111111111,\"#46039f\"],[0.2222222222222222,\"#7201a8\"],[0.3333333333333333,\"#9c179e\"],[0.4444444444444444,\"#bd3786\"],[0.5555555555555556,\"#d8576b\"],[0.6666666666666666,\"#ed7953\"],[0.7777777777777778,\"#fb9f3a\"],[0.8888888888888888,\"#fdca26\"],[1.0,\"#f0f921\"]]}],\"heatmapgl\":[{\"type\":\"heatmapgl\",\"colorbar\":{\"outlinewidth\":0,\"ticks\":\"\"},\"colorscale\":[[0.0,\"#0d0887\"],[0.1111111111111111,\"#46039f\"],[0.2222222222222222,\"#7201a8\"],[0.3333333333333333,\"#9c179e\"],[0.4444444444444444,\"#bd3786\"],[0.5555555555555556,\"#d8576b\"],[0.6666666666666666,\"#ed7953\"],[0.7777777777777778,\"#fb9f3a\"],[0.8888888888888888,\"#fdca26\"],[1.0,\"#f0f921\"]]}],\"contourcarpet\":[{\"type\":\"contourcarpet\",\"colorbar\":{\"outlinewidth\":0,\"ticks\":\"\"}}],\"contour\":[{\"type\":\"contour\",\"colorbar\":{\"outlinewidth\":0,\"ticks\":\"\"},\"colorscale\":[[0.0,\"#0d0887\"],[0.1111111111111111,\"#46039f\"],[0.2222222222222222,\"#7201a8\"],[0.3333333333333333,\"#9c179e\"],[0.4444444444444444,\"#bd3786\"],[0.5555555555555556,\"#d8576b\"],[0.6666666666666666,\"#ed7953\"],[0.7777777777777778,\"#fb9f3a\"],[0.8888888888888888,\"#fdca26\"],[1.0,\"#f0f921\"]]}],\"surface\":[{\"type\":\"surface\",\"colorbar\":{\"outlinewidth\":0,\"ticks\":\"\"},\"colorscale\":[[0.0,\"#0d0887\"],[0.1111111111111111,\"#46039f\"],[0.2222222222222222,\"#7201a8\"],[0.3333333333333333,\"#9c179e\"],[0.4444444444444444,\"#bd3786\"],[0.5555555555555556,\"#d8576b\"],[0.6666666666666666,\"#ed7953\"],[0.7777777777777778,\"#fb9f3a\"],[0.8888888888888888,\"#fdca26\"],[1.0,\"#f0f921\"]]}],\"mesh3d\":[{\"type\":\"mesh3d\",\"colorbar\":{\"outlinewidth\":0,\"ticks\":\"\"}}],\"scatter\":[{\"fillpattern\":{\"fillmode\":\"overlay\",\"size\":10,\"solidity\":0.2},\"type\":\"scatter\"}],\"parcoords\":[{\"type\":\"parcoords\",\"line\":{\"colorbar\":{\"outlinewidth\":0,\"ticks\":\"\"}}}],\"scatterpolargl\":[{\"type\":\"scatterpolargl\",\"marker\":{\"colorbar\":{\"outlinewidth\":0,\"ticks\":\"\"}}}],\"bar\":[{\"error_x\":{\"color\":\"#2a3f5f\"},\"error_y\":{\"color\":\"#2a3f5f\"},\"marker\":{\"line\":{\"color\":\"#E5ECF6\",\"width\":0.5},\"pattern\":{\"fillmode\":\"overlay\",\"size\":10,\"solidity\":0.2}},\"type\":\"bar\"}],\"scattergeo\":[{\"type\":\"scattergeo\",\"marker\":{\"colorbar\":{\"outlinewidth\":0,\"ticks\":\"\"}}}],\"scatterpolar\":[{\"type\":\"scatterpolar\",\"marker\":{\"colorbar\":{\"outlinewidth\":0,\"ticks\":\"\"}}}],\"histogram\":[{\"marker\":{\"pattern\":{\"fillmode\":\"overlay\",\"size\":10,\"solidity\":0.2}},\"type\":\"histogram\"}],\"scattergl\":[{\"type\":\"scattergl\",\"marker\":{\"colorbar\":{\"outlinewidth\":0,\"ticks\":\"\"}}}],\"scatter3d\":[{\"type\":\"scatter3d\",\"line\":{\"colorbar\":{\"outlinewidth\":0,\"ticks\":\"\"}},\"marker\":{\"colorbar\":{\"outlinewidth\":0,\"ticks\":\"\"}}}],\"scattermapbox\":[{\"type\":\"scattermapbox\",\"marker\":{\"colorbar\":{\"outlinewidth\":0,\"ticks\":\"\"}}}],\"scatterternary\":[{\"type\":\"scatterternary\",\"marker\":{\"colorbar\":{\"outlinewidth\":0,\"ticks\":\"\"}}}],\"scattercarpet\":[{\"type\":\"scattercarpet\",\"marker\":{\"colorbar\":{\"outlinewidth\":0,\"ticks\":\"\"}}}],\"carpet\":[{\"aaxis\":{\"endlinecolor\":\"#2a3f5f\",\"gridcolor\":\"white\",\"linecolor\":\"white\",\"minorgridcolor\":\"white\",\"startlinecolor\":\"#2a3f5f\"},\"baxis\":{\"endlinecolor\":\"#2a3f5f\",\"gridcolor\":\"white\",\"linecolor\":\"white\",\"minorgridcolor\":\"white\",\"startlinecolor\":\"#2a3f5f\"},\"type\":\"carpet\"}],\"table\":[{\"cells\":{\"fill\":{\"color\":\"#EBF0F8\"},\"line\":{\"color\":\"white\"}},\"header\":{\"fill\":{\"color\":\"#C8D4E3\"},\"line\":{\"color\":\"white\"}},\"type\":\"table\"}],\"barpolar\":[{\"marker\":{\"line\":{\"color\":\"#E5ECF6\",\"width\":0.5},\"pattern\":{\"fillmode\":\"overlay\",\"size\":10,\"solidity\":0.2}},\"type\":\"barpolar\"}],\"pie\":[{\"automargin\":true,\"type\":\"pie\"}]},\"layout\":{\"autotypenumbers\":\"strict\",\"colorway\":[\"#636efa\",\"#EF553B\",\"#00cc96\",\"#ab63fa\",\"#FFA15A\",\"#19d3f3\",\"#FF6692\",\"#B6E880\",\"#FF97FF\",\"#FECB52\"],\"font\":{\"color\":\"#2a3f5f\"},\"hovermode\":\"closest\",\"hoverlabel\":{\"align\":\"left\"},\"paper_bgcolor\":\"white\",\"plot_bgcolor\":\"#E5ECF6\",\"polar\":{\"bgcolor\":\"#E5ECF6\",\"angularaxis\":{\"gridcolor\":\"white\",\"linecolor\":\"white\",\"ticks\":\"\"},\"radialaxis\":{\"gridcolor\":\"white\",\"linecolor\":\"white\",\"ticks\":\"\"}},\"ternary\":{\"bgcolor\":\"#E5ECF6\",\"aaxis\":{\"gridcolor\":\"white\",\"linecolor\":\"white\",\"ticks\":\"\"},\"baxis\":{\"gridcolor\":\"white\",\"linecolor\":\"white\",\"ticks\":\"\"},\"caxis\":{\"gridcolor\":\"white\",\"linecolor\":\"white\",\"ticks\":\"\"}},\"coloraxis\":{\"colorbar\":{\"outlinewidth\":0,\"ticks\":\"\"}},\"colorscale\":{\"sequential\":[[0.0,\"#0d0887\"],[0.1111111111111111,\"#46039f\"],[0.2222222222222222,\"#7201a8\"],[0.3333333333333333,\"#9c179e\"],[0.4444444444444444,\"#bd3786\"],[0.5555555555555556,\"#d8576b\"],[0.6666666666666666,\"#ed7953\"],[0.7777777777777778,\"#fb9f3a\"],[0.8888888888888888,\"#fdca26\"],[1.0,\"#f0f921\"]],\"sequentialminus\":[[0.0,\"#0d0887\"],[0.1111111111111111,\"#46039f\"],[0.2222222222222222,\"#7201a8\"],[0.3333333333333333,\"#9c179e\"],[0.4444444444444444,\"#bd3786\"],[0.5555555555555556,\"#d8576b\"],[0.6666666666666666,\"#ed7953\"],[0.7777777777777778,\"#fb9f3a\"],[0.8888888888888888,\"#fdca26\"],[1.0,\"#f0f921\"]],\"diverging\":[[0,\"#8e0152\"],[0.1,\"#c51b7d\"],[0.2,\"#de77ae\"],[0.3,\"#f1b6da\"],[0.4,\"#fde0ef\"],[0.5,\"#f7f7f7\"],[0.6,\"#e6f5d0\"],[0.7,\"#b8e186\"],[0.8,\"#7fbc41\"],[0.9,\"#4d9221\"],[1,\"#276419\"]]},\"xaxis\":{\"gridcolor\":\"white\",\"linecolor\":\"white\",\"ticks\":\"\",\"title\":{\"standoff\":15},\"zerolinecolor\":\"white\",\"automargin\":true,\"zerolinewidth\":2},\"yaxis\":{\"gridcolor\":\"white\",\"linecolor\":\"white\",\"ticks\":\"\",\"title\":{\"standoff\":15},\"zerolinecolor\":\"white\",\"automargin\":true,\"zerolinewidth\":2},\"scene\":{\"xaxis\":{\"backgroundcolor\":\"#E5ECF6\",\"gridcolor\":\"white\",\"linecolor\":\"white\",\"showbackground\":true,\"ticks\":\"\",\"zerolinecolor\":\"white\",\"gridwidth\":2},\"yaxis\":{\"backgroundcolor\":\"#E5ECF6\",\"gridcolor\":\"white\",\"linecolor\":\"white\",\"showbackground\":true,\"ticks\":\"\",\"zerolinecolor\":\"white\",\"gridwidth\":2},\"zaxis\":{\"backgroundcolor\":\"#E5ECF6\",\"gridcolor\":\"white\",\"linecolor\":\"white\",\"showbackground\":true,\"ticks\":\"\",\"zerolinecolor\":\"white\",\"gridwidth\":2}},\"shapedefaults\":{\"line\":{\"color\":\"#2a3f5f\"}},\"annotationdefaults\":{\"arrowcolor\":\"#2a3f5f\",\"arrowhead\":0,\"arrowwidth\":1},\"geo\":{\"bgcolor\":\"white\",\"landcolor\":\"#E5ECF6\",\"subunitcolor\":\"white\",\"showland\":true,\"showlakes\":true,\"lakecolor\":\"white\"},\"title\":{\"x\":0.05},\"mapbox\":{\"style\":\"light\"}}},\"xaxis\":{\"anchor\":\"y\",\"domain\":[0.0,1.0],\"title\":{\"text\":\"\\u041a\\u043b\\u0430\\u0441\\u0441\"}},\"yaxis\":{\"anchor\":\"x\",\"domain\":[0.0,1.0],\"title\":{\"text\":\"count\"}},\"legend\":{\"tracegroupgap\":0},\"margin\":{\"t\":60},\"barmode\":\"relative\"},                        {\"responsive\": true}                    ).then(function(){\n",
       "                            \n",
       "var gd = document.getElementById('824970ee-1996-493b-9b89-440e3b3d883b');\n",
       "var x = new MutationObserver(function (mutations, observer) {{\n",
       "        var display = window.getComputedStyle(gd).display;\n",
       "        if (!display || display === 'none') {{\n",
       "            console.log([gd, 'removed!']);\n",
       "            Plotly.purge(gd);\n",
       "            observer.disconnect();\n",
       "        }}\n",
       "}});\n",
       "\n",
       "// Listen for the removal of the full notebook cells\n",
       "var notebookContainer = gd.closest('#notebook-container');\n",
       "if (notebookContainer) {{\n",
       "    x.observe(notebookContainer, {childList: true});\n",
       "}}\n",
       "\n",
       "// Listen for the clearing of the current output cell\n",
       "var outputEl = gd.closest('.output');\n",
       "if (outputEl) {{\n",
       "    x.observe(outputEl, {childList: true});\n",
       "}}\n",
       "\n",
       "                        })                };                });            </script>        </div>"
      ]
     },
     "metadata": {},
     "output_type": "display_data"
    }
   ],
   "source": [
    "class_hist_all(data)"
   ]
  },
  {
   "cell_type": "code",
   "execution_count": 87,
   "id": "eb29d7d2",
   "metadata": {},
   "outputs": [],
   "source": [
    "#строим матрицу корреляций\n",
    "import seaborn as sns\n",
    "\n",
    "def corr(data):\n",
    "    corr_map = sns.heatmap(data.corr(), vmin=-1, vmax=1, center= 0, cmap= 'coolwarm', square=True)\n",
    "    fig = corr_map.get_figure()\n",
    "    filename = uuid.uuid4().hex\n",
    "    fig.savefig(f'D:/python/SLM/temp/{filename}.png')\n",
    "    return corr_map"
   ]
  },
  {
   "cell_type": "code",
   "execution_count": 88,
   "id": "9d0d692f",
   "metadata": {},
   "outputs": [
    {
     "data": {
      "text/plain": [
       "<AxesSubplot:>"
      ]
     },
     "execution_count": 88,
     "metadata": {},
     "output_type": "execute_result"
    },
    {
     "data": {
      "image/png": "[encoded data removed]",
      "text/plain": [
       "<Figure size 640x480 with 2 Axes>"
      ]
     },
     "metadata": {},
     "output_type": "display_data"
    }
   ],
   "source": [
    "corr(data)"
   ]
  },
  {
   "cell_type": "code",
   "execution_count": 89,
   "id": "dedcc617",
   "metadata": {},
   "outputs": [],
   "source": [
    "#гистограмма распределения предела прочности\n",
    "def stress_hist(data):\n",
    "    sns_plot = sns.histplot(data['Предел прочности. МПа'], kde=True)\n",
    "    fig = sns_plot.get_figure()\n",
    "    filename = uuid.uuid4().hex\n",
    "    fig.savefig(f'D:/python/SLM/temp/{filename}.png')\n",
    "    return sns_plot\n"
   ]
  },
  {
   "cell_type": "code",
   "execution_count": 90,
   "id": "c860ebde",
   "metadata": {},
   "outputs": [
    {
     "data": {
      "text/plain": [
       "<AxesSubplot:xlabel='Предел прочности. МПа', ylabel='Count'>"
      ]
     },
     "execution_count": 90,
     "metadata": {},
     "output_type": "execute_result"
    },
    {
     "data": {
      "image/png": "[encoded data removed]",
      "text/plain": [
       "<Figure size 640x480 with 1 Axes>"
      ]
     },
     "metadata": {},
     "output_type": "display_data"
    }
   ],
   "source": [
    "stress_hist(data)"
   ]
  },
  {
   "cell_type": "code",
   "execution_count": null,
   "id": "1e2b6d94",
   "metadata": {},
   "outputs": [],
   "source": [
    "#гистограмма распределения предела прочности\n",
    "def stress_hist(data):\n",
    "    sns_plot = sns.histplot(data['Предел прочности. МПа'], kde=True)\n",
    "    fig = sns_plot.get_figure()\n",
    "    filename = uuid.uuid4().hex\n",
    "    fig.savefig(f'D:/python/SLM/temp/{filename}.png')\n",
    "    return sns_plot\n"
   ]
  }
 ],
 "metadata": {
  "kernelspec": {
   "display_name": "Python 3",
   "language": "python",
   "name": "python3"
  },
  "language_info": {
   "codemirror_mode": {
    "name": "ipython",
    "version": 3
   },
   "file_extension": ".py",
   "mimetype": "text/x-python",
   "name": "python",
   "nbconvert_exporter": "python",
   "pygments_lexer": "ipython3",
   "version": "3.9.7"
  }
 },
 "nbformat": 4,
 "nbformat_minor": 5
}
